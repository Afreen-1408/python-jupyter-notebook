{
 "cells": [
  {
   "cell_type": "markdown",
   "id": "cd9cde01",
   "metadata": {},
   "source": [
    "# 1.Write a Python function to find the Max of three numbers.\n"
   ]
  },
  {
   "cell_type": "code",
   "execution_count": 2,
   "id": "d2b0c2f6",
   "metadata": {},
   "outputs": [
    {
     "name": "stdout",
     "output_type": "stream",
     "text": [
      "anter the first number:6\n",
      "anter the secnd number:7\n",
      "anter the thrd number:9\n",
      "9 is largest\n"
     ]
    }
   ],
   "source": [
    "def larg(a,b,c):\n",
    "    if a>b:\n",
    "        if a>c:\n",
    "            print(a, \"is largest\")\n",
    "        else:\n",
    "            print(c, \"is lardest\")\n",
    "    else:\n",
    "        if b>c:\n",
    "            print(b, \"is largest\") \n",
    "        else:\n",
    "            print(c, \"is largest\")\n",
    "                \n",
    "a =int(input(\"anter the first number:\"))  \n",
    "b =int(input(\"anter the secnd number:\")) \n",
    "c =int(input(\"anter the thrd number:\"))\n",
    "larg(a,b,c)\n",
    "    "
   ]
  },
  {
   "cell_type": "markdown",
   "id": "6fb6d2ad",
   "metadata": {},
   "source": [
    "# 2.define a function that accepts 2 values and return its sum, subtraction and multiplication...."
   ]
  },
  {
   "cell_type": "code",
   "execution_count": 1,
   "id": "0209e74b",
   "metadata": {},
   "outputs": [
    {
     "name": "stdout",
     "output_type": "stream",
     "text": [
      "enter the number:4\n",
      "4 * 1 = 4\n",
      "4 * 2 = 8\n",
      "4 * 3 = 12\n",
      "4 * 4 = 16\n",
      "4 * 5 = 20\n",
      "4 * 6 = 24\n",
      "4 * 7 = 28\n",
      "4 * 8 = 32\n",
      "4 * 9 = 36\n",
      "4 * 10 = 40\n"
     ]
    }
   ],
   "source": [
    "def multi():\n",
    "    a=int(input(\"enter the number:\"))\n",
    "    for i in range(1,11):\n",
    "        b=a*i\n",
    "        print(a,\"*\",i,\"=\",b) \n",
    "        \n",
    "multi() "
   ]
  },
  {
   "cell_type": "markdown",
   "id": "f35f2195",
   "metadata": {},
   "source": [
    "# Q.3 Add two number by using function from user:"
   ]
  },
  {
   "cell_type": "code",
   "execution_count": 3,
   "id": "8def1b1a",
   "metadata": {},
   "outputs": [
    {
     "name": "stdout",
     "output_type": "stream",
     "text": [
      "enter the 1st number:7\n",
      "enter the 2nd number:7\n",
      "14\n"
     ]
    }
   ],
   "source": [
    "def add():\n",
    "    a=int(input(\"enter the 1st number:\"))\n",
    "    b=int(input(\"enter the 2nd number:\"))\n",
    "    c=a+b\n",
    "    print(c)\n",
    "add()    \n",
    "    "
   ]
  },
  {
   "cell_type": "code",
   "execution_count": 42,
   "id": "4a38fdf6",
   "metadata": {},
   "outputs": [
    {
     "name": "stdout",
     "output_type": "stream",
     "text": [
      "4 + 5 = 9\n"
     ]
    }
   ],
   "source": [
    "def add(a,b):\n",
    "    c=a+b\n",
    "    print(a,\"+\",b,\"=\",c)\n",
    "add(4,5)\n"
   ]
  },
  {
   "cell_type": "markdown",
   "id": "4f618a98",
   "metadata": {},
   "source": [
    "# Q.4 Substrac two number by using function from  user:"
   ]
  },
  {
   "cell_type": "code",
   "execution_count": 38,
   "id": "41c7a92a",
   "metadata": {},
   "outputs": [
    {
     "name": "stdout",
     "output_type": "stream",
     "text": [
      "enter the 1st number:5\n",
      "enter the 2nd number:4\n",
      "1\n"
     ]
    }
   ],
   "source": [
    "def subs():\n",
    "    a=int(input(\"enter the 1st number:\"))\n",
    "    b=int(input(\"enter the 2nd number:\"))\n",
    "    c=a-b\n",
    "    print(c)\n",
    "subs() "
   ]
  },
  {
   "cell_type": "code",
   "execution_count": 43,
   "id": "a351e8b6",
   "metadata": {},
   "outputs": [
    {
     "name": "stdout",
     "output_type": "stream",
     "text": [
      "10 - 4 = 6\n"
     ]
    }
   ],
   "source": [
    "def subs(a,b):\n",
    "    c=a-b\n",
    "    print(a,\"-\",b,\"=\",c)\n",
    "subs(10,4)    "
   ]
  },
  {
   "cell_type": "markdown",
   "id": "d41486e1",
   "metadata": {},
   "source": [
    "# Q.5 Multiply the two number usnig function from user:"
   ]
  },
  {
   "cell_type": "code",
   "execution_count": 41,
   "id": "6b076244",
   "metadata": {},
   "outputs": [
    {
     "name": "stdout",
     "output_type": "stream",
     "text": [
      "4 * 1 = 4\n",
      "4 * 2 = 8\n",
      "4 * 3 = 12\n",
      "4 * 4 = 16\n",
      "4 * 5 = 20\n",
      "4 * 6 = 24\n",
      "4 * 7 = 28\n",
      "4 * 8 = 32\n",
      "4 * 9 = 36\n",
      "4 * 10 = 40\n"
     ]
    }
   ],
   "source": [
    "def multi(a):\n",
    "    for i in range(1,11):\n",
    "        b=a*i\n",
    "        print(a,\"*\",i,\"=\",b)         \n",
    "multi(4)       "
   ]
  },
  {
   "cell_type": "markdown",
   "id": "57bccf62",
   "metadata": {},
   "source": [
    "# Q.6 create normal calculator:"
   ]
  },
  {
   "cell_type": "code",
   "execution_count": 36,
   "id": "0e84e88c",
   "metadata": {},
   "outputs": [
    {
     "name": "stdout",
     "output_type": "stream",
     "text": [
      "4 + 2 = 6\n",
      "4 - 2 = 2\n",
      "4 * 2 = 8\n",
      "4 // 2 = 2\n"
     ]
    }
   ],
   "source": [
    "def function(a,b):\n",
    "    add=a+b\n",
    "    subt=a-b\n",
    "    multi=a*b\n",
    "    div=a//b\n",
    "    print(a,\"+\",b,\"=\",add)\n",
    "    print(a,\"-\",b,\"=\",subt)\n",
    "    print(a,\"*\",b,\"=\",multi)\n",
    "    print(a,\"//\",b,\"=\",div)\n",
    "function(4,2)    \n",
    "    \n",
    "\n",
    "\n",
    "\n"
   ]
  },
  {
   "cell_type": "code",
   "execution_count": 39,
   "id": "dfae5c4e",
   "metadata": {},
   "outputs": [
    {
     "name": "stdout",
     "output_type": "stream",
     "text": [
      "enter the second numbar:4\n",
      "enter the second numbar:4\n",
      "this is the addition of two number: 8\n"
     ]
    }
   ],
   "source": [
    "y=int(input(\"enter the second numbar:\"))\n",
    "y=int(input(\"enter the second numbar:\"))\n",
    "print(\"this is the addition of two number:\",x+y)\n"
   ]
  },
  {
   "cell_type": "markdown",
   "id": "700d88dc",
   "metadata": {},
   "source": [
    "# Q.7 Write a Python function to multiply all the numbers in a list."
   ]
  },
  {
   "cell_type": "code",
   "execution_count": 13,
   "id": "8d35559d",
   "metadata": {},
   "outputs": [
    {
     "name": "stdout",
     "output_type": "stream",
     "text": [
      "8\n"
     ]
    }
   ],
   "source": [
    "from  functools import reduce\n",
    "def func(a,b):\n",
    "    return a*b    \n",
    "l = [2,2,2]\n",
    "result = reduce(func,l)    \n",
    "print(result)"
   ]
  },
  {
   "cell_type": "markdown",
   "id": "c43021cc",
   "metadata": {},
   "source": [
    "# multiply list  item  and plus by using  lambda function: "
   ]
  },
  {
   "cell_type": "code",
   "execution_count": 16,
   "id": "61f005b2",
   "metadata": {},
   "outputs": [
    {
     "name": "stdout",
     "output_type": "stream",
     "text": [
      "8\n"
     ]
    }
   ],
   "source": [
    "a = [2,4]\n",
    "b = reduce(lambda x,y: x*y, a)\n",
    "print(b)"
   ]
  },
  {
   "cell_type": "markdown",
   "id": "e3030e0a",
   "metadata": {},
   "source": [
    "# Q.8 Write a Python function to calculate the factorial of a number (a non-negative integer). \n",
    "# The function accepts the number as an argument\n",
    "\n"
   ]
  },
  {
   "cell_type": "code",
   "execution_count": 17,
   "id": "4cd9e827",
   "metadata": {},
   "outputs": [
    {
     "name": "stdout",
     "output_type": "stream",
     "text": [
      "8\n",
      "56\n",
      "336\n",
      "1680\n",
      "6720\n",
      "20160\n",
      "40320\n",
      "40320\n"
     ]
    }
   ],
   "source": [
    "def fact(i):\n",
    "    fac=1\n",
    "    while(i>0):\n",
    "        fac=fac*i\n",
    "        i=i-1\n",
    "        print(fac)\n",
    "fact(8)                "
   ]
  },
  {
   "cell_type": "code",
   "execution_count": 27,
   "id": "b2bb4616",
   "metadata": {
    "scrolled": true
   },
   "outputs": [
    {
     "name": "stdout",
     "output_type": "stream",
     "text": [
      "Enter the Number:8\n",
      "factorial = 8\n",
      "factorial = 56\n",
      "factorial = 336\n",
      "factorial = 1680\n",
      "factorial = 6720\n",
      "factorial = 20160\n",
      "factorial = 40320\n",
      "factorial = 40320\n"
     ]
    }
   ],
   "source": [
    "i = int(input(\"Enter the Number:\"))\n",
    "fac=1\n",
    "while(i>0):\n",
    "    fac=fac*i\n",
    "    i=i-1\n",
    "     \n",
    "    print(\"factorial =\",fac)"
   ]
  },
  {
   "cell_type": "markdown",
   "id": "662eabd8",
   "metadata": {},
   "source": [
    "# Q.9 Write a Python function to create and print a list where\n",
    " # the values are square of numbers between 1 and 30 (both included).\n"
   ]
  },
  {
   "cell_type": "code",
   "execution_count": 1,
   "id": "896cfe6f",
   "metadata": {},
   "outputs": [
    {
     "name": "stdout",
     "output_type": "stream",
     "text": [
      "[1, 4, 9, 16, 25, 36, 49, 64, 81, 100, 121, 144, 169, 196, 225, 256, 289, 324, 361, 400, 441, 484, 529, 576, 625, 676, 729, 784, 841, 900]\n"
     ]
    }
   ],
   "source": [
    "def fun():\n",
    "    square = [a**2 for a in range(1,31)]\n",
    "    print(square) \n",
    "fun()\n",
    "    "
   ]
  },
  {
   "cell_type": "markdown",
   "id": "d7e8be23",
   "metadata": {},
   "source": [
    "# without the function:"
   ]
  },
  {
   "cell_type": "code",
   "execution_count": 2,
   "id": "e3d0bb18",
   "metadata": {},
   "outputs": [
    {
     "name": "stdout",
     "output_type": "stream",
     "text": [
      "[1, 4, 9, 16, 25, 36, 49, 64, 81, 100, 121, 144, 169, 196, 225, 256, 289, 324, 361, 400, 441, 484, 529, 576, 625, 676, 729, 784, 841, 900]\n"
     ]
    }
   ],
   "source": [
    "square = [a**2 for a in range(1,31)]\n",
    "print(square)"
   ]
  },
  {
   "cell_type": "markdown",
   "id": "3f8198c6",
   "metadata": {},
   "source": [
    "# Q.10 Write a Python function that accepts a string and \n",
    "#   calculate the number of upper case letters and lower case letters"
   ]
  },
  {
   "cell_type": "code",
   "execution_count": 18,
   "id": "0be0dedf",
   "metadata": {},
   "outputs": [
    {
     "name": "stdout",
     "output_type": "stream",
     "text": [
      "Enter the str:aFREEN\n",
      "upper letter in strint: 5\n",
      "lower letter in string: 1\n"
     ]
    }
   ],
   "source": [
    "def fun(STR):\n",
    "    n1=0\n",
    "    n2=0\n",
    "    for i in STR:\n",
    "        if i.isupper():\n",
    "            n1=n1+1\n",
    "        else:\n",
    "            i.islower()\n",
    "            n2=n2+1\n",
    "    print(\"upper letter in strint:\",n1)            \n",
    "    print(\"lower letter in string:\",n2)    \n",
    "s = str(input(\"Enter the str:\"))        \n",
    "fun(s)    \n",
    "    "
   ]
  },
  {
   "cell_type": "markdown",
   "id": "c004368f",
   "metadata": {},
   "source": [
    "# Q.11 Define a function that accepts roll number and returns whether the student is present or absent."
   ]
  },
  {
   "cell_type": "code",
   "execution_count": 22,
   "id": "dd0cf76c",
   "metadata": {},
   "outputs": [
    {
     "name": "stdout",
     "output_type": "stream",
     "text": [
      "Enter the rollno:54\n",
      "student is absent:\n"
     ]
    }
   ],
   "source": [
    "def rollno(a):\n",
    "    list1=[1,2,3,4,5]\n",
    "    if a in list1:\n",
    "        print(\"student is present:\")\n",
    "    else:\n",
    "        print(\"student is absent:\")\n",
    "a=int(input(\"Enter the rollno:\"))        \n",
    "rollno(a)    "
   ]
  },
  {
   "cell_type": "markdown",
   "id": "93afdcc6",
   "metadata": {},
   "source": [
    "# Q.12 Define a function which counts vowels and consonant in a word.\n"
   ]
  },
  {
   "cell_type": "code",
   "execution_count": 25,
   "id": "12854927",
   "metadata": {
    "scrolled": true
   },
   "outputs": [
    {
     "name": "stdout",
     "output_type": "stream",
     "text": [
      "Enter string:afreen\n",
      "Totel Vowel: 3\n",
      "Totel Cons: 3\n"
     ]
    }
   ],
   "source": [
    "\n",
    "a=input(\"Enter string:\")\n",
    "vowel=0\n",
    "cons=0\n",
    "for i in range(0,len(a)):\n",
    "    if (a[i] !=' '):\n",
    "        if(a[i]=='a' or a[i]=='e' or a[i]=='i' or a[i]=='o'\n",
    "          or a[i]=='u' or a[i]=='A' or a[i]=='E' or a[i]=='I' \n",
    "          or a[i]=='O' or a[i]=='u '):\n",
    "            vowel=vowel+1\n",
    "        else:\n",
    "            cons=cons+1\n",
    "print(\"Totel Vowel:\",vowel)\n",
    "print(\"Totel Cons:\",cons)\n"
   ]
  },
  {
   "cell_type": "markdown",
   "id": "48fda395",
   "metadata": {},
   "source": [
    "# Q.13 Define a function that accepts radius and returns the area of a circle."
   ]
  },
  {
   "cell_type": "code",
   "execution_count": 42,
   "id": "7ce89758",
   "metadata": {},
   "outputs": [
    {
     "name": "stdout",
     "output_type": "stream",
     "text": [
      "Enter the radiius of circle:4\n",
      "50.24\n"
     ]
    }
   ],
   "source": [
    "radius =float(input('Enter the radiius of circle:'))\n",
    "area = 3.14*radius*radius\n",
    "print(area)\n"
   ]
  },
  {
   "cell_type": "markdown",
   "id": "0c640467",
   "metadata": {},
   "source": [
    "# By using function:"
   ]
  },
  {
   "cell_type": "code",
   "execution_count": 26,
   "id": "2883a34d",
   "metadata": {},
   "outputs": [
    {
     "name": "stdout",
     "output_type": "stream",
     "text": [
      "Enter radius of circle :9\n",
      "Area of Circle is:  254.34\n"
     ]
    }
   ],
   "source": [
    "def area(radius):\n",
    "    a = 3.14*radius*radius\n",
    "    return a\n",
    "r = float(input(\"Enter radius of circle :\"))\n",
    "a=area(r)\n",
    "print(\"Area of Circle is: \", a)\n"
   ]
  },
  {
   "cell_type": "markdown",
   "id": "61a87f31",
   "metadata": {},
   "source": [
    "# IMPORT JSON :"
   ]
  },
  {
   "cell_type": "code",
   "execution_count": 13,
   "id": "3c3b4024",
   "metadata": {},
   "outputs": [
    {
     "name": "stdout",
     "output_type": "stream",
     "text": [
      "[{'A': '234'}, {'B': '243'}]\n",
      "<class 'list'>\n"
     ]
    }
   ],
   "source": [
    "import json\n",
    "Q = '[{\"A\":\"234\"}, {\"B\":\"243\"}]'\n",
    "x = json.loads(Q)\n",
    "print(x)\n",
    "print(type(x))"
   ]
  },
  {
   "cell_type": "code",
   "execution_count": 15,
   "id": "c4cc347a",
   "metadata": {},
   "outputs": [
    {
     "name": "stdout",
     "output_type": "stream",
     "text": [
      "[{\"A\": \"234\"}, {\"B\": \"243\"}]\n",
      "<class 'str'>\n"
     ]
    }
   ],
   "source": [
    "import json\n",
    "Q = [{\"A\":\"234\"}, {\"B\":\"243\"}]\n",
    "x = json.dumps(Q)\n",
    "print(x)\n",
    "print(type(x))"
   ]
  },
  {
   "cell_type": "markdown",
   "id": "907569a6",
   "metadata": {},
   "source": [
    "from flask import jsonif,flask\n",
    "Q = '[{\"A\":\"234\"}, {\"B\":\"243\"}]'\n",
    "x = jsonify(Q)\n",
    "print(x)"
   ]
  },
  {
   "cell_type": "markdown",
   "id": "1705e226",
   "metadata": {},
   "source": [
    "from jsonify import convert\n",
    "convert.jsonify(\"file.csv\")"
   ]
  },
  {
   "cell_type": "code",
   "execution_count": 2,
   "id": "24aa3219",
   "metadata": {},
   "outputs": [
    {
     "name": "stdout",
     "output_type": "stream",
     "text": [
      "sorry sorry sorry sorry sorry sorry sorry sorry sorry sorry sorry sorry sorry sorry sorry sorry sorry sorry sorry sorry sorry sorry sorry sorry sorry sorry sorry sorry sorry sorry sorry sorry sorry sorry sorry sorry sorry sorry sorry sorry sorry sorry sorry sorry sorry sorry sorry sorry sorry sorry sorry sorry sorry sorry sorry sorry sorry sorry sorry sorry sorry sorry sorry sorry sorry sorry sorry sorry sorry sorry sorry sorry sorry sorry sorry sorry sorry sorry sorry sorry sorry sorry sorry sorry sorry sorry sorry sorry sorry sorry sorry sorry sorry sorry sorry sorry sorry sorry sorry sorry \n"
     ]
    }
   ],
   "source": [
    "a = \"sorry \"\n",
    "z = a * 100\n",
    "print(z)"
   ]
  },
  {
   "cell_type": "code",
   "execution_count": null,
   "id": "3a513b49",
   "metadata": {},
   "outputs": [],
   "source": []
  }
 ],
 "metadata": {
  "kernelspec": {
   "display_name": "Python 3 (ipykernel)",
   "language": "python",
   "name": "python3"
  },
  "language_info": {
   "codemirror_mode": {
    "name": "ipython",
    "version": 3
   },
   "file_extension": ".py",
   "mimetype": "text/x-python",
   "name": "python",
   "nbconvert_exporter": "python",
   "pygments_lexer": "ipython3",
   "version": "3.10.7"
  }
 },
 "nbformat": 4,
 "nbformat_minor": 5
}
