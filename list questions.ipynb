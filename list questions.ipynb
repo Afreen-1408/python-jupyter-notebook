{
 "cells": [
  {
   "cell_type": "markdown",
   "id": "32c67069",
   "metadata": {},
   "source": [
    "# List questions"
   ]
  },
  {
   "cell_type": "markdown",
   "id": "67cabe39",
   "metadata": {},
   "source": [
    "# 1.To create 5 different list using list comprehension method.\n"
   ]
  },
  {
   "cell_type": "code",
   "execution_count": 12,
   "id": "5689ef8d",
   "metadata": {},
   "outputs": [
    {
     "name": "stdout",
     "output_type": "stream",
     "text": [
      "['apple', 'cherry', 'pineapple', 'greps']\n"
     ]
    }
   ],
   "source": [
    "fruits = [\"apple\", \"banana\", \"cherry\", \"kiwi\", \"mango\", \"pineapple\", \"greps\"]\n",
    "\n",
    "newlist = [x for x in fruits if \"e\" in x]\n",
    "  \n",
    "print(newlist)"
   ]
  },
  {
   "cell_type": "code",
   "execution_count": 7,
   "id": "62d5909e",
   "metadata": {},
   "outputs": [
    {
     "name": "stdout",
     "output_type": "stream",
     "text": [
      "['apple', 'banana', 'cherry', 'mango']\n"
     ]
    }
   ],
   "source": [
    "fruits = [\"apple\", \"banana\", \"cherry\", \"kiwi\", \"mango\"]\n",
    "\n",
    "newlists = [x for x in fruits if x != \"kiwi\"]\n",
    "\n",
    "print(newlists)"
   ]
  },
  {
   "cell_type": "code",
   "execution_count": 9,
   "id": "af2f6db7",
   "metadata": {},
   "outputs": [
    {
     "name": "stdout",
     "output_type": "stream",
     "text": [
      "[0, 1, 2, 3, 4, 5, 6, 7, 8, 9, 10]\n"
     ]
    }
   ],
   "source": [
    "lists = [x for x in range(11)]\n",
    "print(lists)"
   ]
  },
  {
   "cell_type": "code",
   "execution_count": 15,
   "id": "28259fb4",
   "metadata": {},
   "outputs": [
    {
     "name": "stdout",
     "output_type": "stream",
     "text": [
      "[0, 1, 2, 3, 4, 5, 6]\n"
     ]
    }
   ],
   "source": [
    "list = [x for x in range(10) if x < 7]\n",
    "print(list)"
   ]
  },
  {
   "cell_type": "code",
   "execution_count": 17,
   "id": "e80aa4aa",
   "metadata": {},
   "outputs": [
    {
     "name": "stdout",
     "output_type": "stream",
     "text": [
      "['APPLE', 'BANANA', 'CHERRY', 'KIWI', 'MANGO']\n"
     ]
    }
   ],
   "source": [
    "fruits = [\"apple\", \"banana\", \"cherry\", \"kiwi\", \"mango\"]\n",
    "\n",
    "list =[x.upper() for x in fruits]\n",
    " \n",
    "print(list)    "
   ]
  },
  {
   "cell_type": "code",
   "execution_count": 18,
   "id": "44aca461",
   "metadata": {},
   "outputs": [
    {
     "name": "stdout",
     "output_type": "stream",
     "text": [
      "['hello', 'hello', 'hello', 'hello', 'hello']\n"
     ]
    }
   ],
   "source": [
    "fruits = [\"apple\", \"banana\", \"cherry\", \"kiwi\", \"mango\"]\n",
    "\n",
    "newlist = ['hello' for x in fruits]\n",
    "print((newlist))"
   ]
  },
  {
   "cell_type": "code",
   "execution_count": 19,
   "id": "9885b46a",
   "metadata": {},
   "outputs": [
    {
     "name": "stdout",
     "output_type": "stream",
     "text": [
      "['apple', 'orange', 'cherry', 'kiwi', 'mango']\n"
     ]
    }
   ],
   "source": [
    "fruits = [\"apple\", \"banana\", \"cherry\", \"kiwi\", \"mango\"]\n",
    "      \n",
    "list =  [x if x != \"banana\" else \"orange\" for x in fruits]\n",
    "print(list)"
   ]
  },
  {
   "cell_type": "markdown",
   "id": "cbec63d8",
   "metadata": {},
   "source": [
    "# 2.Create list , add random 10 numbers in list and print largest number\n",
    "# of list."
   ]
  },
  {
   "cell_type": "code",
   "execution_count": 23,
   "id": "54e31686",
   "metadata": {},
   "outputs": [
    {
     "name": "stdout",
     "output_type": "stream",
     "text": [
      "87\n",
      "3\n"
     ]
    }
   ],
   "source": [
    "a = [3,4,5,6,87,42]\n",
    "print(max(a))\n",
    "a = [3,4,5,6,87,42]\n",
    "print(min(a))"
   ]
  },
  {
   "cell_type": "code",
   "execution_count": 9,
   "id": "fe7f3042",
   "metadata": {},
   "outputs": [
    {
     "name": "stdout",
     "output_type": "stream",
     "text": [
      "largest number is: 98\n"
     ]
    }
   ],
   "source": [
    "mylist = [12,43,56,87,98,45,13]\n",
    "print(\"largest number is:\",max(mylist))"
   ]
  },
  {
   "cell_type": "markdown",
   "id": "15c078b2",
   "metadata": {},
   "source": [
    "# without using max function:"
   ]
  },
  {
   "cell_type": "code",
   "execution_count": 7,
   "id": "7ad9fd6a",
   "metadata": {},
   "outputs": [
    {
     "name": "stdout",
     "output_type": "stream",
     "text": [
      "98\n"
     ]
    }
   ],
   "source": [
    "a = [67,89,43,23,12,98,25]\n",
    "b = 0\n",
    "for i in a:\n",
    "    if i>b:\n",
    "        b=i\n",
    "print(b)"
   ]
  },
  {
   "cell_type": "markdown",
   "id": "9d3e2f83",
   "metadata": {},
   "source": [
    "# universal code using function:"
   ]
  },
  {
   "cell_type": "code",
   "execution_count": 8,
   "id": "0f32c171",
   "metadata": {},
   "outputs": [
    {
     "data": {
      "text/plain": [
       "89"
      ]
     },
     "execution_count": 8,
     "metadata": {},
     "output_type": "execute_result"
    }
   ],
   "source": [
    "def max_num(a):\n",
    "    b = 0\n",
    "    for i in a:\n",
    "        if i>b:\n",
    "            b=i\n",
    "    return b\n",
    "x = [3,48,65,89,80,32,57]\n",
    "max_num(x)        "
   ]
  },
  {
   "cell_type": "markdown",
   "id": "91ae7047",
   "metadata": {},
   "source": [
    "# 2.Create list , add random 10 numbers in list and print smallest number\n",
    "# of list."
   ]
  },
  {
   "cell_type": "code",
   "execution_count": 10,
   "id": "e5c6b12b",
   "metadata": {},
   "outputs": [
    {
     "name": "stdout",
     "output_type": "stream",
     "text": [
      "minimum number in given list: 12\n"
     ]
    }
   ],
   "source": [
    "mylist = [12,43,56,87,98,45,13]\n",
    "print(\"minimum number in given list:\", min(mylist))"
   ]
  },
  {
   "cell_type": "markdown",
   "id": "78edf6ae",
   "metadata": {},
   "source": [
    "# without using min function:"
   ]
  },
  {
   "cell_type": "code",
   "execution_count": 11,
   "id": "8b49866a",
   "metadata": {},
   "outputs": [
    {
     "name": "stdout",
     "output_type": "stream",
     "text": [
      "12\n"
     ]
    }
   ],
   "source": [
    "a = [12,43,56,87,98,45,13]\n",
    "b = 12\n",
    "for i in a:                                        # HAMESHA PEHELE HI VALUE DENA HAI LIST KI\n",
    "    if i<b:\n",
    "        b=i\n",
    "print(b)        \n"
   ]
  },
  {
   "cell_type": "markdown",
   "id": "643598f2",
   "metadata": {},
   "source": [
    "# code using function:"
   ]
  },
  {
   "cell_type": "code",
   "execution_count": 20,
   "id": "999dbb05",
   "metadata": {},
   "outputs": [
    {
     "data": {
      "text/plain": [
       "8"
      ]
     },
     "execution_count": 20,
     "metadata": {},
     "output_type": "execute_result"
    }
   ],
   "source": [
    "def min_num(a):\n",
    "    b = 12\n",
    "    for i in a:\n",
    "        if i<b:\n",
    "            b=i\n",
    "    return b        \n",
    "x = [12,43,56,87,8,45,13]\n",
    "min_num(x)"
   ]
  },
  {
   "cell_type": "markdown",
   "id": "c9fea051",
   "metadata": {},
   "source": [
    "# find minimum number of a given list universal function:\n"
   ]
  },
  {
   "cell_type": "code",
   "execution_count": 85,
   "id": "6ea3a2c8",
   "metadata": {},
   "outputs": [
    {
     "name": "stdout",
     "output_type": "stream",
     "text": [
      "10\n"
     ]
    }
   ],
   "source": [
    "a = [32,12,25,37,75,87,10]\n",
    "b = a[0]\n",
    "for i in a:\n",
    "    if i<b:\n",
    "        b = i\n",
    "print(b)        "
   ]
  },
  {
   "cell_type": "markdown",
   "id": "1cbbd9be",
   "metadata": {},
   "source": [
    "# using fuction:"
   ]
  },
  {
   "cell_type": "code",
   "execution_count": 88,
   "id": "ad692587",
   "metadata": {},
   "outputs": [
    {
     "data": {
      "text/plain": [
       "12"
      ]
     },
     "execution_count": 88,
     "metadata": {},
     "output_type": "execute_result"
    }
   ],
   "source": [
    "def min_fuc(x):\n",
    "    b = a[0]\n",
    "    for i in x:\n",
    "        if i<b:\n",
    "            b=i\n",
    "    return b\n",
    "a = [32,43,56,78,12,9]\n",
    "min_fuc(a)\n",
    "z = [32,78,12]\n",
    "min_fuc(z)"
   ]
  },
  {
   "cell_type": "markdown",
   "id": "77ef6ef5",
   "metadata": {},
   "source": [
    "# 3.To check whether a given number is present in list or not?\n"
   ]
  },
  {
   "cell_type": "code",
   "execution_count": 26,
   "id": "27a003d1",
   "metadata": {},
   "outputs": [
    {
     "name": "stdout",
     "output_type": "stream",
     "text": [
      "True\n"
     ]
    }
   ],
   "source": [
    "flower = ['rose', 'lily', 'sunflower', 'jesmin', 'mogra', 'lavender']\n",
    "print('rose' in flower)"
   ]
  },
  {
   "cell_type": "markdown",
   "id": "dd7cc4b6",
   "metadata": {},
   "source": [
    "# 4.To demonstrate any 10 methods of List\n"
   ]
  },
  {
   "cell_type": "code",
   "execution_count": 1,
   "id": "0c19b9ec",
   "metadata": {},
   "outputs": [
    {
     "name": "stdout",
     "output_type": "stream",
     "text": [
      "['harpic', 'vim bar', 'deodrant', 'bhindi', 'dal', 'rice', 'rice', 'rice']\n",
      "8\n",
      "['12', '19', '32', '38', '44', '62', '87', '98']\n",
      "['98', '87', '62', '44', '38', '32', '19', '12']\n",
      "98\n",
      "12\n",
      "['98', '87', '62', '44', '38', '32', '19', '12', 78]\n",
      "['98', '87', 92, '62', '44', '38', '32', '19', '12', 78]\n",
      "['98', '87', 92, '62', '44', '38', '32', '19', '12']\n",
      "['87', 92, '62', '44', '38', '32', '19', '12']\n",
      "3\n",
      "['87', 92, '62', '44', '38', '32', '19', '12']\n",
      "rice\n",
      "['harpic', 'vim bar', 'deodrant', 'bhindi', 'dal', 'rice', 'rice', 'rice', '87', 92, '62', '44', '38', '32', '19', '12']\n",
      "[]\n",
      "['87', 92, '62', '44', '38', '32', '19']\n"
     ]
    }
   ],
   "source": [
    "grocery = [\"harpic\", \"vim bar\", \"deodrant\", \"bhindi\", \"dal\", \"rice\", \"rice\", \"rice\"]\n",
    "num = [\"19\",\"62\",\"38\",\"44\",\"32\",\"98\", \"12\", \"87\"] \n",
    "print(grocery)\n",
    "print(len(grocery))\n",
    "num.sort()\n",
    "print(num)\n",
    "num.reverse()\n",
    "print(num)\n",
    "print(max(num))\n",
    "print(min(num))\n",
    "num.append(78)\n",
    "print(num)\n",
    "num.insert(2, 92)\n",
    "print(num)\n",
    "num.pop()\n",
    "print(num)\n",
    "num.remove(\"98\")\n",
    "print(num)\n",
    "print(grocery.count(\"rice\"))\n",
    "num.copy()\n",
    "print(num)\n",
    "print(grocery[5])  #Acess the element.\n",
    "join=grocery+num\n",
    "print(join)\n",
    "grocery.clear()\n",
    "print(grocery)\n",
    "num.remove(\"12\")\n",
    "print(num)"
   ]
  },
  {
   "cell_type": "markdown",
   "id": "5647600e",
   "metadata": {},
   "source": [
    "# 5.To add two list \"adding elements of list\"\n"
   ]
  },
  {
   "cell_type": "code",
   "execution_count": 87,
   "id": "6a4a6496",
   "metadata": {},
   "outputs": [
    {
     "name": "stdout",
     "output_type": "stream",
     "text": [
      "['apple', 'banana', 'cherry', 'kiwi', 'mango', 'rose', 'lily', 'sunflower', 'jesmin', 'mogra', 'lavender', 'harpic', 'vim bar', 'deodrant', 'bhindi', 'dal', 'rice']\n"
     ]
    }
   ],
   "source": [
    "fruits = [\"apple\", \"banana\", \"cherry\", \"kiwi\", \"mango\"]\n",
    "flower = ['rose', 'lily', 'sunflower', 'jesmin', 'mogra', 'lavender']\n",
    "grocery =['harpic', 'vim bar', 'deodrant', 'bhindi', 'dal', 'rice']\n",
    " \n",
    "joinlist=fruits + flower + grocery\n",
    "print(joinlist)\n"
   ]
  },
  {
   "cell_type": "markdown",
   "id": "39481546",
   "metadata": {},
   "source": [
    "# 7.To sort a given number list in ascending order using functions.\n"
   ]
  },
  {
   "cell_type": "code",
   "execution_count": 89,
   "id": "16523b2d",
   "metadata": {},
   "outputs": [
    {
     "name": "stdout",
     "output_type": "stream",
     "text": [
      "['12', '19', '32', '38', '44', '62', '87', '98']\n"
     ]
    }
   ],
   "source": [
    "num = [\"19\",\"62\",\"38\",\"44\",\"32\",\"98\", \"12\", \"87\"]\n",
    "num.sort()\n",
    "print(num)"
   ]
  },
  {
   "cell_type": "markdown",
   "id": "990bf99d",
   "metadata": {},
   "source": [
    "# sort the list without  using sort methods:"
   ]
  },
  {
   "cell_type": "code",
   "execution_count": 34,
   "id": "d83f0072",
   "metadata": {},
   "outputs": [
    {
     "name": "stdout",
     "output_type": "stream",
     "text": [
      "[2, 3, 4, 5, 7, 8, 9]\n"
     ]
    }
   ],
   "source": [
    "a = [5,4,7,8,2,9,3]\n",
    "for i in  range(1, len(a)):\n",
    "    while a[i-1]>a[i] and i>0:\n",
    "        a[i-1],a[i] = a[i],a[i-1]\n",
    "        i = i - 1\n",
    "print(a)"
   ]
  },
  {
   "cell_type": "markdown",
   "id": "9f146dbe",
   "metadata": {},
   "source": [
    "# univarsal function to sort the list using func: "
   ]
  },
  {
   "cell_type": "code",
   "execution_count": 38,
   "id": "43f0b82d",
   "metadata": {},
   "outputs": [
    {
     "data": {
      "text/plain": [
       "[1, 2, 3, 4, 5, 6, 7, 8, 9]"
      ]
     },
     "execution_count": 38,
     "metadata": {},
     "output_type": "execute_result"
    }
   ],
   "source": [
    "def sort_lst(a):\n",
    "    for i in range(1, len(a)):\n",
    "        while a[i-1] > a[i] and i>0:\n",
    "            a[i-1] ,a[i] = a[i], a[i-1]\n",
    "            i = i - 1\n",
    "    return a        \n",
    "x = [2,4,6,8,9,7,5,3,1]\n",
    "sort_lst(x)"
   ]
  },
  {
   "cell_type": "markdown",
   "id": "1b909f41",
   "metadata": {},
   "source": [
    "# find the first heigest number in given list:"
   ]
  },
  {
   "cell_type": "code",
   "execution_count": 68,
   "id": "3c02405f",
   "metadata": {},
   "outputs": [
    {
     "name": "stdout",
     "output_type": "stream",
     "text": [
      "[4, 5, 6, 34]\n",
      "34\n"
     ]
    }
   ],
   "source": [
    "a = [34,4,5,6]\n",
    "for i in range(1, len(a)):\n",
    "    while a[i-1] > a[i] and i>0:\n",
    "        a[i-1], a[i] = a[i], a[i-1]\n",
    "        i = i - 1\n",
    "print(a)        \n",
    "print(a[-1])        \n",
    "        "
   ]
  },
  {
   "cell_type": "markdown",
   "id": "f8910802",
   "metadata": {},
   "source": [
    "# find the second heidest heigest number in given list:"
   ]
  },
  {
   "cell_type": "code",
   "execution_count": 69,
   "id": "01f3806f",
   "metadata": {},
   "outputs": [
    {
     "name": "stdout",
     "output_type": "stream",
     "text": [
      "[12, 43, 54, 76, 90]\n",
      "76\n"
     ]
    }
   ],
   "source": [
    "a = [76,43,54,12,90]\n",
    "for i in range(1, len(a)):\n",
    "    while a[i-1] > a[i] and i > 0 :\n",
    "        a[i-1],a[i] = a[i], a[i-1]\n",
    "        i = i - 1\n",
    "print(a)\n",
    "print(a[-2])\n",
    "    "
   ]
  },
  {
   "cell_type": "markdown",
   "id": "e15c9a57",
   "metadata": {},
   "source": [
    "# find the third heidest heigest number in given list:"
   ]
  },
  {
   "cell_type": "code",
   "execution_count": 70,
   "id": "a5d676de",
   "metadata": {},
   "outputs": [
    {
     "name": "stdout",
     "output_type": "stream",
     "text": [
      "[12, 23, 45, 54, 87, 90]\n",
      "54\n"
     ]
    }
   ],
   "source": [
    "a  = [54, 87, 90 , 12, 23, 45]\n",
    "for i in range(1, len(a)):\n",
    "    while a[i-1] > a[i] and i > 0:\n",
    "        a[i-1] , a[i] = a[i], a[i-1]\n",
    "        i = i - 1\n",
    "print(a)\n",
    "print(a[-3])"
   ]
  },
  {
   "cell_type": "markdown",
   "id": "7977b2cc",
   "metadata": {},
   "source": [
    "# PYnative Question"
   ]
  },
  {
   "cell_type": "code",
   "execution_count": 1,
   "id": "a86af3ac",
   "metadata": {},
   "outputs": [
    {
     "name": "stdout",
     "output_type": "stream",
     "text": [
      "[10, 20, 30, 40, 50, 60]\n",
      "[10, 20, 30, 40, 50, 60, 60]\n"
     ]
    }
   ],
   "source": [
    "sampleList = [10, 20, 30, 40, 50]\n",
    "sampleList.append(60)\n",
    "print(sampleList)\n",
    "\n",
    "sampleList.append(60)\n",
    "print(sampleList)"
   ]
  },
  {
   "cell_type": "code",
   "execution_count": 73,
   "id": "af09298b",
   "metadata": {},
   "outputs": [
    {
     "name": "stdout",
     "output_type": "stream",
     "text": [
      "[1, 'misabh', 23.4, True, 'misbah']\n",
      "5\n"
     ]
    }
   ],
   "source": [
    " a = [1,\"misabh\", 23.4, True, \"misbah\"]\n",
    "print(a)\n",
    "print(len(a))"
   ]
  },
  {
   "cell_type": "code",
   "execution_count": 2,
   "id": "1abdf7df",
   "metadata": {},
   "outputs": [
    {
     "name": "stdout",
     "output_type": "stream",
     "text": [
      "[10, 20, 30, 40]\n",
      "[10, 20, 40]\n"
     ]
    }
   ],
   "source": [
    "sampleList = [10, 20, 30, 40, 50]\n",
    "sampleList.pop()\n",
    "print(sampleList)\n",
    "\n",
    "sampleList.pop(2)\n",
    "print(sampleList)"
   ]
  },
  {
   "cell_type": "code",
   "execution_count": 74,
   "id": "edb04bf1",
   "metadata": {},
   "outputs": [
    {
     "name": "stdout",
     "output_type": "stream",
     "text": [
      "5\n",
      "kiwi\n"
     ]
    }
   ],
   "source": [
    "fruits = [\"apple\", \"banana\", \"cherry\", \"kiwi\", \"mango\"]\n",
    "print(len(fruits))\n",
    "print(fruits[3])"
   ]
  },
  {
   "cell_type": "code",
   "execution_count": 3,
   "id": "4912d506",
   "metadata": {},
   "outputs": [
    {
     "name": "stdout",
     "output_type": "stream",
     "text": [
      "40\n",
      "[20, 30, 40]\n"
     ]
    }
   ],
   "source": [
    "sampleList = [10, 20, 30, 40, 50]\n",
    "print(sampleList[-2])\n",
    "print(sampleList[-4:-1])"
   ]
  },
  {
   "cell_type": "code",
   "execution_count": 4,
   "id": "82a42fcd",
   "metadata": {},
   "outputs": [
    {
     "name": "stdout",
     "output_type": "stream",
     "text": [
      "[30, 40, 50]\n",
      "[10, 20, 30, 40]\n",
      "[40, 50, 60, 70, 80]\n"
     ]
    }
   ],
   "source": [
    "aList = [10, 20, 30, 40, 50, 60, 70, 80]\n",
    "print(aList[2:5])\n",
    "print(aList[:4])\n",
    "print(aList[3:])"
   ]
  },
  {
   "cell_type": "code",
   "execution_count": 5,
   "id": "20cfa922",
   "metadata": {},
   "outputs": [
    {
     "name": "stdout",
     "output_type": "stream",
     "text": [
      "Y\n",
      "16\n"
     ]
    }
   ],
   "source": [
    "aList = [\"PYnative\", [4, 8, 12, 16]]\n",
    "print(aList[0][1])    \n",
    "print(aList[1][3])"
   ]
  },
  {
   "cell_type": "code",
   "execution_count": 6,
   "id": "c0500abe",
   "metadata": {},
   "outputs": [
    {
     "name": "stdout",
     "output_type": "stream",
     "text": [
      "[2, 4, 6, 8, 10, 12, 14]\n"
     ]
    }
   ],
   "source": [
    "aList = [1, 2, 3, 4, 5, 6, 7]\n",
    "pow2 =  [2 * x for x in aList]\n",
    "print(pow2)"
   ]
  },
  {
   "cell_type": "code",
   "execution_count": 7,
   "id": "467d3ea8",
   "metadata": {},
   "outputs": [
    {
     "name": "stdout",
     "output_type": "stream",
     "text": [
      "[]\n"
     ]
    }
   ],
   "source": [
    "sampleList = [10, 20, 30, 40]\n",
    "del sampleList[0:6]\n",
    "print(sampleList)"
   ]
  },
  {
   "cell_type": "code",
   "execution_count": 8,
   "id": "5bb13295",
   "metadata": {},
   "outputs": [
    {
     "name": "stdout",
     "output_type": "stream",
     "text": [
      "Hello-Python\n"
     ]
    }
   ],
   "source": [
    "my_list = [\"Hello\", \"Python\"]\n",
    "print(\"-\".join(my_list))"
   ]
  },
  {
   "cell_type": "code",
   "execution_count": 3,
   "id": "74393927",
   "metadata": {},
   "outputs": [
    {
     "name": "stdout",
     "output_type": "stream",
     "text": [
      "bnz\n"
     ]
    }
   ],
   "source": [
    "list1 = ['bnz', 'aara', 'PYnative']\n",
    "print (max(list1))"
   ]
  },
  {
   "cell_type": "code",
   "execution_count": 10,
   "id": "21d84d26",
   "metadata": {},
   "outputs": [
    {
     "name": "stdout",
     "output_type": "stream",
     "text": [
      "[4, 20, 24, 28]\n"
     ]
    }
   ],
   "source": [
    "aList = [4, 8, 12, 16]\n",
    "aList[1:4] = [20, 24, 28]\n",
    "print(aList)"
   ]
  },
  {
   "cell_type": "code",
   "execution_count": 15,
   "id": "67809c03",
   "metadata": {},
   "outputs": [
    {
     "name": "stdout",
     "output_type": "stream",
     "text": [
      "['a', 'b', 'c', 'd']\n"
     ]
    }
   ],
   "source": [
    "aList = ['a', 'b', 'c', 'd']\n",
    "a=aList.copy()\n",
    "\n",
    "print(a)\n",
    "\n"
   ]
  },
  {
   "cell_type": "code",
   "execution_count": 16,
   "id": "3ee2bba1",
   "metadata": {},
   "outputs": [
    {
     "name": "stdout",
     "output_type": "stream",
     "text": [
      "['a', 'b', 'c', 'd', 'e', 'f', 'g']\n"
     ]
    }
   ],
   "source": [
    "listOne  =  ['a', 'b', 'c', 'd']\n",
    "listTwo =  ['e', 'f', 'g']\n",
    "newList = listOne + listTwo\n",
    "print(newList)"
   ]
  },
  {
   "cell_type": "code",
   "execution_count": 75,
   "id": "4cacde60",
   "metadata": {},
   "outputs": [
    {
     "name": "stdout",
     "output_type": "stream",
     "text": [
      "<class 'list'>\n"
     ]
    }
   ],
   "source": [
    "fruits = [\"apple\", \"banana\", \"cherry\", \"kiwi\", \"mango\"]\n",
    "print(type(fruits))"
   ]
  },
  {
   "cell_type": "code",
   "execution_count": 76,
   "id": "f9813b94",
   "metadata": {},
   "outputs": [
    {
     "name": "stdout",
     "output_type": "stream",
     "text": [
      "<class 'list'>\n"
     ]
    }
   ],
   "source": [
    "a = list((\"apple\", \"banana\", \"cherry\", \"kiwi\", \"mango\"))\n",
    "print(type(a))"
   ]
  },
  {
   "cell_type": "code",
   "execution_count": 77,
   "id": "5b8753cc",
   "metadata": {},
   "outputs": [
    {
     "name": "stdout",
     "output_type": "stream",
     "text": [
      "['cherry', 'orange', 'kiwi']\n"
     ]
    }
   ],
   "source": [
    "thislist = [\"apple\", \"banana\", \"cherry\", \"orange\", \"kiwi\", \"melon\", \"mango\"]\n",
    "print(thislist[2:5])"
   ]
  },
  {
   "cell_type": "code",
   "execution_count": 78,
   "id": "5f130783",
   "metadata": {},
   "outputs": [
    {
     "name": "stdout",
     "output_type": "stream",
     "text": [
      "[3, 4, 5, 6]\n"
     ]
    }
   ],
   "source": [
    "a = [1,2,3,4,5,6,7,8]\n",
    "print(a[-6:-2])    # -2 ko wo count nhi kare ga q ki wo excludive hai"
   ]
  },
  {
   "cell_type": "code",
   "execution_count": 79,
   "id": "63967ba7",
   "metadata": {},
   "outputs": [
    {
     "name": "stdout",
     "output_type": "stream",
     "text": [
      "['apple', 'banana', 'cherry', 'blackcurrent', 'kiwi', 'melon', 'mango']\n",
      "['apple', 'banana', 'blackcurrent', 'watermelon', 'plum', 'melon', 'mango']\n"
     ]
    }
   ],
   "source": [
    "thislist = [\"apple\", \"banana\", \"cherry\", \"orange\", \"kiwi\", \"melon\", \"mango\"]\n",
    "thislist[3] = \"blackcurrent\"\n",
    "print(thislist)\n",
    "thislist[2:5] = \"blackcurrent\", \"watermelon\", \"plum\"\n",
    "print(thislist)"
   ]
  },
  {
   "cell_type": "code",
   "execution_count": 80,
   "id": "203b8eaa",
   "metadata": {},
   "outputs": [
    {
     "name": "stdout",
     "output_type": "stream",
     "text": [
      "['apple', 'banana', 'plum', 'cherry']\n"
     ]
    }
   ],
   "source": [
    "thislist = [\"apple\", \"banana\", \"cherry\"]\n",
    "thislist.insert(2,\"plum\")\n",
    "print(thislist)"
   ]
  },
  {
   "cell_type": "code",
   "execution_count": 81,
   "id": "2fe06058",
   "metadata": {},
   "outputs": [
    {
     "name": "stdout",
     "output_type": "stream",
     "text": [
      "['apple', 'banana', 'cherry', 'plum']\n"
     ]
    }
   ],
   "source": [
    "thislist = [\"apple\", \"banana\", \"cherry\"]\n",
    "thislist.append(\"plum\")\n",
    "print(thislist)"
   ]
  },
  {
   "cell_type": "code",
   "execution_count": 82,
   "id": "8650a085",
   "metadata": {},
   "outputs": [
    {
     "name": "stdout",
     "output_type": "stream",
     "text": [
      "['apple', 'banana', 'cherry', '10', '29', '83', '47', '54']\n"
     ]
    }
   ],
   "source": [
    "a = [\"apple\", \"banana\", \"cherry\"]\n",
    "b = [\"10\",\"29\",\"83\",\"47\",\"54\"]\n",
    "# c = a+b\n",
    "a.extend(b)\n",
    "print(a)\n"
   ]
  },
  {
   "cell_type": "code",
   "execution_count": 83,
   "id": "904b3598",
   "metadata": {
    "scrolled": true
   },
   "outputs": [
    {
     "name": "stdout",
     "output_type": "stream",
     "text": [
      "[1, 2, 3, 6, 7, 8, 9]\n"
     ]
    }
   ],
   "source": [
    "l = [2,6,7,3,9,1,8]\n",
    "l.sort()\n",
    "print(l)"
   ]
  },
  {
   "cell_type": "code",
   "execution_count": 89,
   "id": "db4bf202",
   "metadata": {},
   "outputs": [
    {
     "name": "stdout",
     "output_type": "stream",
     "text": [
      "1\n"
     ]
    }
   ],
   "source": [
    "lists = [2,3,44,5,6,7]\n",
    "print(lists.count(2))"
   ]
  },
  {
   "cell_type": "code",
   "execution_count": null,
   "id": "b6587594",
   "metadata": {},
   "outputs": [],
   "source": [
    "sampleList = [\"Jon\", \"Kelly\", \"Jessa\"]\n",
    "sampleList.append(2, \"Scott\")\n",
    "print(sampleList)"
   ]
  },
  {
   "cell_type": "code",
   "execution_count": 92,
   "id": "e6280940",
   "metadata": {},
   "outputs": [
    {
     "name": "stdout",
     "output_type": "stream",
     "text": [
      "[2, 14, 54, 98, 70]\n"
     ]
    }
   ],
   "source": [
    "a = [2,1,14,54,65,98,70]\n",
    "b = [i for i in a if i%2==0]\n",
    "print(b)"
   ]
  },
  {
   "cell_type": "code",
   "execution_count": 93,
   "id": "48405270",
   "metadata": {},
   "outputs": [
    {
     "name": "stdout",
     "output_type": "stream",
     "text": [
      "[4, 16]\n"
     ]
    }
   ],
   "source": [
    "inputList = [2,3,4,5]\n",
    "squareList = [var**2 for var in inputList if var%2==0]\n",
    "print(squareList)"
   ]
  },
  {
   "cell_type": "markdown",
   "id": "8bdb6bc9",
   "metadata": {},
   "source": [
    "# default parameter value:"
   ]
  },
  {
   "cell_type": "code",
   "execution_count": null,
   "id": "86154b81",
   "metadata": {},
   "outputs": [],
   "source": [
    "def calculate (num1, num2=4):\n",
    "    res = num1 * num2\n",
    "    print(res)\n",
    "\n",
    "calculate(5, 4)"
   ]
  },
  {
   "cell_type": "markdown",
   "id": "6295f1b2",
   "metadata": {},
   "source": [
    "# Question form shadab:"
   ]
  },
  {
   "cell_type": "code",
   "execution_count": 1,
   "id": "483ff51b",
   "metadata": {},
   "outputs": [
    {
     "name": "stdout",
     "output_type": "stream",
     "text": [
      "[['c', 'a', 't'], ['b', 'a', 't'], ['t', 'a', 't']]\n"
     ]
    }
   ],
   "source": [
    "a = [\"cat\", \"bat\", \"tat\"]\n",
    "b =list(map(list,a))\n",
    "print(b)"
   ]
  },
  {
   "cell_type": "code",
   "execution_count": 1,
   "id": "dc423c70",
   "metadata": {},
   "outputs": [
    {
     "name": "stdout",
     "output_type": "stream",
     "text": [
      "['19', '62', '38', '44', '32', '12', '87']\n"
     ]
    }
   ],
   "source": [
    "\n",
    "num = [\"19\",\"62\",\"38\",\"44\",\"32\",\"98\", \"12\", \"87\"]\n",
    "num.remove(\"98\")\n",
    "print(num)"
   ]
  },
  {
   "cell_type": "code",
   "execution_count": 3,
   "id": "9aef4f3d",
   "metadata": {},
   "outputs": [
    {
     "name": "stdout",
     "output_type": "stream",
     "text": [
      "['19', '62', '38', '44', '32', '98', '12']\n"
     ]
    }
   ],
   "source": [
    "num = [\"19\",\"62\",\"38\",\"44\",\"32\",\"98\", \"12\", \"87\"]\n",
    "num.pop()\n",
    "print(num)"
   ]
  },
  {
   "cell_type": "code",
   "execution_count": 5,
   "id": "16d768ce",
   "metadata": {},
   "outputs": [
    {
     "name": "stdout",
     "output_type": "stream",
     "text": [
      "['19', '62', 92, '38', '44', '32', '98', '12', '87']\n"
     ]
    }
   ],
   "source": [
    "num = [\"19\",\"62\",\"38\",\"44\",\"32\",\"98\", \"12\", \"87\"]\n",
    "num.insert(2, 92)\n",
    "print(num)"
   ]
  },
  {
   "cell_type": "code",
   "execution_count": 9,
   "id": "0deb5455",
   "metadata": {},
   "outputs": [
    {
     "name": "stdout",
     "output_type": "stream",
     "text": [
      "<class 'tuple'>\n"
     ]
    }
   ],
   "source": [
    "tupl = (\"rice\", \"dal\", \"roti\",)\n",
    "# tple = (\"dal\",)\n",
    "# print(type(tple)\n",
    "print(type(tupl))"
   ]
  },
  {
   "cell_type": "code",
   "execution_count": 14,
   "id": "12e8246c",
   "metadata": {},
   "outputs": [
    {
     "name": "stdout",
     "output_type": "stream",
     "text": [
      "['banana', 'cherry']\n",
      "('banana', 'cherry')\n"
     ]
    }
   ],
   "source": [
    "thilist = (\"apple\", \"banana\", \"cherry\")\n",
    "y = list(thilist)\n",
    "y.remove(\"apple\")\n",
    "x = tuple(y)\n",
    "print(y)\n",
    "print(x)"
   ]
  },
  {
   "cell_type": "markdown",
   "id": "18279214",
   "metadata": {},
   "source": [
    "# To chech memory location of list and tuple:"
   ]
  },
  {
   "cell_type": "code",
   "execution_count": 2,
   "id": "6d9594d7",
   "metadata": {},
   "outputs": [
    {
     "name": "stdout",
     "output_type": "stream",
     "text": [
      "1810667435440\n",
      "1810667086096\n",
      "1810666838544\n"
     ]
    }
   ],
   "source": [
    "a = (2,3,4,5)\n",
    "b = (3,4,6,7)\n",
    "c = a + b\n",
    "print(id(a))\n",
    "print(id(b))\n",
    "print(id(c))"
   ]
  },
  {
   "cell_type": "code",
   "execution_count": 72,
   "id": "31c8d4a5",
   "metadata": {},
   "outputs": [
    {
     "name": "stdout",
     "output_type": "stream",
     "text": [
      "[2, 3, 4, 5, 45]\n",
      "3065900686784\n"
     ]
    }
   ],
   "source": [
    "a = [2,3,4,5]\n",
    "a.append(45)\n",
    "print(a)\n",
    "\n",
    "print(id(a))"
   ]
  },
  {
   "cell_type": "code",
   "execution_count": 38,
   "id": "fc444c21",
   "metadata": {},
   "outputs": [
    {
     "data": {
      "text/plain": [
       "<function id(obj, /)>"
      ]
     },
     "execution_count": 38,
     "metadata": {},
     "output_type": "execute_result"
    }
   ],
   "source": [
    "id"
   ]
  },
  {
   "cell_type": "code",
   "execution_count": 23,
   "id": "0744c7f1",
   "metadata": {},
   "outputs": [
    {
     "data": {
      "text/plain": [
       "<function iter>"
      ]
     },
     "execution_count": 23,
     "metadata": {},
     "output_type": "execute_result"
    }
   ],
   "source": [
    "iter"
   ]
  },
  {
   "cell_type": "code",
   "execution_count": 29,
   "id": "8cb9b21b",
   "metadata": {},
   "outputs": [
    {
     "name": "stdout",
     "output_type": "stream",
     "text": [
      "1441643692400\n"
     ]
    }
   ],
   "source": [
    "x = 5 \n",
    "x = 4\n",
    "\n",
    "print(id(x))"
   ]
  },
  {
   "cell_type": "code",
   "execution_count": 60,
   "id": "adf1ece0",
   "metadata": {},
   "outputs": [
    {
     "name": "stdout",
     "output_type": "stream",
     "text": [
      "1441643692400\n"
     ]
    }
   ],
   "source": [
    "x = 5\n",
    "\n",
    "print(id(x))"
   ]
  },
  {
   "cell_type": "code",
   "execution_count": 3,
   "id": "52cdaa4e",
   "metadata": {},
   "outputs": [
    {
     "name": "stdout",
     "output_type": "stream",
     "text": [
      "1810667302288\n"
     ]
    }
   ],
   "source": [
    "a = 13456\n",
    "print(id(a))"
   ]
  }
 ],
 "metadata": {
  "kernelspec": {
   "display_name": "Python 3 (ipykernel)",
   "language": "python",
   "name": "python3"
  },
  "language_info": {
   "codemirror_mode": {
    "name": "ipython",
    "version": 3
   },
   "file_extension": ".py",
   "mimetype": "text/x-python",
   "name": "python",
   "nbconvert_exporter": "python",
   "pygments_lexer": "ipython3",
   "version": "3.10.7"
  }
 },
 "nbformat": 4,
 "nbformat_minor": 5
}
