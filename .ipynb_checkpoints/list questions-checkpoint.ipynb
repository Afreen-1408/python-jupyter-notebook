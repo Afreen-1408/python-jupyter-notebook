{
 "cells": [
  {
   "cell_type": "markdown",
   "id": "32c67069",
   "metadata": {},
   "source": [
    "# List questions"
   ]
  },
  {
   "cell_type": "markdown",
   "id": "67cabe39",
   "metadata": {},
   "source": [
    "1.To create 5 different list using list comprehension method.\n"
   ]
  },
  {
   "cell_type": "code",
   "execution_count": 12,
   "id": "5689ef8d",
   "metadata": {},
   "outputs": [
    {
     "name": "stdout",
     "output_type": "stream",
     "text": [
      "['apple', 'cherry', 'pineapple', 'greps']\n"
     ]
    }
   ],
   "source": [
    "fruits = [\"apple\", \"banana\", \"cherry\", \"kiwi\", \"mango\", \"pineapple\", \"greps\"]\n",
    "\n",
    "newlist = [x for x in fruits if \"e\" in x]\n",
    "  \n",
    "print(newlist)"
   ]
  },
  {
   "cell_type": "code",
   "execution_count": 7,
   "id": "62d5909e",
   "metadata": {},
   "outputs": [
    {
     "name": "stdout",
     "output_type": "stream",
     "text": [
      "['apple', 'banana', 'cherry', 'mango']\n"
     ]
    }
   ],
   "source": [
    "fruits = [\"apple\", \"banana\", \"cherry\", \"kiwi\", \"mango\"]\n",
    "\n",
    "newlists = [x for x in fruits if x != \"kiwi\"]\n",
    "\n",
    "print(newlists)"
   ]
  },
  {
   "cell_type": "code",
   "execution_count": 9,
   "id": "af2f6db7",
   "metadata": {},
   "outputs": [
    {
     "name": "stdout",
     "output_type": "stream",
     "text": [
      "[0, 1, 2, 3, 4, 5, 6, 7, 8, 9, 10]\n"
     ]
    }
   ],
   "source": [
    "lists = [x for x in range(11)]\n",
    "print(lists)"
   ]
  },
  {
   "cell_type": "code",
   "execution_count": 15,
   "id": "28259fb4",
   "metadata": {},
   "outputs": [
    {
     "name": "stdout",
     "output_type": "stream",
     "text": [
      "[0, 1, 2, 3, 4, 5, 6]\n"
     ]
    }
   ],
   "source": [
    "list = [x for x in range(10) if x < 7]\n",
    "print(list)"
   ]
  },
  {
   "cell_type": "code",
   "execution_count": 17,
   "id": "e80aa4aa",
   "metadata": {},
   "outputs": [
    {
     "name": "stdout",
     "output_type": "stream",
     "text": [
      "['APPLE', 'BANANA', 'CHERRY', 'KIWI', 'MANGO']\n"
     ]
    }
   ],
   "source": [
    "fruits = [\"apple\", \"banana\", \"cherry\", \"kiwi\", \"mango\"]\n",
    "\n",
    "list =[x.upper() for x in fruits]\n",
    " \n",
    "print(list)    "
   ]
  },
  {
   "cell_type": "code",
   "execution_count": 18,
   "id": "44aca461",
   "metadata": {},
   "outputs": [
    {
     "name": "stdout",
     "output_type": "stream",
     "text": [
      "['hello', 'hello', 'hello', 'hello', 'hello']\n"
     ]
    }
   ],
   "source": [
    "fruits = [\"apple\", \"banana\", \"cherry\", \"kiwi\", \"mango\"]\n",
    "\n",
    "newlist = ['hello' for x in fruits]\n",
    "print((newlist))"
   ]
  },
  {
   "cell_type": "code",
   "execution_count": 19,
   "id": "9885b46a",
   "metadata": {},
   "outputs": [
    {
     "name": "stdout",
     "output_type": "stream",
     "text": [
      "['apple', 'orange', 'cherry', 'kiwi', 'mango']\n"
     ]
    }
   ],
   "source": [
    "fruits = [\"apple\", \"banana\", \"cherry\", \"kiwi\", \"mango\"]\n",
    "      \n",
    "list =  [x if x != \"banana\" else \"orange\" for x in fruits]\n",
    "print(list)"
   ]
  },
  {
   "cell_type": "markdown",
   "id": "cbec63d8",
   "metadata": {},
   "source": [
    "2.Create list , add random 10 numbers in list and print largest number\n",
    "of list."
   ]
  },
  {
   "cell_type": "code",
   "execution_count": 22,
   "id": "fe7f3042",
   "metadata": {},
   "outputs": [
    {
     "name": "stdout",
     "output_type": "stream",
     "text": [
      "largest number is: 83\n"
     ]
    }
   ],
   "source": [
    "mylist = [\"10\",\"29\",\"83\",\"47\",\"54\"]\n",
    "print(\"largest number is:\",max(mylist))"
   ]
  },
  {
   "cell_type": "markdown",
   "id": "77ef6ef5",
   "metadata": {},
   "source": [
    "3.To check whether a given number is present in list or not?\n"
   ]
  },
  {
   "cell_type": "code",
   "execution_count": 26,
   "id": "27a003d1",
   "metadata": {},
   "outputs": [
    {
     "name": "stdout",
     "output_type": "stream",
     "text": [
      "True\n"
     ]
    }
   ],
   "source": [
    "flower = ['rose', 'lily', 'sunflower', 'jesmin', 'mogra', 'lavender']\n",
    "print('rose' in flower)"
   ]
  },
  {
   "cell_type": "markdown",
   "id": "dd7cc4b6",
   "metadata": {},
   "source": [
    "4.To demonstrate any 10 methods of List\n"
   ]
  },
  {
   "cell_type": "code",
   "execution_count": 85,
   "id": "0c19b9ec",
   "metadata": {},
   "outputs": [
    {
     "name": "stdout",
     "output_type": "stream",
     "text": [
      "['harpic', 'vim bar', 'deodrant', 'bhindi', 'dal', 'rice', 'rice', 'rice']\n",
      "8\n",
      "['12', '19', '32', '38', '44', '62', '87', '98']\n",
      "['98', '87', '62', '44', '38', '32', '19', '12']\n",
      "98\n",
      "12\n",
      "['98', '87', '62', '44', '38', '32', '19', '12', 78]\n",
      "['98', '87', 92, '62', '44', '38', '32', '19', '12', 78]\n",
      "['98', '87', 92, '62', '44', '38', '32', '19', '12']\n",
      "['87', 92, '62', '44', '38', '32', '19', '12']\n",
      "3\n",
      "['87', 92, '62', '44', '38', '32', '19', '12']\n",
      "rice\n",
      "['harpic', 'vim bar', 'deodrant', 'bhindi', 'dal', 'rice', 'rice', 'rice', '87', 92, '62', '44', '38', '32', '19', '12']\n",
      "[]\n"
     ]
    }
   ],
   "source": [
    "grocery = [\"harpic\", \"vim bar\", \"deodrant\", \"bhindi\", \"dal\", \"rice\", \"rice\", \"rice\"]\n",
    "num = [\"19\",\"62\",\"38\",\"44\",\"32\",\"98\", \"12\", \"87\"] \n",
    "print(grocery)\n",
    "print(len(grocery))\n",
    "num.sort()\n",
    "print(num)\n",
    "num.reverse()\n",
    "print(num)\n",
    "print(max(num))\n",
    "print(min(num))\n",
    "num.append(78)\n",
    "print(num)\n",
    "num.insert(2, 92)\n",
    "print(num)\n",
    "num.pop()\n",
    "print(num)\n",
    "num.remove(\"98\")\n",
    "print(num)\n",
    "print(grocery.count(\"rice\"))\n",
    "num.copy()\n",
    "print(num)\n",
    "print(grocery[5])  #Acess the element.\n",
    "join=grocery+num\n",
    "print(join)\n",
    "grocery.clear()\n",
    "print(grocery)"
   ]
  },
  {
   "cell_type": "markdown",
   "id": "5647600e",
   "metadata": {},
   "source": [
    "5.To add two list \"adding elements of list\"\n"
   ]
  },
  {
   "cell_type": "code",
   "execution_count": 87,
   "id": "6a4a6496",
   "metadata": {},
   "outputs": [
    {
     "name": "stdout",
     "output_type": "stream",
     "text": [
      "['apple', 'banana', 'cherry', 'kiwi', 'mango', 'rose', 'lily', 'sunflower', 'jesmin', 'mogra', 'lavender', 'harpic', 'vim bar', 'deodrant', 'bhindi', 'dal', 'rice']\n"
     ]
    }
   ],
   "source": [
    "fruits = [\"apple\", \"banana\", \"cherry\", \"kiwi\", \"mango\"]\n",
    "flower = ['rose', 'lily', 'sunflower', 'jesmin', 'mogra', 'lavender']\n",
    "grocery =['harpic', 'vim bar', 'deodrant', 'bhindi', 'dal', 'rice']\n",
    " \n",
    "joinlist=fruits + flower + grocery\n",
    "print(joinlist)\n"
   ]
  },
  {
   "cell_type": "markdown",
   "id": "39481546",
   "metadata": {},
   "source": [
    "7.To sort a given number list in ascending order using functions.\n"
   ]
  },
  {
   "cell_type": "code",
   "execution_count": 89,
   "id": "16523b2d",
   "metadata": {},
   "outputs": [
    {
     "name": "stdout",
     "output_type": "stream",
     "text": [
      "['12', '19', '32', '38', '44', '62', '87', '98']\n"
     ]
    }
   ],
   "source": [
    "num = [\"19\",\"62\",\"38\",\"44\",\"32\",\"98\", \"12\", \"87\"]\n",
    "num.sort()\n",
    "print(num)"
   ]
  },
  {
   "cell_type": "markdown",
   "id": "1d7a5ea7",
   "metadata": {},
   "source": [
    "6.To implement a stack using a list\n"
   ]
  },
  {
   "cell_type": "code",
   "execution_count": null,
   "id": "a86af3ac",
   "metadata": {},
   "outputs": [],
   "source": []
  }
 ],
 "metadata": {
  "kernelspec": {
   "display_name": "Python 3 (ipykernel)",
   "language": "python",
   "name": "python3"
  },
  "language_info": {
   "codemirror_mode": {
    "name": "ipython",
    "version": 3
   },
   "file_extension": ".py",
   "mimetype": "text/x-python",
   "name": "python",
   "nbconvert_exporter": "python",
   "pygments_lexer": "ipython3",
   "version": "3.10.6"
  }
 },
 "nbformat": 4,
 "nbformat_minor": 5
}
