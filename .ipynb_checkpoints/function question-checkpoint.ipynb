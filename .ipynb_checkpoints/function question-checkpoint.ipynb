{
 "cells": [
  {
   "cell_type": "markdown",
   "id": "cd9cde01",
   "metadata": {},
   "source": [
    " 1.Write a Python function to find the Max of three numbers.\n"
   ]
  },
  {
   "cell_type": "code",
   "execution_count": 9,
   "id": "d2b0c2f6",
   "metadata": {},
   "outputs": [
    {
     "name": "stdout",
     "output_type": "stream",
     "text": [
      "anter the first number:24\n",
      "anter the secnd number:25\n",
      "anter the thrd number:26\n",
      "26 is largest\n"
     ]
    }
   ],
   "source": [
    "def larg(a,b,c):\n",
    "    if a>b:\n",
    "        if a>c:\n",
    "            print(a, \"is largest\")\n",
    "        else:\n",
    "            print(c, \"is lardest\")\n",
    "    else:\n",
    "        if b>c:\n",
    "            print(b, \"is largest\")\n",
    "        else:\n",
    "            print(c, \"is largest\")\n",
    "                \n",
    "a =int(input(\"anter the first number:\"))  \n",
    "b =int(input(\"anter the secnd number:\")) \n",
    "c =int(input(\"anter the thrd number:\"))\n",
    "larg(a,b,c)\n",
    "    "
   ]
  },
  {
   "cell_type": "markdown",
   "id": "6fb6d2ad",
   "metadata": {},
   "source": [
    "2.define a function that accepts 2 values and return its sum, subtraction and multiplication...."
   ]
  },
  {
   "cell_type": "markdown",
   "id": "e870fa94",
   "metadata": {},
   "source": [
    "FROM USER :"
   ]
  },
  {
   "cell_type": "code",
   "execution_count": 36,
   "id": "0209e74b",
   "metadata": {},
   "outputs": [
    {
     "name": "stdout",
     "output_type": "stream",
     "text": [
      "enter the number:6\n",
      "6 * 1 = 6\n",
      "6 * 2 = 12\n",
      "6 * 3 = 18\n",
      "6 * 4 = 24\n",
      "6 * 5 = 30\n",
      "6 * 6 = 36\n",
      "6 * 7 = 42\n",
      "6 * 8 = 48\n",
      "6 * 9 = 54\n",
      "6 * 10 = 60\n"
     ]
    }
   ],
   "source": [
    "def multi():\n",
    "    a=int(input(\"enter the number:\"))\n",
    "    for i in range(1,11):\n",
    "        b=a*i\n",
    "        print(a,\"*\",i,\"=\",b) \n",
    "        \n",
    "multi() "
   ]
  },
  {
   "cell_type": "code",
   "execution_count": 37,
   "id": "8def1b1a",
   "metadata": {},
   "outputs": [
    {
     "name": "stdout",
     "output_type": "stream",
     "text": [
      "enter the 1st number:4\n",
      "enter the 2nd number:5\n",
      "9\n"
     ]
    }
   ],
   "source": [
    "def add():\n",
    "    a=int(input(\"enter the 1st number:\"))\n",
    "    b=int(input(\"enter the 2nd number:\"))\n",
    "    c=a+b\n",
    "    print(c)\n",
    "add()    \n",
    "    "
   ]
  },
  {
   "cell_type": "code",
   "execution_count": 38,
   "id": "41c7a92a",
   "metadata": {},
   "outputs": [
    {
     "name": "stdout",
     "output_type": "stream",
     "text": [
      "enter the 1st number:5\n",
      "enter the 2nd number:4\n",
      "1\n"
     ]
    }
   ],
   "source": [
    "def subs():\n",
    "    a=int(input(\"enter the 1st number:\"))\n",
    "    b=int(input(\"enter the 2nd number:\"))\n",
    "    c=a-b\n",
    "    print(c)\n",
    "subs() "
   ]
  },
  {
   "cell_type": "markdown",
   "id": "d41486e1",
   "metadata": {},
   "source": [
    "FUNCTTION:"
   ]
  },
  {
   "cell_type": "code",
   "execution_count": 41,
   "id": "6b076244",
   "metadata": {},
   "outputs": [
    {
     "name": "stdout",
     "output_type": "stream",
     "text": [
      "4 * 1 = 4\n",
      "4 * 2 = 8\n",
      "4 * 3 = 12\n",
      "4 * 4 = 16\n",
      "4 * 5 = 20\n",
      "4 * 6 = 24\n",
      "4 * 7 = 28\n",
      "4 * 8 = 32\n",
      "4 * 9 = 36\n",
      "4 * 10 = 40\n"
     ]
    }
   ],
   "source": [
    "def multi(a):\n",
    "    for i in range(1,11):\n",
    "        b=a*i\n",
    "        print(a,\"*\",i,\"=\",b)         \n",
    "multi(4)       "
   ]
  },
  {
   "cell_type": "code",
   "execution_count": 42,
   "id": "4a38fdf6",
   "metadata": {},
   "outputs": [
    {
     "name": "stdout",
     "output_type": "stream",
     "text": [
      "4 + 5 = 9\n"
     ]
    }
   ],
   "source": [
    "def add(a,b):\n",
    "    c=a+b\n",
    "    print(a,\"+\",b,\"=\",c)\n",
    "add(4,5)\n"
   ]
  },
  {
   "cell_type": "code",
   "execution_count": 43,
   "id": "a351e8b6",
   "metadata": {},
   "outputs": [
    {
     "name": "stdout",
     "output_type": "stream",
     "text": [
      "10 - 4 = 6\n"
     ]
    }
   ],
   "source": [
    "def subs(a,b):\n",
    "    c=a-b\n",
    "    print(a,\"-\",b,\"=\",c)\n",
    "subs(10,4)    "
   ]
  },
  {
   "cell_type": "code",
   "execution_count": 36,
   "id": "0e84e88c",
   "metadata": {},
   "outputs": [
    {
     "name": "stdout",
     "output_type": "stream",
     "text": [
      "4 + 2 = 6\n",
      "4 - 2 = 2\n",
      "4 * 2 = 8\n",
      "4 // 2 = 2\n"
     ]
    }
   ],
   "source": [
    "def function(a,b):\n",
    "    add=a+b\n",
    "    subt=a-b\n",
    "    multi=a*b\n",
    "    div=a//b\n",
    "    print(a,\"+\",b,\"=\",add)\n",
    "    print(a,\"-\",b,\"=\",subt)\n",
    "    print(a,\"*\",b,\"=\",multi)\n",
    "    print(a,\"//\",b,\"=\",div)\n",
    "function(4,2)    \n",
    "    \n",
    "\n",
    "\n",
    "\n"
   ]
  },
  {
   "cell_type": "code",
   "execution_count": 39,
   "id": "dfae5c4e",
   "metadata": {},
   "outputs": [
    {
     "name": "stdout",
     "output_type": "stream",
     "text": [
      "enter the second numbar:4\n",
      "enter the second numbar:4\n",
      "this is the addition of two number: 8\n"
     ]
    }
   ],
   "source": [
    "y=int(input(\"enter the second numbar:\"))\n",
    "y=int(input(\"enter the second numbar:\"))\n",
    "print(\"this is the addition of two number:\",x+y)\n"
   ]
  },
  {
   "cell_type": "markdown",
   "id": "700d88dc",
   "metadata": {},
   "source": [
    "3.Write a Python function to multiply all the numbers in a list."
   ]
  },
  {
   "cell_type": "code",
   "execution_count": 28,
   "id": "8d35559d",
   "metadata": {},
   "outputs": [
    {
     "name": "stdout",
     "output_type": "stream",
     "text": [
      "2\n",
      "6\n",
      "24\n"
     ]
    }
   ],
   "source": [
    "def multiply(mylist):\n",
    "    result=1\n",
    "    for x in mylist:\n",
    "        result=result*x\n",
    "        print(result)\n",
    "multiply([2,3,4])        \n"
   ]
  },
  {
   "cell_type": "markdown",
   "id": "e3030e0a",
   "metadata": {},
   "source": [
    "4.Write a Python function to calculate the factorial of a number (a non-negative integer). \n",
    "The function accepts the number as an argument\n",
    "\n"
   ]
  },
  {
   "cell_type": "code",
   "execution_count": 2,
   "id": "4cd9e827",
   "metadata": {},
   "outputs": [
    {
     "name": "stdout",
     "output_type": "stream",
     "text": [
      "5\n",
      "20\n",
      "60\n",
      "120\n",
      "120\n"
     ]
    }
   ],
   "source": [
    "def fact(i):\n",
    "    fac=1\n",
    "    while(i>0):\n",
    "        fac=fac*i\n",
    "        i=i-1\n",
    "        print(fac)\n",
    "fact(5)        \n",
    "        "
   ]
  },
  {
   "cell_type": "markdown",
   "id": "662eabd8",
   "metadata": {},
   "source": [
    "5.Write a Python function to create and print a list where\n",
    "the values are square of numbers between 1 and 30 (both included).\n"
   ]
  },
  {
   "cell_type": "code",
   "execution_count": 1,
   "id": "896cfe6f",
   "metadata": {},
   "outputs": [
    {
     "name": "stdout",
     "output_type": "stream",
     "text": [
      "[1, 4, 9, 16, 25, 36, 49, 64, 81, 100, 121, 144, 169, 196, 225, 256, 289, 324, 361, 400, 441, 484, 529, 576, 625, 676, 729, 784, 841, 900]\n"
     ]
    }
   ],
   "source": [
    "def fun():\n",
    "    square = [a**2 for a in range(1,31)]\n",
    "    print(square) \n",
    "fun()\n",
    "    "
   ]
  },
  {
   "cell_type": "code",
   "execution_count": 2,
   "id": "e3d0bb18",
   "metadata": {},
   "outputs": [
    {
     "name": "stdout",
     "output_type": "stream",
     "text": [
      "[1, 4, 9, 16, 25, 36, 49, 64, 81, 100, 121, 144, 169, 196, 225, 256, 289, 324, 361, 400, 441, 484, 529, 576, 625, 676, 729, 784, 841, 900]\n"
     ]
    }
   ],
   "source": [
    "square = [a**2 for a in range(1,31)]\n",
    "print(square)"
   ]
  },
  {
   "cell_type": "markdown",
   "id": "3f8198c6",
   "metadata": {},
   "source": [
    "6.Write a Python function that accepts a string and \n",
    "calculate the number of upper case letters and lower case letters"
   ]
  },
  {
   "cell_type": "code",
   "execution_count": 3,
   "id": "0be0dedf",
   "metadata": {},
   "outputs": [
    {
     "name": "stdout",
     "output_type": "stream",
     "text": [
      "Enter the str:afreen\n",
      "lower letter in string: 6\n",
      "upper letter in strint: 0\n"
     ]
    }
   ],
   "source": [
    "def fun(STR):\n",
    "    n1=0\n",
    "    n2=0\n",
    "    for i in STR:                         \n",
    "        if i.islower():\n",
    "            n1=n1+1\n",
    "        elif i.isupper():\n",
    "            n2=n2+1\n",
    "    print(\"lower letter in string:\",n1)    \n",
    "    print(\"upper letter in strint:\",n2)\n",
    "s = str(input(\"Enter the str:\"))        \n",
    "fun(s)    \n",
    "    "
   ]
  },
  {
   "cell_type": "markdown",
   "id": "c004368f",
   "metadata": {},
   "source": [
    "7.Define a function that accepts roll number and returns whether the student is present or absent."
   ]
  },
  {
   "cell_type": "code",
   "execution_count": 48,
   "id": "dd0cf76c",
   "metadata": {},
   "outputs": [
    {
     "name": "stdout",
     "output_type": "stream",
     "text": [
      "Enter the rollno:8\n",
      "student is absent:\n"
     ]
    }
   ],
   "source": [
    "def rollno(a):\n",
    "    \n",
    "    list1=[1,2,3,4,5]\n",
    "    if a in list1:\n",
    "        print(\"student is present:\")\n",
    "    else:\n",
    "        print(\"student is absent:\")\n",
    "a=int(input(\"Enter the rollno:\"))        \n",
    "rollno(a)    "
   ]
  },
  {
   "cell_type": "code",
   "execution_count": null,
   "id": "33af8c16",
   "metadata": {},
   "outputs": [],
   "source": []
  },
  {
   "cell_type": "code",
   "execution_count": null,
   "id": "2419a13b",
   "metadata": {},
   "outputs": [],
   "source": []
  },
  {
   "cell_type": "code",
   "execution_count": null,
   "id": "a4f889fd",
   "metadata": {},
   "outputs": [],
   "source": []
  },
  {
   "cell_type": "code",
   "execution_count": null,
   "id": "c9e12b80",
   "metadata": {},
   "outputs": [],
   "source": []
  },
  {
   "cell_type": "markdown",
   "id": "93afdcc6",
   "metadata": {},
   "source": [
    "8.Define a function which counts vowels and consonant in a word.\n"
   ]
  },
  {
   "cell_type": "code",
   "execution_count": 24,
   "id": "12854927",
   "metadata": {},
   "outputs": [
    {
     "name": "stdout",
     "output_type": "stream",
     "text": [
      "Enter string:afreen\n",
      "Totel Vowel: 3\n",
      "Totel Cons: 3\n"
     ]
    }
   ],
   "source": [
    "\n",
    "a=input(\"Enter string:\")\n",
    "vowel=0\n",
    "cons=0\n",
    "for i in range(0,len(a)):\n",
    "    if (a[i] !=' '):\n",
    "        if(a[i]=='a' or a[i]=='e' or a[i]=='i' or a[i]=='o'\n",
    "          or a[i]=='u' or a[i]=='A' or a[i]=='E' or a[i]=='I' \n",
    "          or a[i]=='O' or a[i]=='u '):\n",
    "            vowel=vowel+1\n",
    "        else:\n",
    "            cons=cons+1\n",
    "print(\"Totel Vowel:\",vowel)\n",
    "print(\"Totel Cons:\",cons)\n"
   ]
  },
  {
   "cell_type": "markdown",
   "id": "48fda395",
   "metadata": {},
   "source": [
    "9.Define a function that accepts radius and returns the area of a circle."
   ]
  },
  {
   "cell_type": "code",
   "execution_count": 42,
   "id": "7ce89758",
   "metadata": {},
   "outputs": [
    {
     "name": "stdout",
     "output_type": "stream",
     "text": [
      "Enter the radiius of circle:4\n",
      "50.24\n"
     ]
    }
   ],
   "source": [
    "radius =float(input('Enter the radiius of circle:'))\n",
    "area = 3.14*radius*radius\n",
    "print(area)\n"
   ]
  },
  {
   "cell_type": "code",
   "execution_count": 41,
   "id": "2883a34d",
   "metadata": {},
   "outputs": [
    {
     "name": "stdout",
     "output_type": "stream",
     "text": [
      "Enter radius of circle :10\n",
      "Area of Circle is:  314.0\n"
     ]
    }
   ],
   "source": [
    "def area(radius):\n",
    "    a = 3.14*radius*radius\n",
    "    return a\n",
    "r = float(input(\"Enter radius of circle :\"))\n",
    "a=area(r)\n",
    "print(\"Area of Circle is: \", a)\n"
   ]
  },
  {
   "cell_type": "code",
   "execution_count": null,
   "id": "23f6ff4f",
   "metadata": {},
   "outputs": [],
   "source": []
  },
  {
   "cell_type": "markdown",
   "id": "ca837822",
   "metadata": {},
   "source": [
    "# Pynative Queastion:"
   ]
  },
  {
   "cell_type": "code",
   "execution_count": 3,
   "id": "33a823d9",
   "metadata": {},
   "outputs": [
    {
     "name": "stdout",
     "output_type": "stream",
     "text": [
      "75\n"
     ]
    }
   ],
   "source": [
    "student = {\n",
    "  \"name\": \"Emma\",\n",
    "  \"class\": 9,\n",
    "  \"marks\": 75\n",
    "}\n",
    "m = student.get('marks')\n",
    "print(m)"
   ]
  },
  {
   "cell_type": "code",
   "execution_count": 49,
   "id": "b2bb4616",
   "metadata": {},
   "outputs": [
    {
     "name": "stdout",
     "output_type": "stream",
     "text": [
      "Enter the Number:5\n",
      "factorial = 5\n",
      "factorial = 20\n",
      "factorial = 60\n",
      "factorial = 120\n",
      "factorial = 120\n"
     ]
    }
   ],
   "source": [
    "i = int(input(\"Enter the Number:\"))\n",
    "fac=1\n",
    "while(i>0):\n",
    "    fac=fac*i\n",
    "    i=i-1\n",
    "     \n",
    "    print(\"factorial =\",fac)"
   ]
  },
  {
   "cell_type": "markdown",
   "id": "86f52296",
   "metadata": {},
   "source": [
    "multiply list number take  user input: "
   ]
  },
  {
   "cell_type": "markdown",
   "id": "e9085215",
   "metadata": {},
   "source": [
    "defind function:"
   ]
  },
  {
   "cell_type": "code",
   "execution_count": 15,
   "id": "14e086ef",
   "metadata": {},
   "outputs": [
    {
     "name": "stdout",
     "output_type": "stream",
     "text": [
      "4\n",
      "8\n",
      "12\n",
      "16\n"
     ]
    }
   ],
   "source": [
    "def multi(c):\n",
    "    lists = [2,4,6,8]\n",
    "    for i in lists:\n",
    "        abc = c * i\n",
    "        print(abc)    \n",
    "multi(2)        "
   ]
  },
  {
   "cell_type": "markdown",
   "id": "9025a08e",
   "metadata": {},
   "source": [
    "take user input:"
   ]
  },
  {
   "cell_type": "code",
   "execution_count": 16,
   "id": "feb50254",
   "metadata": {},
   "outputs": [
    {
     "name": "stdout",
     "output_type": "stream",
     "text": [
      "enter the no:4\n",
      "8\n",
      "16\n",
      "24\n",
      "32\n"
     ]
    }
   ],
   "source": [
    "def multi():\n",
    "    c = int(input(\"enter the no:\"))\n",
    "    lists = [2,4,6,8]\n",
    "    for i in lists:\n",
    "        abc = c * i\n",
    "        print(abc)    \n",
    "multi()\n"
   ]
  },
  {
   "cell_type": "markdown",
   "id": "123050f3",
   "metadata": {},
   "source": [
    "# Strar print:"
   ]
  },
  {
   "cell_type": "code",
   "execution_count": 27,
   "id": "f673decb",
   "metadata": {},
   "outputs": [
    {
     "name": "stdout",
     "output_type": "stream",
     "text": [
      "enter the row:5\n",
      "*****\n",
      " ****\n",
      "  ***\n",
      "   **\n",
      "    *\n"
     ]
    }
   ],
   "source": [
    "row = int(input(\"enter the row:\"))\n",
    "\n",
    "for i in range(row):       #  when i=5  i=0, i=1, i=2, i=3, i=4\n",
    "    \n",
    "    print(\" \" * i + \"*\" * (row-i))        #row se har baar ek i minus hoga.\n",
    "    "
   ]
  },
  {
   "cell_type": "code",
   "execution_count": null,
   "id": "3c3b4024",
   "metadata": {},
   "outputs": [],
   "source": []
  },
  {
   "cell_type": "code",
   "execution_count": null,
   "id": "c4cc347a",
   "metadata": {},
   "outputs": [],
   "source": []
  },
  {
   "cell_type": "code",
   "execution_count": null,
   "id": "d2069300",
   "metadata": {},
   "outputs": [],
   "source": []
  },
  {
   "cell_type": "code",
   "execution_count": null,
   "id": "8f684ca7",
   "metadata": {},
   "outputs": [],
   "source": []
  },
  {
   "cell_type": "code",
   "execution_count": null,
   "id": "57093a15",
   "metadata": {},
   "outputs": [],
   "source": []
  },
  {
   "cell_type": "code",
   "execution_count": null,
   "id": "24aa3219",
   "metadata": {},
   "outputs": [],
   "source": []
  }
 ],
 "metadata": {
  "kernelspec": {
   "display_name": "Python 3 (ipykernel)",
   "language": "python",
   "name": "python3"
  },
  "language_info": {
   "codemirror_mode": {
    "name": "ipython",
    "version": 3
   },
   "file_extension": ".py",
   "mimetype": "text/x-python",
   "name": "python",
   "nbconvert_exporter": "python",
   "pygments_lexer": "ipython3",
   "version": "3.10.6"
  }
 },
 "nbformat": 4,
 "nbformat_minor": 5
}
