{
 "cells": [
  {
   "cell_type": "markdown",
   "id": "17a8284d",
   "metadata": {},
   "source": [
    "# loop question"
   ]
  },
  {
   "cell_type": "code",
   "execution_count": null,
   "id": "a358a8a0",
   "metadata": {},
   "outputs": [],
   "source": [
    "# if else, for loop, and range() Exercises\n"
   ]
  },
  {
   "cell_type": "markdown",
   "id": "aecad5da",
   "metadata": {},
   "source": [
    "1. To print odd & even number\n"
   ]
  },
  {
   "cell_type": "code",
   "execution_count": 9,
   "id": "48c488a7",
   "metadata": {},
   "outputs": [
    {
     "name": "stdout",
     "output_type": "stream",
     "text": [
      "enter the value :7\n",
      "7 is odd\n"
     ]
    }
   ],
   "source": [
    "x = int(input(\"enter the value :\"))\n",
    "if x%2==0:\n",
    "    print(x,\"is even\")\n",
    "else:\n",
    "    print(x,\"is odd\")\n",
    "    \n"
   ]
  },
  {
   "cell_type": "markdown",
   "id": "b883ab2d",
   "metadata": {},
   "source": [
    "2.Count the total number of digits in a number using for loop\n"
   ]
  },
  {
   "cell_type": "code",
   "execution_count": null,
   "id": "392b52cf",
   "metadata": {},
   "outputs": [],
   "source": []
  },
  {
   "cell_type": "markdown",
   "id": "d579cd5e",
   "metadata": {},
   "source": [
    "3.Write a program to print multiplication table of a given number\n",
    "eg.2 x 1 = 2\n",
    "     2 x 2 = 4 ........\n"
   ]
  },
  {
   "cell_type": "code",
   "execution_count": 1,
   "id": "c95280e2",
   "metadata": {},
   "outputs": [
    {
     "name": "stdout",
     "output_type": "stream",
     "text": [
      "enter the number:4\n",
      "1 * 4 = 4\n",
      "2 * 4 = 8\n",
      "3 * 4 = 12\n",
      "4 * 4 = 16\n",
      "5 * 4 = 20\n",
      "6 * 4 = 24\n",
      "7 * 4 = 28\n",
      "8 * 4 = 32\n",
      "9 * 4 = 36\n",
      "10 * 4 = 40\n"
     ]
    }
   ],
   "source": [
    "n  = int(input(\"enter the number:\"))\n",
    "for i in range(1,11):\n",
    "    print(i, \"*\", n, \"=\", i*n)\n"
   ]
  },
  {
   "cell_type": "markdown",
   "id": "c451b781",
   "metadata": {},
   "source": [
    "5.Find the factorial of a given number\n"
   ]
  },
  {
   "cell_type": "code",
   "execution_count": 1,
   "id": "d050ce2d",
   "metadata": {},
   "outputs": [
    {
     "name": "stdout",
     "output_type": "stream",
     "text": [
      "Enter the Number:5\n",
      "factorial = 5\n",
      "factorial = 20\n",
      "factorial = 60\n",
      "factorial = 120\n",
      "factorial = 120\n"
     ]
    }
   ],
   "source": [
    "i = int(input(\"Enter the Number:\"))\n",
    "fac=1\n",
    "while(i>0):\n",
    "    fac=fac*i\n",
    "    i=i-1\n",
    "    print(\"factorial =\",fac)\n",
    "  "
   ]
  },
  {
   "cell_type": "markdown",
   "id": "80544d44",
   "metadata": {},
   "source": [
    "6.Display Fibonacci series up to 10 terms\n"
   ]
  },
  {
   "cell_type": "code",
   "execution_count": 1,
   "id": "bb3aa35f",
   "metadata": {},
   "outputs": [
    {
     "name": "stdout",
     "output_type": "stream",
     "text": [
      "enter the number:10\n",
      "0\n",
      "1\n",
      "1\n",
      "2\n",
      "3\n",
      "5\n",
      "8\n"
     ]
    }
   ],
   "source": [
    "n=int(input(\"enter the number:\"))\n",
    "x=0\n",
    "y=1\n",
    "z=0\n",
    "while z<=n:\n",
    "    print(z)\n",
    "    x=y\n",
    "    y=z\n",
    "    z=x+y\n",
    "\n",
    "    \n"
   ]
  },
  {
   "cell_type": "markdown",
   "id": "34712c1c",
   "metadata": {},
   "source": [
    "8. print the given number is prime or not\n"
   ]
  },
  {
   "cell_type": "code",
   "execution_count": 21,
   "id": "8fbb8bc4",
   "metadata": {},
   "outputs": [
    {
     "name": "stdout",
     "output_type": "stream",
     "text": [
      "enter the number:7\n",
      "not prime\n"
     ]
    }
   ],
   "source": []
  },
  {
   "cell_type": "code",
   "execution_count": null,
   "id": "7349934d",
   "metadata": {},
   "outputs": [],
   "source": []
  },
  {
   "cell_type": "code",
   "execution_count": null,
   "id": "19837102",
   "metadata": {},
   "outputs": [],
   "source": []
  }
 ],
 "metadata": {
  "kernelspec": {
   "display_name": "Python 3 (ipykernel)",
   "language": "python",
   "name": "python3"
  },
  "language_info": {
   "codemirror_mode": {
    "name": "ipython",
    "version": 3
   },
   "file_extension": ".py",
   "mimetype": "text/x-python",
   "name": "python",
   "nbconvert_exporter": "python",
   "pygments_lexer": "ipython3",
   "version": "3.10.6"
  }
 },
 "nbformat": 4,
 "nbformat_minor": 5
}
