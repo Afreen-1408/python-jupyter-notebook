{
 "cells": [
  {
   "cell_type": "markdown",
   "id": "b46378d5",
   "metadata": {},
   "source": [
    "# Q.1 find the square of given range in dictionary key values pair me:"
   ]
  },
  {
   "cell_type": "code",
   "execution_count": 6,
   "id": "83dadcad",
   "metadata": {},
   "outputs": [
    {
     "name": "stdout",
     "output_type": "stream",
     "text": [
      "{1: 1, 2: 4, 3: 9, 4: 16, 5: 25, 6: 36, 7: 49, 8: 64, 9: 81, 10: 100}\n"
     ]
    }
   ],
   "source": [
    "dict = {}\n",
    "for i in range(1,11):\n",
    "    dict[i] = i**2\n",
    "print(dict)"
   ]
  },
  {
   "cell_type": "markdown",
   "id": "17ef5dd1",
   "metadata": {},
   "source": [
    "# this answer writen in dict comnprehsion:"
   ]
  },
  {
   "cell_type": "code",
   "execution_count": 13,
   "id": "73dfd55b",
   "metadata": {},
   "outputs": [
    {
     "name": "stdout",
     "output_type": "stream",
     "text": [
      "{1: 1, 2: 4, 3: 9, 4: 16, 5: 25, 6: 36, 7: 49, 8: 64, 9: 81, 10: 100}\n"
     ]
    }
   ],
   "source": [
    "dict1 = {key:value**2 for i in range(1,11)}\n",
    "dict1={i:i**2 for i in range(1,11)}\n",
    "print(dict1)"
   ]
  },
  {
   "cell_type": "markdown",
   "id": "d70b0af1",
   "metadata": {},
   "source": [
    "# Q.2 print the odd Even number in key values pair:"
   ]
  },
  {
   "cell_type": "code",
   "execution_count": 25,
   "id": "38369dd6",
   "metadata": {},
   "outputs": [
    {
     "name": "stdout",
     "output_type": "stream",
     "text": [
      "{1: 'odd', 2: 'even', 3: 'odd', 4: 'even', 5: 'odd', 6: 'even', 7: 'odd', 8: 'even', 9: 'odd', 10: 'even'}\n"
     ]
    }
   ],
   "source": [
    "dict = {}\n",
    "for i in range(1,11):\n",
    "    if i%2==0:\n",
    "        dict[i]=\"even\"\n",
    "    else:\n",
    "        dict[i]=\"odd\"\n",
    "print(dict)        "
   ]
  },
  {
   "cell_type": "markdown",
   "id": "331022d8",
   "metadata": {},
   "source": [
    "# print \"Even\" and \"Odd\" in key valuse pair dict compehrence:"
   ]
  },
  {
   "cell_type": "code",
   "execution_count": 33,
   "id": "1f8b71a9",
   "metadata": {},
   "outputs": [
    {
     "name": "stdout",
     "output_type": "stream",
     "text": [
      "{1: 'odd', 2: 'even', 3: 'odd', 4: 'even', 5: 'odd', 6: 'even', 7: 'odd', 8: 'even', 9: 'odd', 10: 'even'}\n"
     ]
    }
   ],
   "source": [
    "b = {x:'even' if x%2==0 else 'odd' for x in range(1,11)}\n",
    "print(b)"
   ]
  },
  {
   "cell_type": "markdown",
   "id": "ef9f3fc6",
   "metadata": {},
   "source": [
    "# Get only marks from dict:"
   ]
  },
  {
   "cell_type": "code",
   "execution_count": 39,
   "id": "0bd4b300",
   "metadata": {},
   "outputs": [
    {
     "name": "stdout",
     "output_type": "stream",
     "text": [
      "75\n"
     ]
    }
   ],
   "source": [
    "student = {\n",
    "  \"name\": \"Emma\",\n",
    "   \"class\": 9,\n",
    "    \"marks\": 75\n",
    "                }\n",
    "m = student.get('marks')\n",
    "print(m)"
   ]
  },
  {
   "cell_type": "markdown",
   "id": "b89e5ddb",
   "metadata": {},
   "source": [
    "# list of dict plus the all totelPremium in given list:"
   ]
  },
  {
   "cell_type": "code",
   "execution_count": 45,
   "id": "9d0e71c9",
   "metadata": {},
   "outputs": [
    {
     "name": "stdout",
     "output_type": "stream",
     "text": [
      "18276.98\n"
     ]
    }
   ],
   "source": [
    "li = [{\"name\":\"raja\",\"totalPremium\":4569},{\"name\":\"raja\",\"totalPremium\":\"4569\"},\n",
    "     {\"name\":\"raja\",\"totalPremium\":4569.44},{\"name\":\"raja\",\"totalPremium\":\"4569.54\"}]\n",
    "li1 = []\n",
    "for i in li:\n",
    "    li1.append(float(i[\"totalPremium\"]))\n",
    "print(sum(li1))"
   ]
  },
  {
   "cell_type": "code",
   "execution_count": 46,
   "id": "bb4c8d6d",
   "metadata": {},
   "outputs": [
    {
     "name": "stdout",
     "output_type": "stream",
     "text": [
      "18276.98\n"
     ]
    }
   ],
   "source": [
    "li = [{\"name\":\"raja\",\"totalPremium\":4569},{\"name\":\"raja\",\"totalPremium\":\"4569\"},\n",
    "     {\"name\":\"raja\",\"totalPremium\":4569.44},{\"name\":\"raja\",\"totalPremium\":\"4569.54\"}]\n",
    "li2 = []\n",
    "for i in li:\n",
    "    li2.append(float(i[\"totalPremium\"]))\n",
    "print(sum(li2))"
   ]
  },
  {
   "cell_type": "markdown",
   "id": "c2bfe5d3",
   "metadata": {},
   "source": [
    "# sort the list without using sort() function:"
   ]
  },
  {
   "cell_type": "code",
   "execution_count": 47,
   "id": "24c89905",
   "metadata": {},
   "outputs": [
    {
     "name": "stdout",
     "output_type": "stream",
     "text": [
      "[1, 3, 4, 6, 8, 10]\n"
     ]
    }
   ],
   "source": [
    "a = [3,6,1,8,4,10]\n",
    "for i in range(1, len(a)):\n",
    "    while a[i-1] > a[i] and i>0:\n",
    "        a[i-1],a[i] = a[i],a[i-1]\n",
    "        i = i - 1\n",
    "print(a)    "
   ]
  },
  {
   "cell_type": "markdown",
   "id": "f220b044",
   "metadata": {},
   "source": [
    "# pYnative question:"
   ]
  },
  {
   "cell_type": "code",
   "execution_count": 36,
   "id": "b7fc93d3",
   "metadata": {},
   "outputs": [
    {
     "name": "stdout",
     "output_type": "stream",
     "text": [
      "dict_keys(['name', 'age'])\n",
      "dict_values(['afreen', 24])\n",
      "{'name': 'afreen', 'age': 21}\n",
      "dict_items([('name', 'afreen'), ('age', 24)])\n",
      "21\n",
      "{'name': 'afreen', 'age': 24}\n"
     ]
    }
   ],
   "source": [
    "dic =  {'name': \"afreen\",'age': 21}  \n",
    "x = dic.keys()\n",
    "y = dic.values()\n",
    "z = dic.copy()\n",
    "a = dic.items()\n",
    "b = dic.get('age')\n",
    "c = dic.update({'age': 24})\n",
    "print(x)\n",
    "print(y)\n",
    "print(z)\n",
    "print(a)\n",
    "print(b)\n",
    "print(dic)"
   ]
  },
  {
   "cell_type": "code",
   "execution_count": null,
   "id": "f66d5825",
   "metadata": {},
   "outputs": [],
   "source": [
    "sampleSet = {\"Jodi\", \"Eric\", \"Garry\"}\n",
    "sampleSet.add(1, \"Vicki\")\n",
    "print(sampleSet)"
   ]
  },
  {
   "cell_type": "code",
   "execution_count": 48,
   "id": "5d4b5cb6",
   "metadata": {},
   "outputs": [
    {
     "name": "stdout",
     "output_type": "stream",
     "text": [
      "zikra\n",
      "{'name': 'misbah', 'fname': 'zikra', 'year': 2020}\n"
     ]
    }
   ],
   "source": [
    "a ={\n",
    "    \"name\": \"zikra\",\n",
    "    \"fname\": \"zikra\",\n",
    "    \"year\": 2012,\n",
    "    \"year\": 2020\n",
    "    \n",
    "}\n",
    "print(a[\"name\"]) \n",
    "a[\"name\"] = \"misbah\"\n",
    "print(a)"
   ]
  },
  {
   "cell_type": "code",
   "execution_count": null,
   "id": "64bc6d86",
   "metadata": {},
   "outputs": [],
   "source": []
  },
  {
   "cell_type": "code",
   "execution_count": null,
   "id": "4b67ff33",
   "metadata": {},
   "outputs": [],
   "source": []
  }
 ],
 "metadata": {
  "kernelspec": {
   "display_name": "Python 3 (ipykernel)",
   "language": "python",
   "name": "python3"
  },
  "language_info": {
   "codemirror_mode": {
    "name": "ipython",
    "version": 3
   },
   "file_extension": ".py",
   "mimetype": "text/x-python",
   "name": "python",
   "nbconvert_exporter": "python",
   "pygments_lexer": "ipython3",
   "version": "3.10.7"
  }
 },
 "nbformat": 4,
 "nbformat_minor": 5
}
