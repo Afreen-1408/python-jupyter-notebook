{
 "cells": [
  {
   "cell_type": "markdown",
   "id": "3f0a0e21",
   "metadata": {},
   "source": [
    "# ENCAPSULATION:"
   ]
  },
  {
   "cell_type": "markdown",
   "id": "9b257883",
   "metadata": {},
   "source": [
    "What is encapsulation in oops?\n",
    "   \n",
    "   \n",
    "encapsulation in python describe the concept of bundling data and methods within a single unit. is called as encapsulation.\n",
    "class in the example of encapsulation, when you creat a class that u implementing a encapsulation, and bihind the the data member and methods in to a single unit. "
   ]
  },
  {
   "cell_type": "markdown",
   "id": "4df55ae1",
   "metadata": {},
   "source": [
    "Encapsulation can be achieved by declaring the data members and methods of a class:\n",
    "private or protected: We can achieve this by using single underscore and double underscores.\n",
    "three types of access modifiers private, public, and protected.\n",
    "1) public member\n",
    "2) private member\n",
    "3) protected  member"
   ]
  },
  {
   "cell_type": "markdown",
   "id": "ff03ba90",
   "metadata": {},
   "source": [
    "# public member:   Accessible anywhere from otside oclass."
   ]
  },
  {
   "cell_type": "markdown",
   "id": "a8927985",
   "metadata": {},
   "source": [
    "Example:"
   ]
  },
  {
   "cell_type": "code",
   "execution_count": 1,
   "id": "521ff049",
   "metadata": {},
   "outputs": [
    {
     "name": "stdout",
     "output_type": "stream",
     "text": [
      "Name: afreen\n",
      "salary: 85000\n"
     ]
    }
   ],
   "source": [
    "class employee:\n",
    "    #constructor:\n",
    "    def __init__(self, name, salary):\n",
    "        # public data member\n",
    "        self.name = name\n",
    "        self.salary = salary                                    ## normal method ko public method bolte h  \n",
    "        \n",
    "    def show(self):\n",
    "        print(\"Name:\", self.name,)\n",
    "        print(\"salary:\", self.salary)\n",
    "emp = employee(\"afreen\", 85000)\n",
    "emp.show()\n",
    "        "
   ]
  },
  {
   "cell_type": "markdown",
   "id": "5d476788",
   "metadata": {},
   "source": [
    "# private member: We can protect variables in the class by marking them private. \n",
    "\n",
    "\n",
    "# To define a private variable add two underscores as a prefix at the start of a variable name"
   ]
  },
  {
   "cell_type": "code",
   "execution_count": null,
   "id": "a3c43e7c",
   "metadata": {},
   "outputs": [],
   "source": [
    "# when we call the obj in side  a function the give error, "
   ]
  },
  {
   "cell_type": "code",
   "execution_count": 2,
   "id": "55bfb052",
   "metadata": {},
   "outputs": [
    {
     "ename": "SyntaxError",
     "evalue": "invalid syntax (497360022.py, line 3)",
     "output_type": "error",
     "traceback": [
      "\u001b[1;36m  Input \u001b[1;32mIn [2]\u001b[1;36m\u001b[0m\n\u001b[1;33m    def __init__(self, name salary):\u001b[0m\n\u001b[1;37m                            ^\u001b[0m\n\u001b[1;31mSyntaxError\u001b[0m\u001b[1;31m:\u001b[0m invalid syntax\n"
     ]
    }
   ],
   "source": [
    "class empolyee:\n",
    "    # constructor:\n",
    "    def __init__(self, name salary):\n",
    "        #public data member\n",
    "        self.name = name\n",
    "        # private member\n",
    "        self.__salary = salary\n",
    "    \n",
    "emp = employee(\"afreen\", 1.2000)\n",
    "print(\"Name:\", self.name)\n",
    "\n",
    "# accessing private data members\n",
    "print('Salary:', emp.__salary) \n",
    "        "
   ]
  },
  {
   "cell_type": "markdown",
   "id": "55e097d9",
   "metadata": {},
   "source": [
    "We can access private members from outside of a class using the following two approaches:\n",
    "1) Create public method to access private members    \n",
    "2) Use name mangling"
   ]
  },
  {
   "cell_type": "markdown",
   "id": "a61de076",
   "metadata": {},
   "source": [
    "# Create public method to access private members    \n"
   ]
  },
  {
   "cell_type": "code",
   "execution_count": 13,
   "id": "eb2e12ce",
   "metadata": {},
   "outputs": [
    {
     "name": "stdout",
     "output_type": "stream",
     "text": [
      "Name:  shifa  Salary: 65000\n"
     ]
    }
   ],
   "source": [
    "class Employee:\n",
    "    # constructor\n",
    "    def __init__(self, name, salary):\n",
    "        # public data member\n",
    "        self.name = name\n",
    "        # private member\n",
    "        self.__salary = salary\n",
    "\n",
    "    # public instance methods\n",
    "    def show(self):\n",
    "        # private members are accessible from a class\n",
    "        print(\"Name: \", self.name, \" \" 'Salary:', self.__salary)\n",
    "\n",
    "# creating object of a class\n",
    "emp = Employee('shifa', 65000)\n",
    "\n",
    "# calling public method of the class\n",
    "emp.show()"
   ]
  },
  {
   "cell_type": "markdown",
   "id": "79031930",
   "metadata": {},
   "source": [
    "# Name Mangling to access private members\n"
   ]
  },
  {
   "cell_type": "code",
   "execution_count": 19,
   "id": "4a9fd391",
   "metadata": {},
   "outputs": [
    {
     "name": "stdout",
     "output_type": "stream",
     "text": [
      "Name: jessa\n",
      "Salary: 40000\n"
     ]
    }
   ],
   "source": [
    "class employee:\n",
    "    def __init__(self, name, salary):\n",
    "         # public data member\n",
    "        self.name = name\n",
    "        # private member\n",
    "        self.__salary = salary\n",
    "        \n",
    "  # creat obj       \n",
    "emp = employee(\"jessa\", 40000)\n",
    "\n",
    "\n",
    "print(\"Name:\", emp.name)\n",
    "\n",
    "\n",
    "# direct access to private member using name mangling\n",
    "print(\"Salary:\", emp._employee__salary)\n"
   ]
  },
  {
   "cell_type": "markdown",
   "id": "81ee08bf",
   "metadata": {},
   "source": [
    "# Protected Member"
   ]
  },
  {
   "cell_type": "markdown",
   "id": "8e518022",
   "metadata": {},
   "source": [
    "3)  Proctecd member in inheritance:"
   ]
  },
  {
   "cell_type": "markdown",
   "id": "a331fa6e",
   "metadata": {},
   "source": [
    "proected members are accessible within the class and also available to its sub-classes.\n",
    "To define a protected member,prefix the member name with a single underscore _."
   ]
  },
  {
   "cell_type": "code",
   "execution_count": 31,
   "id": "1a3e4dfc",
   "metadata": {},
   "outputs": [
    {
     "name": "stdout",
     "output_type": "stream",
     "text": [
      "Employee name : Jessa\n",
      "Working on project : NLP\n"
     ]
    }
   ],
   "source": [
    "# base class\n",
    "class Company:\n",
    "    def __init__(self):\n",
    "        # Protected member\n",
    "        self._project = \"NLP\"\n",
    "\n",
    "# child class\n",
    "class Employee(Company):\n",
    "    def __init__(self, name):\n",
    "        self.name = name\n",
    "        Company.__init__(self)\n",
    "\n",
    "    def show(self):\n",
    "        print(\"Employee name :\", self.name)\n",
    "        # Accessing protected member in child class\n",
    "        print(\"Working on project :\", self._project)\n",
    "\n",
    "c = Employee(\"Jessa\")\n",
    "c.show()\n",
    "\n",
    "# Direct access protected data member\n",
    "#print('Project:', c._project)"
   ]
  },
  {
   "cell_type": "code",
   "execution_count": null,
   "id": "158cfff8",
   "metadata": {},
   "outputs": [],
   "source": []
  },
  {
   "cell_type": "code",
   "execution_count": null,
   "id": "0d10b310",
   "metadata": {},
   "outputs": [],
   "source": []
  },
  {
   "cell_type": "code",
   "execution_count": null,
   "id": "45987259",
   "metadata": {},
   "outputs": [],
   "source": []
  },
  {
   "cell_type": "code",
   "execution_count": null,
   "id": "b915d160",
   "metadata": {},
   "outputs": [],
   "source": []
  },
  {
   "cell_type": "code",
   "execution_count": null,
   "id": "d0fd46be",
   "metadata": {},
   "outputs": [],
   "source": []
  },
  {
   "cell_type": "code",
   "execution_count": null,
   "id": "4855f980",
   "metadata": {},
   "outputs": [],
   "source": []
  },
  {
   "cell_type": "code",
   "execution_count": null,
   "id": "ccbd0aca",
   "metadata": {},
   "outputs": [],
   "source": []
  }
 ],
 "metadata": {
  "kernelspec": {
   "display_name": "Python 3 (ipykernel)",
   "language": "python",
   "name": "python3"
  },
  "language_info": {
   "codemirror_mode": {
    "name": "ipython",
    "version": 3
   },
   "file_extension": ".py",
   "mimetype": "text/x-python",
   "name": "python",
   "nbconvert_exporter": "python",
   "pygments_lexer": "ipython3",
   "version": "3.10.6"
  }
 },
 "nbformat": 4,
 "nbformat_minor": 5
}
