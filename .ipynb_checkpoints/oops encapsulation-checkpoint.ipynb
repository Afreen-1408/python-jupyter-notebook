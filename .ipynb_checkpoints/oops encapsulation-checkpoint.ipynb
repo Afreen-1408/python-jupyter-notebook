{
 "cells": [
  {
   "cell_type": "markdown",
   "id": "3f0a0e21",
   "metadata": {},
   "source": [
    "# ENCAPSULATION:"
   ]
  },
  {
   "cell_type": "markdown",
   "id": "9b257883",
   "metadata": {},
   "source": [
    "What is encapsulation in oops?\n",
    "   \n",
    "   \n",
    "encapsulation in python describe the concept of bundling data and methods within a single unit. is called as encapsulation.\n",
    "class in the example of encapsulation, when you creat a class that u implementing a encapsulation, and bihind the the data member and methods in to a single unit. "
   ]
  },
  {
   "cell_type": "markdown",
   "id": "4df55ae1",
   "metadata": {},
   "source": [
    "Encapsulation can be achieved by declaring the data members and methods of a class:\n",
    "private or protected: We can achieve this by using single underscore and double underscores.\n",
    "three types of access modifiers private, public, and protected.\n",
    "1) public member\n",
    "2) private member\n",
    "3) protected  member"
   ]
  },
  {
   "cell_type": "markdown",
   "id": "ff03ba90",
   "metadata": {},
   "source": [
    "# public member:   Accessible anywhere from otside oclass."
   ]
  },
  {
   "cell_type": "markdown",
   "id": "a8927985",
   "metadata": {},
   "source": [
    "Example:"
   ]
  },
  {
   "cell_type": "code",
   "execution_count": 1,
   "id": "521ff049",
   "metadata": {},
   "outputs": [
    {
     "name": "stdout",
     "output_type": "stream",
     "text": [
      "Name: afreen\n",
      "salary: 85000\n"
     ]
    }
   ],
   "source": [
    "class employee:\n",
    "    #constructor:\n",
    "    def __init__(self, name, salary):\n",
    "        # public data member\n",
    "        self.name = name\n",
    "        self.salary = salary                                    ## normal method ko public method bolte h  \n",
    "        \n",
    "    def show(self):\n",
    "        print(\"Name:\", self.name,)\n",
    "        print(\"salary:\", self.salary)\n",
    "emp = employee(\"afreen\", 85000)\n",
    "emp.show()\n",
    "        "
   ]
  },
  {
   "cell_type": "markdown",
   "id": "5d476788",
   "metadata": {},
   "source": [
    "# private member: We can protect variables in the class by marking them private. \n",
    "\n",
    "\n",
    "# To define a private variable add two underscores as a prefix at the start of a variable name"
   ]
  },
  {
   "cell_type": "code",
   "execution_count": null,
   "id": "a3c43e7c",
   "metadata": {},
   "outputs": [],
   "source": [
    "# when we call the obj in side  a function the give error, "
   ]
  },
  {
   "cell_type": "code",
   "execution_count": 2,
   "id": "55bfb052",
   "metadata": {},
   "outputs": [
    {
     "ename": "SyntaxError",
     "evalue": "invalid syntax (497360022.py, line 3)",
     "output_type": "error",
     "traceback": [
      "\u001b[1;36m  Input \u001b[1;32mIn [2]\u001b[1;36m\u001b[0m\n\u001b[1;33m    def __init__(self, name salary):\u001b[0m\n\u001b[1;37m                            ^\u001b[0m\n\u001b[1;31mSyntaxError\u001b[0m\u001b[1;31m:\u001b[0m invalid syntax\n"
     ]
    }
   ],
   "source": [
    "class empolyee:\n",
    "    # constructor:\n",
    "    def __init__(self, name salary):\n",
    "        #public data member\n",
    "        self.name = name\n",
    "        # private member\n",
    "        self.__salary = salary\n",
    "    \n",
    "emp = employee(\"afreen\", 1.2000)\n",
    "print(\"Name:\", self.name)\n",
    "\n",
    "# accessing private data members\n",
    "print('Salary:', emp.__salary) \n",
    "        "
   ]
  },
  {
   "cell_type": "markdown",
   "id": "55e097d9",
   "metadata": {},
   "source": [
    "We can access private members from outside of a class using the following two approaches:\n",
    "1) Create public method to access private members    \n",
    "2) Use name mangling"
   ]
  },
  {
   "cell_type": "markdown",
   "id": "a61de076",
   "metadata": {},
   "source": [
    "# Create public method to access private members    \n"
   ]
  },
  {
   "cell_type": "code",
   "execution_count": 13,
   "id": "eb2e12ce",
   "metadata": {},
   "outputs": [
    {
     "name": "stdout",
     "output_type": "stream",
     "text": [
      "Name:  shifa  Salary: 65000\n"
     ]
    }
   ],
   "source": [
    "class Employee:\n",
    "    # constructor\n",
    "    def __init__(self, name, salary):\n",
    "        # public data member\n",
    "        self.name = name\n",
    "        # private member\n",
    "        self.__salary = salary\n",
    "\n",
    "    # public instance methods\n",
    "    def show(self):\n",
    "        # private members are accessible from a class\n",
    "        print(\"Name: \", self.name, \" \" 'Salary:', self.__salary)\n",
    "\n",
    "# creating object of a class\n",
    "emp = Employee('shifa', 65000)\n",
    "\n",
    "# calling public method of the class\n",
    "emp.show()"
   ]
  },
  {
   "cell_type": "markdown",
   "id": "79031930",
   "metadata": {},
   "source": [
    "# Name Mangling to access private members\n"
   ]
  },
  {
   "cell_type": "code",
   "execution_count": 19,
   "id": "4a9fd391",
   "metadata": {},
   "outputs": [
    {
     "name": "stdout",
     "output_type": "stream",
     "text": [
      "Name: jessa\n",
      "Salary: 40000\n"
     ]
    }
   ],
   "source": [
    "class employee:\n",
    "    def __init__(self, name, salary):\n",
    "         # public data member\n",
    "        self.name = name\n",
    "        # private member\n",
    "        self.__salary = salary\n",
    "        \n",
    "  # creat obj       \n",
    "emp = employee(\"jessa\", 40000)\n",
    "\n",
    "\n",
    "print(\"Name:\", emp.name)\n",
    "\n",
    "\n",
    "# direct access to private member using name mangling\n",
    "print(\"Salary:\", emp._employee__salary)\n"
   ]
  },
  {
   "cell_type": "markdown",
   "id": "81ee08bf",
   "metadata": {},
   "source": [
    "# Protected Member"
   ]
  },
  {
   "cell_type": "markdown",
   "id": "8e518022",
   "metadata": {},
   "source": [
    "3)  Proctecd member in inheritance:"
   ]
  },
  {
   "cell_type": "markdown",
   "id": "a331fa6e",
   "metadata": {},
   "source": [
    "proected members are accessible within the class and also available to its sub-classes.\n",
    "To define a protected member,prefix the member name with a single underscore _."
   ]
  },
  {
   "cell_type": "code",
   "execution_count": 31,
   "id": "1a3e4dfc",
   "metadata": {},
   "outputs": [
    {
     "name": "stdout",
     "output_type": "stream",
     "text": [
      "Employee name : Jessa\n",
      "Working on project : NLP\n"
     ]
    }
   ],
   "source": [
    "# base class\n",
    "class Company:\n",
    "    def __init__(self):\n",
    "        # Protected member\n",
    "        self._project = \"NLP\"\n",
    "\n",
    "# child class\n",
    "class Employee(Company):\n",
    "    def __init__(self, name):\n",
    "        self.name = name\n",
    "        Company.__init__(self)\n",
    "\n",
    "    def show(self):\n",
    "        print(\"Employee name :\", self.name)\n",
    "        # Accessing protected member in child class\n",
    "        print(\"Working on project :\", self._project)\n",
    "\n",
    "c = Employee(\"Jessa\")\n",
    "c.show()\n",
    "\n",
    "# Direct access protected data member\n",
    "#print('Project:', c._project)"
   ]
  },
  {
   "cell_type": "markdown",
   "id": "92831dd0",
   "metadata": {},
   "source": [
    "# INHERITANCE:"
   ]
  },
  {
   "cell_type": "code",
   "execution_count": null,
   "id": "c447e162",
   "metadata": {},
   "outputs": [],
   "source": [
    "WHAT IS INHERITANCE IN OPYTHON?\n",
    "\n",
    "The process of inheritance in python,\n",
    "the properties of perent class in to a child class this is called as in heritance in python."
   ]
  },
  {
   "cell_type": "markdown",
   "id": "480f8c4a",
   "metadata": {},
   "source": [
    "# FIVE TYPES OF INHERITANCE IN PYTHON:\n",
    "# 1) SINGLE  INHERITANCE\n",
    "# 2) MULTIPLE INHERITANCE\n",
    "# 3) MULTILEVEL INHERITANCE\n",
    "# 4) HERARICLA INHERITANCE\n",
    "# 5) HYBRID INHERITANCE"
   ]
  },
  {
   "cell_type": "markdown",
   "id": "67708934",
   "metadata": {},
   "source": [
    "1) SINGLE INHERITANCE:\n",
    "one child class inherit from a single parent class this in called single inheritance."
   ]
  },
  {
   "cell_type": "code",
   "execution_count": 1,
   "id": "e15e4191",
   "metadata": {},
   "outputs": [
    {
     "name": "stdout",
     "output_type": "stream",
     "text": [
      "my name is: afreen\n",
      "my age is: 20\n"
     ]
    }
   ],
   "source": [
    "class parent:\n",
    "    def __init__(self, name):\n",
    "        self.name = name\n",
    "class child(parent):\n",
    "    def __init__(self, name, age):\n",
    "        super().__init__(name)\n",
    "        self.age = age\n",
    "    def show(self):\n",
    "        print(\"my name is:\", self.name)\n",
    "        print(\"my age is:\", self.age)\n",
    "c1 = child(\"afreen\", 20)\n",
    "c1.show()"
   ]
  },
  {
   "cell_type": "markdown",
   "id": "ef047937",
   "metadata": {},
   "source": [
    "2) multiple inheritance:\n",
    "one child class can derive or inherit from multipel  parent class  so here\n",
    "is one child and morw than two parent class       "
   ]
  },
  {
   "cell_type": "code",
   "execution_count": 9,
   "id": "a7f8b39e",
   "metadata": {},
   "outputs": [
    {
     "name": "stdout",
     "output_type": "stream",
     "text": [
      "Name: Afreen\n",
      "Age: 20\n",
      "company name: Google\n",
      "company location: Sakina\n",
      "employee Salary: enginering\n",
      "employee Skill: 95000\n"
     ]
    }
   ],
   "source": [
    "class person:\n",
    "    def person_info(self, name, age):\n",
    "        print(\"Name:\", name)\n",
    "        print(\"Age:\", age)\n",
    "class company:\n",
    "    def company_info(self, com_name, com_location):\n",
    "        print(\"company name:\",  com_name) \n",
    "        print(\"company location:\", com_location)\n",
    "class employee(person, company):\n",
    "    def employee_info(self, skill, salary):\n",
    "        print(\"employee Salary:\", salary )\n",
    "        print(\"employee Skill:\", skill)       \n",
    "emp = employee()\n",
    "\n",
    "emp.person_info(\"Afreen\", 20)\n",
    "emp.company_info(\"Google\", \"Sakina\")\n",
    "emp.employee_info(95000, \"enginering\")\n",
    "\n"
   ]
  },
  {
   "cell_type": "markdown",
   "id": "710f65fa",
   "metadata": {},
   "source": [
    "3) MULTILEVEL INHERITANCE:\n",
    "multilevel inheritance is called as chaing of clasess, \n",
    "for example three class will be give class A , B , C \n",
    "B is  child clas of A and C is the child class of, B"
   ]
  },
  {
   "cell_type": "code",
   "execution_count": 15,
   "id": "ec223433",
   "metadata": {},
   "outputs": [
    {
     "name": "stdout",
     "output_type": "stream",
     "text": [
      "Name: Afreen\n",
      "Age: 20\n",
      "Salary: 87000\n"
     ]
    }
   ],
   "source": [
    "class parent:\n",
    "    def __init__(self, name):\n",
    "        self.name = name\n",
    "class child1(parent):\n",
    "    def __init__(self, name, age):\n",
    "        super().__init__(name)\n",
    "        self.age = age \n",
    "class child2(child1):\n",
    "    def __init__(self, name, age, salary):\n",
    "        super().__init__(name, age)\n",
    "        self.salary = salary\n",
    "    def show(self):\n",
    "        print(\"Name:\", self.name)\n",
    "        print(\"Age:\", self.age)\n",
    "        print(\"Salary:\", self.salary)        \n",
    "c1 = child2(\"Afreen\", 20, 87000)\n",
    "c1.show()"
   ]
  },
  {
   "cell_type": "markdown",
   "id": "00c33155",
   "metadata": {},
   "source": [
    "4) HERARICAL INHERITANCE:\n",
    "one or more than child class derive or inherit from a single parent class thi is called as herarical inheritance.    \n",
    "we can say one parent class and multiple child classes."
   ]
  },
  {
   "cell_type": "code",
   "execution_count": 20,
   "id": "1f336edb",
   "metadata": {},
   "outputs": [
    {
     "name": "stdout",
     "output_type": "stream",
     "text": [
      "this is vehicle\n",
      "car name: BMW\n",
      "this is vehicle\n",
      "car name: Truck\n"
     ]
    }
   ],
   "source": [
    "class vehicle:\n",
    "    def vehicle_info(self):\n",
    "        print(\"this is vehicle\")\n",
    "class car(vehicle):\n",
    "    def car_info(self, name):\n",
    "        print(\"car name:\", name)\n",
    "class truck(vehicle):\n",
    "    def truck_info(self, name):\n",
    "        print(\"car name:\", name)\n",
    "car1 = car()\n",
    "car1.vehicle_info()\n",
    "car1.car_info(\"BMW\")\n",
    "\n",
    "\n",
    "truck1 = truck()\n",
    "truck1.vehicle_info()\n",
    "truck1.truck_info(\"Truck\")\n",
    "        "
   ]
  },
  {
   "cell_type": "code",
   "execution_count": null,
   "id": "f281c5e6",
   "metadata": {},
   "outputs": [],
   "source": [
    "5) HYBRID INHERITANCE:\n",
    "combination of different or multiple inheritance this is called as hybrid iinheritance."
   ]
  },
  {
   "cell_type": "code",
   "execution_count": null,
   "id": "ce5568fd",
   "metadata": {},
   "outputs": [],
   "source": []
  },
  {
   "cell_type": "code",
   "execution_count": null,
   "id": "7b01c52c",
   "metadata": {},
   "outputs": [],
   "source": []
  },
  {
   "cell_type": "code",
   "execution_count": null,
   "id": "275637b0",
   "metadata": {},
   "outputs": [],
   "source": []
  },
  {
   "cell_type": "code",
   "execution_count": null,
   "id": "f5c140c2",
   "metadata": {},
   "outputs": [],
   "source": []
  },
  {
   "cell_type": "code",
   "execution_count": null,
   "id": "70a5c770",
   "metadata": {},
   "outputs": [],
   "source": []
  },
  {
   "cell_type": "code",
   "execution_count": null,
   "id": "c27621eb",
   "metadata": {},
   "outputs": [],
   "source": []
  }
 ],
 "metadata": {
  "kernelspec": {
   "display_name": "Python 3 (ipykernel)",
   "language": "python",
   "name": "python3"
  },
  "language_info": {
   "codemirror_mode": {
    "name": "ipython",
    "version": 3
   },
   "file_extension": ".py",
   "mimetype": "text/x-python",
   "name": "python",
   "nbconvert_exporter": "python",
   "pygments_lexer": "ipython3",
   "version": "3.10.7"
  }
 },
 "nbformat": 4,
 "nbformat_minor": 5
}
