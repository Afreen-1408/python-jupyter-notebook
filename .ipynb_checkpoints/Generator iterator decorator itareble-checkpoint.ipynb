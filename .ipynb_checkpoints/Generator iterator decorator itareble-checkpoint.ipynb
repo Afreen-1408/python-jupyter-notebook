{
 "cells": [
  {
   "cell_type": "markdown",
   "id": "ae714d9b",
   "metadata": {},
   "source": [
    "# decoretor:"
   ]
  },
  {
   "cell_type": "code",
   "execution_count": 4,
   "id": "f14f6f1f",
   "metadata": {},
   "outputs": [
    {
     "name": "stdout",
     "output_type": "stream",
     "text": [
      "my name is afreen\n",
      "here my actuall function\n"
     ]
    }
   ],
   "source": [
    "def sample(mark):\n",
    "    def additionmarks():\n",
    "        print(\"my name is afreen\")\n",
    "        mark()\n",
    "    return additionmarks\n",
    "@sample\n",
    "def student():\n",
    "    print((\"here my actuall function\"))\n",
    "student()\n",
    "\n"
   ]
  },
  {
   "cell_type": "code",
   "execution_count": 12,
   "id": "6110a4bd",
   "metadata": {},
   "outputs": [
    {
     "name": "stdout",
     "output_type": "stream",
     "text": [
      "my school name is G.I,U.H.S\n",
      "my name is manihar afreen\n"
     ]
    }
   ],
   "source": [
    "def secondfun(func):\n",
    "    def inner (a,b,c):\n",
    "        print(\"my school name is G.I,U.H.S\")\n",
    "        func(a,b)\n",
    "    return inner\n",
    "@secondfun\n",
    "def actualfunc(a,b):\n",
    "    print(\"my name is\",a,b)\n",
    "actualfunc(\"manihar\", \"afreen\", \"G.I,U.H.S\")    "
   ]
  },
  {
   "cell_type": "markdown",
   "id": "c08b0a60",
   "metadata": {},
   "source": [
    "# Generator:"
   ]
  },
  {
   "cell_type": "code",
   "execution_count": 14,
   "id": "14319b65",
   "metadata": {},
   "outputs": [
    {
     "name": "stdout",
     "output_type": "stream",
     "text": [
      "1\n",
      "4\n",
      "9\n",
      "16\n",
      "25\n",
      "36\n",
      "49\n",
      "64\n",
      "81\n",
      "100\n"
     ]
    }
   ],
   "source": [
    "def square():\n",
    "    i=1\n",
    "    while True:\n",
    "        yield i*i\n",
    "        i = i + 1\n",
    "for num in square():\n",
    "    if num > 100:\n",
    "        break\n",
    "    print(num)    "
   ]
  },
  {
   "cell_type": "markdown",
   "id": "09780b35",
   "metadata": {},
   "source": [
    "# Iterator:"
   ]
  },
  {
   "cell_type": "code",
   "execution_count": 19,
   "id": "f585f05f",
   "metadata": {},
   "outputs": [
    {
     "name": "stdout",
     "output_type": "stream",
     "text": [
      "1\n",
      "2\n",
      "3\n",
      "4\n"
     ]
    }
   ],
   "source": [
    "a =iter([1,2,3,4])\n",
    "print(next(a))\n",
    "print(next(a))\n",
    "print(next(a))\n",
    "print(next(a))\n"
   ]
  },
  {
   "cell_type": "code",
   "execution_count": 20,
   "id": "0991934f",
   "metadata": {},
   "outputs": [
    {
     "name": "stdout",
     "output_type": "stream",
     "text": [
      "A\n",
      "f\n",
      "r\n",
      "e\n",
      "e\n",
      "n\n"
     ]
    }
   ],
   "source": [
    "a = iter(\"Afreen\")\n",
    "print(next(a))\n",
    "print(next(a))\n",
    "print(next(a))\n",
    "print(next(a))\n",
    "print(next(a))\n",
    "print(next(a))"
   ]
  },
  {
   "cell_type": "markdown",
   "id": "eb9a60dd",
   "metadata": {},
   "source": [
    "# Iterable:"
   ]
  },
  {
   "cell_type": "code",
   "execution_count": 26,
   "id": "73f73678",
   "metadata": {},
   "outputs": [
    {
     "name": "stdout",
     "output_type": "stream",
     "text": [
      "2\n",
      "4\n",
      "6\n",
      "8\n",
      "10\n",
      "12\n",
      "14\n",
      "16\n"
     ]
    }
   ],
   "source": [
    "a = [2,4,6,8,10,12,14,16]\n",
    "for i in a:                            #witch iterated in iteration\n",
    "    print(i)"
   ]
  },
  {
   "cell_type": "code",
   "execution_count": null,
   "id": "16173a9c",
   "metadata": {},
   "outputs": [],
   "source": []
  },
  {
   "cell_type": "code",
   "execution_count": null,
   "id": "f4c4bdb1",
   "metadata": {},
   "outputs": [],
   "source": []
  }
 ],
 "metadata": {
  "kernelspec": {
   "display_name": "Python 3 (ipykernel)",
   "language": "python",
   "name": "python3"
  },
  "language_info": {
   "codemirror_mode": {
    "name": "ipython",
    "version": 3
   },
   "file_extension": ".py",
   "mimetype": "text/x-python",
   "name": "python",
   "nbconvert_exporter": "python",
   "pygments_lexer": "ipython3",
   "version": "3.10.7"
  }
 },
 "nbformat": 4,
 "nbformat_minor": 5
}
