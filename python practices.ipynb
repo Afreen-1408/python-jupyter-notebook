{
 "cells": [
  {
   "cell_type": "code",
   "execution_count": 1,
   "id": "e54708cc",
   "metadata": {},
   "outputs": [
    {
     "name": "stdout",
     "output_type": "stream",
     "text": [
      "1\n"
     ]
    }
   ],
   "source": [
    "a= 5\n",
    "b= 2\n",
    "print(a % b)"
   ]
  },
  {
   "cell_type": "code",
   "execution_count": 6,
   "id": "8ca83e7b",
   "metadata": {},
   "outputs": [
    {
     "name": "stdout",
     "output_type": "stream",
     "text": [
      "9\n"
     ]
    }
   ],
   "source": [
    "def addition(a,b):\n",
    "    c = a + b\n",
    "    print(c)\n",
    "addition(4,5)\n"
   ]
  },
  {
   "cell_type": "code",
   "execution_count": 10,
   "id": "42acff93",
   "metadata": {},
   "outputs": [
    {
     "name": "stdout",
     "output_type": "stream",
     "text": [
      "enter the num:4\n",
      "4\n",
      "8\n",
      "12\n",
      "16\n",
      "20\n",
      "24\n",
      "28\n",
      "32\n",
      "36\n",
      "40\n"
     ]
    }
   ],
   "source": [
    "def table():\n",
    "    a = int(input(\"enter the num:\"))\n",
    "    for i in range(1,11):\n",
    "        c=a*i\n",
    "        print(c) \n",
    "table()        "
   ]
  },
  {
   "cell_type": "code",
   "execution_count": 14,
   "id": "908e5070",
   "metadata": {},
   "outputs": [
    {
     "name": "stdout",
     "output_type": "stream",
     "text": [
      "enter the num:4\n",
      "4\n",
      "8\n",
      "12\n",
      "16\n",
      "20\n",
      "24\n",
      "28\n",
      "32\n",
      "36\n",
      "40\n"
     ]
    }
   ],
   "source": [
    "a = int(input(\"enter the num:\"))\n",
    "for i in range(1,11):\n",
    "    c=a*i\n",
    "    print(c) "
   ]
  },
  {
   "cell_type": "code",
   "execution_count": 26,
   "id": "acbc45a9",
   "metadata": {},
   "outputs": [
    {
     "name": "stdout",
     "output_type": "stream",
     "text": [
      "['EVEN', 'Odd', 'EVEN', 'Odd', 'EVEN']\n"
     ]
    }
   ],
   "source": [
    "def oddeven(a):\n",
    "    for i in a:\n",
    "        if i%2==0:\n",
    "            b.append(\"EVEN\")\n",
    "        else:\n",
    "            b.append(\"Odd\")            \n",
    "lst = [2,3,4,5,6] \n",
    "b = []\n",
    "oddeven(lst)\n",
    "print(b)"
   ]
  },
  {
   "cell_type": "code",
   "execution_count": 28,
   "id": "03f197a7",
   "metadata": {},
   "outputs": [
    {
     "name": "stdout",
     "output_type": "stream",
     "text": [
      "['Odd', 'Odd', 'Odd', 'Odd', 'Odd']\n"
     ]
    }
   ],
   "source": [
    "a = [5,7,9,1,3]\n",
    "b = [(lambda i: \"Even\" if i%2==0 else \"Odd\") (i)  for i in a]\n",
    "print(b)"
   ]
  },
  {
   "cell_type": "code",
   "execution_count": 30,
   "id": "36794822",
   "metadata": {},
   "outputs": [
    {
     "name": "stdout",
     "output_type": "stream",
     "text": [
      "['Odd', 'Even', 'Odd', 'Even', 'Odd']\n"
     ]
    }
   ],
   "source": [
    "def labda(x):\n",
    "    b = [(lambda x: \"Even\" if x%2==0 else \"Odd\")(x) for x in a]\n",
    "    print(b)\n",
    "a = [3,6,9,12,5]    \n",
    "labda(a)    "
   ]
  },
  {
   "cell_type": "code",
   "execution_count": 2,
   "id": "5f2a5c7e",
   "metadata": {},
   "outputs": [
    {
     "name": "stdout",
     "output_type": "stream",
     "text": [
      "dict_items([('name', 'Afreen'), ('Age', 21), ('salary', 87000)])\n",
      "dict_keys(['name', 'Age', 'salary'])\n",
      "dict_values(['Afreen', 21, 87000])\n"
     ]
    }
   ],
   "source": [
    "dictn = {\"name\":\"Afreen\", \"Age\":21, \"salary\":87000}\n",
    "print(dictn.items())\n",
    "print(dictn.keys())\n",
    "print(dictn.values())"
   ]
  },
  {
   "cell_type": "code",
   "execution_count": 15,
   "id": "5a756f2c",
   "metadata": {},
   "outputs": [
    {
     "name": "stdout",
     "output_type": "stream",
     "text": [
      "key : value\n",
      "name : Afreen\n",
      "Country : Mumbai\n",
      "salary : 87000\n"
     ]
    }
   ],
   "source": [
    "person = {\"name\": \"Afreen\", \"Country\": \"Mumbai\", \"salary\": 87000}\n",
    "print('key', ':', 'value')\n",
    "for key in person:\n",
    "    print(key, ':' ,person[key])"
   ]
  },
  {
   "cell_type": "code",
   "execution_count": 12,
   "id": "dcadd987",
   "metadata": {},
   "outputs": [
    {
     "name": "stdout",
     "output_type": "stream",
     "text": [
      "key : value\n",
      "name : Jessa\n",
      "country : USA\n",
      "telephone : 1178\n"
     ]
    }
   ],
   "source": [
    "person = {\"name\": \"Jessa\", \"country\": \"USA\", \"telephone\": 1178}\n",
    "\n",
    "# Iterating the dictionary using for-loop\n",
    "print('key', ':', 'value')\n",
    "for key in person:\n",
    "    print(key, ':', person[key])"
   ]
  },
  {
   "cell_type": "code",
   "execution_count": 17,
   "id": "93a00960",
   "metadata": {},
   "outputs": [
    {
     "name": "stdout",
     "output_type": "stream",
     "text": [
      "1140\n"
     ]
    }
   ],
   "source": [
    "a = 65\n",
    "b = 1075\n",
    "c = a + b\n",
    "print(c)"
   ]
  },
  {
   "cell_type": "code",
   "execution_count": 23,
   "id": "de6f3f9e",
   "metadata": {},
   "outputs": [
    {
     "name": "stdout",
     "output_type": "stream",
     "text": [
      "18\n"
     ]
    }
   ],
   "source": [
    "def add(a,b):\n",
    "    c = a * b\n",
    "    print(c)\n",
    "add(3,6)"
   ]
  },
  {
   "cell_type": "code",
   "execution_count": null,
   "id": "c621ff05",
   "metadata": {},
   "outputs": [],
   "source": []
  }
 ],
 "metadata": {
  "kernelspec": {
   "display_name": "Python 3 (ipykernel)",
   "language": "python",
   "name": "python3"
  },
  "language_info": {
   "codemirror_mode": {
    "name": "ipython",
    "version": 3
   },
   "file_extension": ".py",
   "mimetype": "text/x-python",
   "name": "python",
   "nbconvert_exporter": "python",
   "pygments_lexer": "ipython3",
   "version": "3.10.7"
  }
 },
 "nbformat": 4,
 "nbformat_minor": 5
}
