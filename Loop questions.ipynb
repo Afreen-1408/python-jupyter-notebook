{
 "cells": [
  {
   "cell_type": "markdown",
   "id": "17a8284d",
   "metadata": {},
   "source": [
    "# loop question"
   ]
  },
  {
   "cell_type": "markdown",
   "id": "aecad5da",
   "metadata": {},
   "source": [
    "1. To print odd & even number\n"
   ]
  },
  {
   "cell_type": "code",
   "execution_count": 9,
   "id": "48c488a7",
   "metadata": {},
   "outputs": [
    {
     "name": "stdout",
     "output_type": "stream",
     "text": [
      "enter the value :7\n",
      "7 is odd\n"
     ]
    }
   ],
   "source": [
    "x = int(input(\"enter the value :\"))\n",
    "if x%2==0:\n",
    "    print(x,\"is even\")\n",
    "else:\n",
    "    print(x,\"is odd\")\n",
    "    \n"
   ]
  },
  {
   "cell_type": "markdown",
   "id": "b883ab2d",
   "metadata": {},
   "source": [
    "2.Count the total number of digits in a number using for loop\n"
   ]
  },
  {
   "cell_type": "code",
   "execution_count": 35,
   "id": "392b52cf",
   "metadata": {},
   "outputs": [
    {
     "name": "stdout",
     "output_type": "stream",
     "text": [
      "4\n"
     ]
    }
   ],
   "source": [
    "a=\"7896\"\n",
    "count=0\n",
    "for i in a:\n",
    "    count=count+1\n",
    "print(count)\n",
    "    "
   ]
  },
  {
   "cell_type": "markdown",
   "id": "d579cd5e",
   "metadata": {},
   "source": [
    " 3.Write a program to print multiplication table of a given number\n",
    "eg.2 x 1 = 2\n",
    "     2 x 2 = 4 ........\n"
   ]
  },
  {
   "cell_type": "code",
   "execution_count": 1,
   "id": "c95280e2",
   "metadata": {},
   "outputs": [
    {
     "name": "stdout",
     "output_type": "stream",
     "text": [
      "enter the number:4\n",
      "1 * 4 = 4\n",
      "2 * 4 = 8\n",
      "3 * 4 = 12\n",
      "4 * 4 = 16\n",
      "5 * 4 = 20\n",
      "6 * 4 = 24\n",
      "7 * 4 = 28\n",
      "8 * 4 = 32\n",
      "9 * 4 = 36\n",
      "10 * 4 = 40\n"
     ]
    }
   ],
   "source": [
    "n  = int(input(\"enter the number:\"))\n",
    "for i in range(1,11):\n",
    "    print(i, \"*\", n, \"=\", i*n)\n"
   ]
  },
  {
   "cell_type": "markdown",
   "id": "0089dd60",
   "metadata": {},
   "source": [
    "4.Count the total number of digits in a number using while loop"
   ]
  },
  {
   "cell_type": "code",
   "execution_count": 47,
   "id": "eed75492",
   "metadata": {},
   "outputs": [
    {
     "name": "stdout",
     "output_type": "stream",
     "text": [
      "enter the no87695421\n",
      "8\n"
     ]
    }
   ],
   "source": [
    "n = int(input(\"enter the no\"))\n",
    "count=0\n",
    "while n>0:\n",
    "    n=n//10\n",
    "    count=count+1\n",
    "print(count)\n",
    "\n"
   ]
  },
  {
   "cell_type": "markdown",
   "id": "c451b781",
   "metadata": {},
   "source": [
    "5.Find the factorial of a given number\n"
   ]
  },
  {
   "cell_type": "code",
   "execution_count": 2,
   "id": "d050ce2d",
   "metadata": {},
   "outputs": [
    {
     "name": "stdout",
     "output_type": "stream",
     "text": [
      "Enter the Number:5\n",
      "factorial = 5\n",
      "factorial = 20\n",
      "factorial = 60\n",
      "factorial = 120\n",
      "factorial = 120\n"
     ]
    }
   ],
   "source": [
    "i = int(input(\"Enter the Number:\"))\n",
    "fac=1\n",
    "while(i>0):\n",
    "    fac=fac*i\n",
    "    i=i-1\n",
    "     \n",
    "    print(\"factorial =\",fac)\n",
    "  "
   ]
  },
  {
   "cell_type": "markdown",
   "id": "80544d44",
   "metadata": {},
   "source": [
    "6.Display Fibonacci series up to 10 terms\n"
   ]
  },
  {
   "cell_type": "code",
   "execution_count": 1,
   "id": "bb3aa35f",
   "metadata": {},
   "outputs": [
    {
     "name": "stdout",
     "output_type": "stream",
     "text": [
      "enter the number:10\n",
      "0\n",
      "1\n",
      "1\n",
      "2\n",
      "3\n",
      "5\n",
      "8\n"
     ]
    }
   ],
   "source": [
    "n=int(input(\"enter the number:\"))\n",
    "x=0\n",
    "y=1\n",
    "z=0\n",
    "while z<=n:\n",
    "    print(z)\n",
    "    x=y\n",
    "    y=z\n",
    "    z=x+y\n",
    "\n",
    "    \n"
   ]
  },
  {
   "cell_type": "markdown",
   "id": "f5bb422c",
   "metadata": {},
   "source": [
    "7.Calculate the cube of all numbers from 1 to a given number\n"
   ]
  },
  {
   "cell_type": "code",
   "execution_count": 30,
   "id": "0cb321cb",
   "metadata": {},
   "outputs": [
    {
     "name": "stdout",
     "output_type": "stream",
     "text": [
      "enter the cube number:3\n",
      "27\n"
     ]
    }
   ],
   "source": [
    "a =int(input(\"enter the cube number:\"))\n",
    "cube=a**3\n",
    "print(cube)"
   ]
  },
  {
   "cell_type": "markdown",
   "id": "34712c1c",
   "metadata": {},
   "source": [
    "8. print the given number is prime or not\n"
   ]
  },
  {
   "cell_type": "code",
   "execution_count": 29,
   "id": "8fbb8bc4",
   "metadata": {},
   "outputs": [
    {
     "name": "stdout",
     "output_type": "stream",
     "text": [
      "Enter the number:9\n",
      " its not a prime\n"
     ]
    }
   ],
   "source": [
    "A=int(input(\"Enter the number:\"))\n",
    "count=0\n",
    "for i in range (1,A+1):\n",
    "  if A%i == 0 :\n",
    "    count=count+1\n",
    "if count == 2 :\n",
    "  print (\"its prime\")\n",
    "else :\n",
    "  print(\" its not a prime\")"
   ]
  }
 ],
 "metadata": {
  "kernelspec": {
   "display_name": "Python 3 (ipykernel)",
   "language": "python",
   "name": "python3"
  },
  "language_info": {
   "codemirror_mode": {
    "name": "ipython",
    "version": 3
   },
   "file_extension": ".py",
   "mimetype": "text/x-python",
   "name": "python",
   "nbconvert_exporter": "python",
   "pygments_lexer": "ipython3",
   "version": "3.10.6"
  }
 },
 "nbformat": 4,
 "nbformat_minor": 5
}
