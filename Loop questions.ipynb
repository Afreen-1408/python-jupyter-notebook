{
 "cells": [
  {
   "cell_type": "markdown",
   "id": "17a8284d",
   "metadata": {},
   "source": [
    "# loop question"
   ]
  },
  {
   "cell_type": "markdown",
   "id": "aecad5da",
   "metadata": {},
   "source": [
    "# 1. To print odd & even number\n"
   ]
  },
  {
   "cell_type": "code",
   "execution_count": 1,
   "id": "48c488a7",
   "metadata": {},
   "outputs": [
    {
     "name": "stdout",
     "output_type": "stream",
     "text": [
      "enter the value :7\n",
      "7 is odd\n"
     ]
    }
   ],
   "source": [
    "x = int(input(\"enter the value :\"))\n",
    "if x%2==0:\n",
    "    print(x,\"is even\")\n",
    "else:\n",
    "    print(x,\"is odd\")\n",
    "    \n"
   ]
  },
  {
   "cell_type": "markdown",
   "id": "b883ab2d",
   "metadata": {},
   "source": [
    "# 2.Count the total number of digits in a number using for loop\n"
   ]
  },
  {
   "cell_type": "code",
   "execution_count": 35,
   "id": "392b52cf",
   "metadata": {},
   "outputs": [
    {
     "name": "stdout",
     "output_type": "stream",
     "text": [
      "4\n"
     ]
    }
   ],
   "source": [
    "a=\"7896\"\n",
    "count=0\n",
    "for i in a:\n",
    "    count=count+1\n",
    "print(count)\n",
    "    "
   ]
  },
  {
   "cell_type": "markdown",
   "id": "d579cd5e",
   "metadata": {},
   "source": [
    "# 3.Write a program to print multiplication table of a given number\n",
    " # eg.2 x 1 = 2\n",
    "  # 2 x 2 = 4 ........\n"
   ]
  },
  {
   "cell_type": "code",
   "execution_count": 2,
   "id": "c95280e2",
   "metadata": {},
   "outputs": [
    {
     "name": "stdout",
     "output_type": "stream",
     "text": [
      "enter the number:7\n",
      "1 * 7 = 7\n",
      "2 * 7 = 14\n",
      "3 * 7 = 21\n",
      "4 * 7 = 28\n",
      "5 * 7 = 35\n",
      "6 * 7 = 42\n",
      "7 * 7 = 49\n",
      "8 * 7 = 56\n",
      "9 * 7 = 63\n",
      "10 * 7 = 70\n"
     ]
    }
   ],
   "source": [
    "n  = int(input(\"enter the number:\"))\n",
    "for i in range(1,11):\n",
    "    print(i, \"*\", n, \"=\", i*n)\n"
   ]
  },
  {
   "cell_type": "code",
   "execution_count": 1,
   "id": "4143cd8a",
   "metadata": {},
   "outputs": [
    {
     "name": "stdout",
     "output_type": "stream",
     "text": [
      "3\n",
      "6\n",
      "9\n",
      "12\n",
      "15\n",
      "18\n",
      "21\n",
      "24\n",
      "27\n",
      "30\n"
     ]
    }
   ],
   "source": [
    "def table(n):\n",
    "    for i in range(1, 11):\n",
    "        b = i*n\n",
    "        print(b)\n",
    "table(3)        "
   ]
  },
  {
   "cell_type": "markdown",
   "id": "03101c7e",
   "metadata": {},
   "source": [
    "# From user:"
   ]
  },
  {
   "cell_type": "code",
   "execution_count": 2,
   "id": "0ffc7784",
   "metadata": {},
   "outputs": [
    {
     "name": "stdout",
     "output_type": "stream",
     "text": [
      "enter the number:8\n",
      "8 * 1 = 8\n",
      "8 * 2 = 16\n",
      "8 * 3 = 24\n",
      "8 * 4 = 32\n",
      "8 * 5 = 40\n",
      "8 * 6 = 48\n",
      "8 * 7 = 56\n",
      "8 * 8 = 64\n",
      "8 * 9 = 72\n",
      "8 * 10 = 80\n"
     ]
    }
   ],
   "source": [
    "def TABLE():\n",
    "    a=int(input(\"enter the number:\"))\n",
    "    for i in range(1,11):\n",
    "        b=a*i\n",
    "        print(a,\"*\",i,\"=\",b) \n",
    "        \n",
    "TABLE() "
   ]
  },
  {
   "cell_type": "markdown",
   "id": "0089dd60",
   "metadata": {},
   "source": [
    "# 4.Count the total number of digits in a number using while loop"
   ]
  },
  {
   "cell_type": "code",
   "execution_count": 4,
   "id": "eed75492",
   "metadata": {},
   "outputs": [
    {
     "name": "stdout",
     "output_type": "stream",
     "text": [
      "enter the no: 24734587699\n",
      "11\n"
     ]
    }
   ],
   "source": [
    "n = int(input(\"enter the no: \"))\n",
    "count=0\n",
    "while n>0:\n",
    "    n=n//10\n",
    "    count=count+1\n",
    "print(count)\n",
    "\n"
   ]
  },
  {
   "cell_type": "markdown",
   "id": "c451b781",
   "metadata": {},
   "source": [
    "# 5.Find the factorial of a given number\n"
   ]
  },
  {
   "cell_type": "code",
   "execution_count": 5,
   "id": "d050ce2d",
   "metadata": {},
   "outputs": [
    {
     "name": "stdout",
     "output_type": "stream",
     "text": [
      "Enter the Number:6\n",
      "factorial = 6\n",
      "factorial = 30\n",
      "factorial = 120\n",
      "factorial = 360\n",
      "factorial = 720\n",
      "factorial = 720\n"
     ]
    }
   ],
   "source": [
    "i = int(input(\"Enter the Number:\"))\n",
    "fac=1\n",
    "while(i>0):\n",
    "    fac=fac*i\n",
    "    i=i-1\n",
    "     \n",
    "    print(\"factorial =\",fac)\n",
    "  "
   ]
  },
  {
   "cell_type": "markdown",
   "id": "675d6c4e",
   "metadata": {},
   "source": [
    "# factorial by using function:"
   ]
  },
  {
   "cell_type": "code",
   "execution_count": 11,
   "id": "cf033f59",
   "metadata": {},
   "outputs": [
    {
     "name": "stdout",
     "output_type": "stream",
     "text": [
      "5\n",
      "20\n",
      "60\n",
      "120\n",
      "120\n"
     ]
    }
   ],
   "source": [
    "def factorial(i):\n",
    "    fac = 1 \n",
    "    while (i>0):\n",
    "        fac = fac*i\n",
    "        i = i - 1\n",
    "        print(fac)\n",
    "        \n",
    "factorial(5)"
   ]
  },
  {
   "cell_type": "markdown",
   "id": "2ab163cd",
   "metadata": {},
   "source": [
    "# find factorial using user input function:"
   ]
  },
  {
   "cell_type": "code",
   "execution_count": 12,
   "id": "2d774746",
   "metadata": {},
   "outputs": [
    {
     "name": "stdout",
     "output_type": "stream",
     "text": [
      "Enter the num:5\n",
      "5\n",
      "20\n",
      "60\n",
      "120\n",
      "120\n"
     ]
    }
   ],
   "source": [
    "def factorial():\n",
    "    i = int(input(\"Enter the num:\"))\n",
    "    fac = 1\n",
    "    while (i>0):\n",
    "        fac = fac * i\n",
    "        i = i - 1\n",
    "        print(fac)\n",
    "factorial()        "
   ]
  },
  {
   "cell_type": "markdown",
   "id": "80544d44",
   "metadata": {},
   "source": [
    "# 6.Display Fibonacci series up to 10 terms\n"
   ]
  },
  {
   "cell_type": "code",
   "execution_count": 32,
   "id": "bb3aa35f",
   "metadata": {},
   "outputs": [
    {
     "name": "stdout",
     "output_type": "stream",
     "text": [
      "enter the number:30\n",
      "0\n",
      "1\n",
      "1\n",
      "2\n",
      "3\n",
      "5\n",
      "8\n",
      "13\n",
      "21\n"
     ]
    }
   ],
   "source": [
    "n=int(input(\"enter the number:\"))\n",
    "x=0\n",
    "y=1\n",
    "z=0\n",
    "while z<=n:\n",
    "    print(z)\n",
    "    x=y\n",
    "    y=z\n",
    "    z=x+y\n",
    "\n",
    "    \n"
   ]
  },
  {
   "cell_type": "code",
   "execution_count": 33,
   "id": "f2f0c87f",
   "metadata": {},
   "outputs": [
    {
     "name": "stdout",
     "output_type": "stream",
     "text": [
      "0\n",
      "1\n",
      "1\n",
      "2\n",
      "3\n",
      "5\n",
      "8\n",
      "13\n",
      "21\n",
      "34\n",
      "55\n",
      "89\n"
     ]
    }
   ],
   "source": [
    "x = 0\n",
    "print(x)\n",
    "y = 1\n",
    "print(y)\n",
    "for i in range(1, 11):\n",
    "    z = x+y\n",
    "    x=y\n",
    "    y=z\n",
    "    print(z)"
   ]
  },
  {
   "cell_type": "markdown",
   "id": "f5bb422c",
   "metadata": {},
   "source": [
    "# 7.Calculate the cube of all numbers from 1 to a given number\n"
   ]
  },
  {
   "cell_type": "code",
   "execution_count": 21,
   "id": "0cb321cb",
   "metadata": {},
   "outputs": [
    {
     "name": "stdout",
     "output_type": "stream",
     "text": [
      "enter the cube number:5\n",
      "125\n"
     ]
    }
   ],
   "source": [
    "a =int(input(\"enter the cube number:\"))\n",
    "cube=a**3\n",
    "print(cube)"
   ]
  },
  {
   "cell_type": "code",
   "execution_count": 22,
   "id": "2ba64b6b",
   "metadata": {},
   "outputs": [
    {
     "name": "stdout",
     "output_type": "stream",
     "text": [
      "1\n",
      "8\n",
      "27\n",
      "64\n",
      "125\n",
      "216\n",
      "343\n",
      "512\n",
      "729\n",
      "1000\n"
     ]
    }
   ],
   "source": [
    "for i in range(1,11):\n",
    "    b = i**3\n",
    "    print(b)"
   ]
  },
  {
   "cell_type": "code",
   "execution_count": 23,
   "id": "b2efb24d",
   "metadata": {},
   "outputs": [
    {
     "name": "stdout",
     "output_type": "stream",
     "text": [
      "1\n",
      "8\n",
      "27\n",
      "64\n",
      "125\n",
      "216\n",
      "343\n",
      "512\n",
      "729\n",
      "1000\n"
     ]
    }
   ],
   "source": [
    "def cube():\n",
    "    for i in range(1, 11):\n",
    "        b = i**3\n",
    "        print(b)\n",
    "cube()        "
   ]
  },
  {
   "cell_type": "markdown",
   "id": "34712c1c",
   "metadata": {},
   "source": [
    "# 8. print the given number is prime or not\n"
   ]
  },
  {
   "cell_type": "code",
   "execution_count": 6,
   "id": "8fbb8bc4",
   "metadata": {},
   "outputs": [
    {
     "name": "stdout",
     "output_type": "stream",
     "text": [
      "Enter the number:4\n",
      " its not a prime\n",
      "its prime\n",
      "its prime\n",
      " its not a prime\n"
     ]
    }
   ],
   "source": [
    "A=int(input(\"Enter the number:\"))\n",
    "count=0\n",
    "for i in range (1,A+1):\n",
    "    if A%i == 0 :\n",
    "        count=count+1\n",
    "    if count == 2 :\n",
    "        print (\"its prime\")\n",
    "    else:\n",
    "        print(\" its not a prime\")"
   ]
  },
  {
   "cell_type": "markdown",
   "id": "eaf920e6",
   "metadata": {},
   "source": [
    "# 9. find  the  year  is leap year or not:"
   ]
  },
  {
   "cell_type": "code",
   "execution_count": 18,
   "id": "dae6551f",
   "metadata": {},
   "outputs": [
    {
     "name": "stdout",
     "output_type": "stream",
     "text": [
      "Enter the year:2023\n",
      "its not leap year\n"
     ]
    }
   ],
   "source": [
    "a = int(input(\"Enter the year:\"))\n",
    "if a%4==0:\n",
    "    print(\"leap year\")\n",
    "else:\n",
    "    print(\"its not leap year\")"
   ]
  },
  {
   "cell_type": "markdown",
   "id": "fd323022",
   "metadata": {},
   "source": [
    "# floor divition using:"
   ]
  },
  {
   "cell_type": "code",
   "execution_count": 4,
   "id": "a6f8cd43",
   "metadata": {},
   "outputs": [
    {
     "name": "stdout",
     "output_type": "stream",
     "text": [
      "4 / 1 = 4\n",
      "4 / 2 = 2\n",
      "4 / 3 = 1\n",
      "4 / 4 = 1\n",
      "4 / 5 = 0\n",
      "4 / 6 = 0\n",
      "4 / 7 = 0\n",
      "4 / 8 = 0\n",
      "4 / 9 = 0\n",
      "4 / 10 = 0\n"
     ]
    }
   ],
   "source": [
    "def divi(a):\n",
    "    for i  in range(1,11):\n",
    "        b=a//i\n",
    "        print(a,'/',i,'=',b)\n",
    "divi(4)        "
   ]
  },
  {
   "cell_type": "markdown",
   "id": "28cb8dab",
   "metadata": {},
   "source": [
    "# multiply i*i means 1*1, 2*2:"
   ]
  },
  {
   "cell_type": "code",
   "execution_count": null,
   "id": "dc7b5290",
   "metadata": {},
   "outputs": [],
   "source": [
    " n = int(input(\"enter no\"))\n",
    "for i in range(n):\n",
    "    c = i*i\n",
    "    print(c)"
   ]
  }
 ],
 "metadata": {
  "kernelspec": {
   "display_name": "Python 3 (ipykernel)",
   "language": "python",
   "name": "python3"
  },
  "language_info": {
   "codemirror_mode": {
    "name": "ipython",
    "version": 3
   },
   "file_extension": ".py",
   "mimetype": "text/x-python",
   "name": "python",
   "nbconvert_exporter": "python",
   "pygments_lexer": "ipython3",
   "version": "3.10.7"
  }
 },
 "nbformat": 4,
 "nbformat_minor": 5
}
