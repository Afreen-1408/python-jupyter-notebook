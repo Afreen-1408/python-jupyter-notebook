{
 "cells": [
  {
   "cell_type": "markdown",
   "id": "883c366b",
   "metadata": {},
   "source": [
    "# decoretor:"
   ]
  },
  {
   "cell_type": "code",
   "execution_count": 4,
   "id": "f26ecece",
   "metadata": {},
   "outputs": [
    {
     "name": "stdout",
     "output_type": "stream",
     "text": [
      "my name is afreen\n",
      "here my actuall function\n"
     ]
    }
   ],
   "source": [
    "def sample(mark):\n",
    "    def additionmarks():\n",
    "        print(\"my name is afreen\")\n",
    "        mark()\n",
    "    return additionmarks                                # adding new functionality without modifying its structure\n",
    "@sample\n",
    "def student():\n",
    "    print((\"here my actuall function\"))\n",
    "student()\n",
    "\n",
    "\n",
    "\n"
   ]
  },
  {
   "cell_type": "code",
   "execution_count": 1,
   "id": "d71f40a3",
   "metadata": {},
   "outputs": [
    {
     "name": "stdout",
     "output_type": "stream",
     "text": [
      "i am taking lacture in M.H.K classess\n",
      "i am a student of MCC\n"
     ]
    }
   ],
   "source": [
    "def func1(mark):\n",
    "    def substraction():\n",
    "        print(\"i am taking lacture in M.H.K classess\")\n",
    "        mark()\n",
    "    return substraction\n",
    "@func1\n",
    "def name():\n",
    "    print(\"i am a student of MCC\")\n",
    "name()    "
   ]
  },
  {
   "cell_type": "code",
   "execution_count": 10,
   "id": "1bfc9a60",
   "metadata": {},
   "outputs": [
    {
     "name": "stdout",
     "output_type": "stream",
     "text": [
      "i am teacher of M.H.K clasess\n",
      "i am afreen teacher\n"
     ]
    }
   ],
   "source": [
    "def secondfunc(name):\n",
    "    def  inner(a,b,c):\n",
    "        print(\"i am teacher of\",c)\n",
    "        name(a,b)\n",
    "    return inner\n",
    "@secondfunc\n",
    "def firstfunc(a,b):\n",
    "    print(\"i am\", a,b)\n",
    "firstfunc(\"afreen\", \"teacher\", \"M.H.K clasess\")\n"
   ]
  },
  {
   "cell_type": "code",
   "execution_count": 4,
   "id": "cf6eea4b",
   "metadata": {},
   "outputs": [
    {
     "name": "stdout",
     "output_type": "stream",
     "text": [
      "my school name is G.I,U.H.S\n",
      "here my actuall function\n"
     ]
    }
   ],
   "source": [
    "def sample(mark):\n",
    "    def addition():\n",
    "        print(\"my school name is G.I,U.H.S\")\n",
    "        mark()  \n",
    "    return  addition\n",
    "@sample\n",
    "def school():\n",
    "    print((\"here my actuall function\"))\n",
    "school()    \n",
    "\n",
    "    \n"
   ]
  },
  {
   "cell_type": "code",
   "execution_count": 12,
   "id": "f3e4564f",
   "metadata": {},
   "outputs": [
    {
     "name": "stdout",
     "output_type": "stream",
     "text": [
      "my school name is G.I,U.H.S\n",
      "my name is manihar afreen\n"
     ]
    }
   ],
   "source": [
    "def secondfun(func):\n",
    "    def inner (a,b,c):\n",
    "        print(\"my school name is G.I,U.H.S\")\n",
    "        func(a,b)\n",
    "    return inner\n",
    "@secondfun\n",
    "def actualfunc(a,b):\n",
    "    print(\"my name is\",a,b)\n",
    "actualfunc(\"manihar\", \"afreen\", \"G.I,U.H.S\")    "
   ]
  },
  {
   "cell_type": "markdown",
   "id": "8c99c80d",
   "metadata": {},
   "source": [
    "# Generator:"
   ]
  },
  {
   "cell_type": "code",
   "execution_count": 1,
   "id": "b16acc7b",
   "metadata": {},
   "outputs": [
    {
     "ename": "SyntaxError",
     "evalue": "invalid syntax (276045580.py, line 4)",
     "output_type": "error",
     "traceback": [
      "\u001b[1;36m  Input \u001b[1;32mIn [1]\u001b[1;36m\u001b[0m\n\u001b[1;33m    yeild i*i\u001b[0m\n\u001b[1;37m          ^\u001b[0m\n\u001b[1;31mSyntaxError\u001b[0m\u001b[1;31m:\u001b[0m invalid syntax\n"
     ]
    }
   ],
   "source": [
    "def square():\n",
    "    i=1\n",
    "    while True:\n",
    "        yield i*i\n",
    "        i = i + 1                              # used yield instance of return \n",
    "for num in square():                           # and generate the the value\n",
    "    if num > 100:\n",
    "        break\n",
    "    print(num)    "
   ]
  },
  {
   "cell_type": "code",
   "execution_count": 18,
   "id": "dba1990a",
   "metadata": {},
   "outputs": [
    {
     "name": "stdout",
     "output_type": "stream",
     "text": [
      "['even', 'even', 'even', 'Odd', 'even', 'Odd', 'even']\n"
     ]
    }
   ],
   "source": [
    "def table(x):\n",
    "    for i in a:\n",
    "        if i%2 == 0:\n",
    "            b.append(\"even\")\n",
    "        else:\n",
    "            b.append(\"Odd\")\n",
    "        \n",
    "a = [2,4,6,3,8,9,10] \n",
    "b = []\n",
    "table(a)\n",
    "print(b)\n",
    "    "
   ]
  },
  {
   "cell_type": "code",
   "execution_count": null,
   "id": "f07d5aec",
   "metadata": {},
   "outputs": [],
   "source": []
  },
  {
   "cell_type": "markdown",
   "id": "6dfd5d47",
   "metadata": {},
   "source": [
    "# Iterator:"
   ]
  },
  {
   "cell_type": "code",
   "execution_count": 19,
   "id": "ec1da24e",
   "metadata": {},
   "outputs": [
    {
     "name": "stdout",
     "output_type": "stream",
     "text": [
      "1\n",
      "2\n",
      "3\n",
      "4\n"
     ]
    }
   ],
   "source": [
    "a =iter([1,2,3,4])\n",
    "print(next(a))\n",
    "print(next(a))                       \n",
    "print(next(a))\n",
    "print(next(a))\n"
   ]
  },
  {
   "cell_type": "code",
   "execution_count": 20,
   "id": "815dbd52",
   "metadata": {},
   "outputs": [
    {
     "name": "stdout",
     "output_type": "stream",
     "text": [
      "A\n",
      "f\n",
      "r\n",
      "e\n",
      "e\n",
      "n\n"
     ]
    }
   ],
   "source": [
    "a = iter(\"Afreen\")\n",
    "print(next(a))\n",
    "print(next(a))\n",
    "print(next(a))\n",
    "print(next(a))                              # witch used iter() and next() fuction\n",
    "print(next(a))\n",
    "print(next(a))"
   ]
  },
  {
   "cell_type": "markdown",
   "id": "f02a693b",
   "metadata": {},
   "source": [
    "# Iterable:"
   ]
  },
  {
   "cell_type": "code",
   "execution_count": 26,
   "id": "0e56b4b2",
   "metadata": {},
   "outputs": [
    {
     "name": "stdout",
     "output_type": "stream",
     "text": [
      "2\n",
      "4\n",
      "6\n",
      "8\n",
      "10\n",
      "12\n",
      "14\n",
      "16\n"
     ]
    }
   ],
   "source": [
    "a = [2,4,6,8,10,12,14,16]\n",
    "for i in a:                            # object witch iterated in iteration\n",
    "    print(i)"
   ]
  },
  {
   "cell_type": "markdown",
   "id": "7d05bd11",
   "metadata": {},
   "source": [
    "# \"MRO\":   METHOD   RESOLVATION ORDER :"
   ]
  },
  {
   "cell_type": "markdown",
   "id": "2df7b0c9",
   "metadata": {},
   "source": [
    "# WITCH  IS USESS OF INHERITANCE,"
   ]
  },
  {
   "cell_type": "code",
   "execution_count": 24,
   "id": "b2f1f84c",
   "metadata": {},
   "outputs": [
    {
     "name": "stdout",
     "output_type": "stream",
     "text": [
      " In class C\n",
      "[<class '__main__.C'>, <class '__main__.B'>, <class '__main__.A'>, <class 'object'>]\n"
     ]
    }
   ],
   "source": [
    "class A:\n",
    "    def process(self):\n",
    "        print(\" In class A\")\n",
    "\n",
    "class B(A):\n",
    "    def process(self):\n",
    "        print(\" In class B\")\n",
    "\n",
    "class C(B, A):\n",
    "    def process(self):\n",
    "        print(\" In class C\")\n",
    "class D(C, B, A):\n",
    "    def process(self):\n",
    "        print(\" In class D\")\n",
    "# Creating object of C class\n",
    "C1 = C()\n",
    "C1.process()\n",
    "print(C.mro())"
   ]
  },
  {
   "cell_type": "markdown",
   "id": "83d21d16",
   "metadata": {},
   "source": [
    "# \"MODULE\":"
   ]
  },
  {
   "cell_type": "code",
   "execution_count": 57,
   "id": "8e862c82",
   "metadata": {},
   "outputs": [
    {
     "name": "stdout",
     "output_type": "stream",
     "text": [
      "['__doc__', '__loader__', '__name__', '__package__', '__spec__', 'acos', 'acosh', 'asin', 'asinh', 'atan', 'atan2', 'atanh', 'ceil', 'comb', 'copysign', 'cos', 'cosh', 'degrees', 'dist', 'e', 'erf', 'erfc', 'exp', 'expm1', 'fabs', 'factorial', 'floor', 'fmod', 'frexp', 'fsum', 'gamma', 'gcd', 'hypot', 'inf', 'isclose', 'isfinite', 'isinf', 'isnan', 'isqrt', 'lcm', 'ldexp', 'lgamma', 'log', 'log10', 'log1p', 'log2', 'modf', 'nan', 'nextafter', 'perm', 'pi', 'pow', 'prod', 'radians', 'remainder', 'sin', 'sinh', 'sqrt', 'tan', 'tanh', 'tau', 'trunc', 'ulp']\n"
     ]
    }
   ],
   "source": [
    "import math\n",
    "\n",
    "x = dir(math)                         #dir to detaced the all function in math module\n",
    "print(x)\n"
   ]
  },
  {
   "cell_type": "markdown",
   "id": "ca3ad59d",
   "metadata": {},
   "source": [
    "# 1) MATH MODULE:"
   ]
  },
  {
   "cell_type": "code",
   "execution_count": 40,
   "id": "04400456",
   "metadata": {},
   "outputs": [
    {
     "name": "stdout",
     "output_type": "stream",
     "text": [
      "65\n"
     ]
    }
   ],
   "source": [
    "import math\n",
    "\n",
    "x = math.ceil(64.02)                 # last chat ki value lega\n",
    "\n",
    "print(x)"
   ]
  },
  {
   "cell_type": "code",
   "execution_count": 41,
   "id": "d8173966",
   "metadata": {},
   "outputs": [
    {
     "name": "stdout",
     "output_type": "stream",
     "text": [
      "64\n"
     ]
    }
   ],
   "source": [
    "import math\n",
    "\n",
    "x = math.floor(64.09)             # first zameen ki value lega\n",
    "\n",
    "print(x)"
   ]
  },
  {
   "cell_type": "code",
   "execution_count": 44,
   "id": "8834387f",
   "metadata": {},
   "outputs": [
    {
     "name": "stdout",
     "output_type": "stream",
     "text": [
      "3.141592653589793\n"
     ]
    }
   ],
   "source": [
    "import math\n",
    "\n",
    "x = math.pi                                        # const value\n",
    "\n",
    "print(x)"
   ]
  },
  {
   "cell_type": "code",
   "execution_count": 46,
   "id": "16d02c85",
   "metadata": {},
   "outputs": [
    {
     "name": "stdout",
     "output_type": "stream",
     "text": [
      "5\n",
      "25\n"
     ]
    }
   ],
   "source": [
    "x = min(5, 10, 25)                     # kam se kam \n",
    "y = max(5, 10, 25)                                     # zyada se zyada\n",
    "\n",
    "print(x)\n",
    "print(y)"
   ]
  },
  {
   "cell_type": "code",
   "execution_count": 47,
   "id": "a4fab0d5",
   "metadata": {},
   "outputs": [
    {
     "name": "stdout",
     "output_type": "stream",
     "text": [
      "7.25\n"
     ]
    }
   ],
   "source": [
    "x = abs(-7.25)\n",
    "                                             # it will give absolute value \n",
    "print(x)\n"
   ]
  },
  {
   "cell_type": "code",
   "execution_count": 22,
   "id": "4eb603fe",
   "metadata": {},
   "outputs": [
    {
     "name": "stdout",
     "output_type": "stream",
     "text": [
      "2.449489742783178\n"
     ]
    }
   ],
   "source": [
    "import math\n",
    "\n",
    "x = math.sqrt(6)\n",
    "print(x)"
   ]
  },
  {
   "cell_type": "markdown",
   "id": "8e885cc6",
   "metadata": {},
   "source": [
    "# 2) DATE TIME:"
   ]
  },
  {
   "cell_type": "markdown",
   "id": "212832c6",
   "metadata": {},
   "source": [
    "A date in Python is not a data type of its own,\n",
    "but we can import a module named datetime to work with dates as date objects"
   ]
  },
  {
   "cell_type": "code",
   "execution_count": 49,
   "id": "0637cfd2",
   "metadata": {},
   "outputs": [
    {
     "name": "stdout",
     "output_type": "stream",
     "text": [
      "2022-09-17 12:00:04.825132\n"
     ]
    }
   ],
   "source": [
    "import datetime\n",
    "\n",
    "x = datetime.datetime.now()\n",
    "print(x)"
   ]
  },
  {
   "cell_type": "code",
   "execution_count": 50,
   "id": "d86a2120",
   "metadata": {},
   "outputs": [
    {
     "name": "stdout",
     "output_type": "stream",
     "text": [
      "2022\n",
      "Saturday\n"
     ]
    }
   ],
   "source": [
    "import datetime\n",
    "\n",
    "x = datetime.datetime.now()\n",
    "\n",
    "print(x.year)                                                      # only give year\n",
    "print(x.strftime(\"%A\"))                 # %A is only give day \n"
   ]
  },
  {
   "cell_type": "code",
   "execution_count": 52,
   "id": "3cd9cba4",
   "metadata": {},
   "outputs": [
    {
     "name": "stdout",
     "output_type": "stream",
     "text": [
      "2022-09-17 00:00:00\n"
     ]
    }
   ],
   "source": [
    "import datetime\n",
    "\n",
    "x = datetime.datetime(2022, 9, 17)\n",
    "\n",
    "print(x)"
   ]
  },
  {
   "cell_type": "code",
   "execution_count": 55,
   "id": "c958d8e1",
   "metadata": {},
   "outputs": [
    {
     "name": "stdout",
     "output_type": "stream",
     "text": [
      "February\n"
     ]
    }
   ],
   "source": [
    "import datetime\n",
    "\n",
    "x = datetime.datetime(2018, 2, 1)\n",
    "\n",
    "print(x.strftime(\"%B\"))               #disply name of the months"
   ]
  },
  {
   "cell_type": "code",
   "execution_count": 56,
   "id": "41735bdb",
   "metadata": {},
   "outputs": [
    {
     "name": "stdout",
     "output_type": "stream",
     "text": [
      "2018\n"
     ]
    }
   ],
   "source": [
    "import datetime\n",
    "\n",
    "x = datetime.datetime(2018, 6, 1)\n",
    "\n",
    "print(x.strftime(\"%Y\"))                                   # YEAE NAME"
   ]
  },
  {
   "cell_type": "markdown",
   "id": "38716e56",
   "metadata": {},
   "source": [
    "# 3) RANDOM :"
   ]
  },
  {
   "cell_type": "code",
   "execution_count": 68,
   "id": "91041b6b",
   "metadata": {},
   "outputs": [
    {
     "name": "stdout",
     "output_type": "stream",
     "text": [
      "4\n"
     ]
    }
   ],
   "source": [
    "import random\n",
    " \n",
    "x =random.randint(2,8)                      # in between 2,8 and 2 and 8 is includive \n",
    "print(x)"
   ]
  },
  {
   "cell_type": "code",
   "execution_count": 72,
   "id": "b63f2fc1",
   "metadata": {},
   "outputs": [
    {
     "name": "stdout",
     "output_type": "stream",
     "text": [
      "5\n"
     ]
    }
   ],
   "source": [
    "import random\n",
    "\n",
    "x = random.randrange(3,9)        # it will give 3,4,,6,7,8 but not 9 last wala exclusive   \n",
    "print(x)                                   \n"
   ]
  },
  {
   "cell_type": "code",
   "execution_count": 83,
   "id": "208b5586",
   "metadata": {},
   "outputs": [
    {
     "name": "stdout",
     "output_type": "stream",
     "text": [
      "Misbah\n"
     ]
    }
   ],
   "source": [
    "import random\n",
    "a = [\"Afreen\", \"Zikra\", \"Misbah\"]\n",
    "x = random.choice(a)            # koi bhi ek elem mile ga \n",
    "print(x)\n"
   ]
  },
  {
   "cell_type": "code",
   "execution_count": 84,
   "id": "5ad62786",
   "metadata": {},
   "outputs": [
    {
     "name": "stdout",
     "output_type": "stream",
     "text": [
      "0.6131903034164822\n"
     ]
    }
   ],
   "source": [
    "import random\n",
    "x = random.random()\n",
    "print(x)                       # it will give range between 0 to 1 \n"
   ]
  },
  {
   "cell_type": "code",
   "execution_count": 98,
   "id": "ef043303",
   "metadata": {},
   "outputs": [
    {
     "name": "stdout",
     "output_type": "stream",
     "text": [
      "['banana', 'mango', 'apple']\n"
     ]
    }
   ],
   "source": [
    "import random\n",
    "a = [\"apple\", \"banana\", \"mango\"]\n",
    "random.shuffle(a)                  # shuffle the list             \n",
    "print(a)\n"
   ]
  },
  {
   "cell_type": "code",
   "execution_count": 109,
   "id": "f67e90fe",
   "metadata": {},
   "outputs": [
    {
     "name": "stdout",
     "output_type": "stream",
     "text": [
      "2.820935421383291\n"
     ]
    }
   ],
   "source": [
    "import random\n",
    "x = random.uniform(2,5)            # koi bhi float number dega in between 2,4                                    # last wala excludive h\n",
    "print(x)                                 "
   ]
  },
  {
   "cell_type": "markdown",
   "id": "5e647d1c",
   "metadata": {},
   "source": [
    "# RE MODULE (Reggular Expression):"
   ]
  },
  {
   "cell_type": "code",
   "execution_count": null,
   "id": "b35c0d0a",
   "metadata": {},
   "outputs": [],
   "source": [
    " \n"
   ]
  },
  {
   "cell_type": "code",
   "execution_count": null,
   "id": "94fa8b43",
   "metadata": {},
   "outputs": [],
   "source": []
  }
 ],
 "metadata": {
  "kernelspec": {
   "display_name": "Python 3 (ipykernel)",
   "language": "python",
   "name": "python3"
  },
  "language_info": {
   "codemirror_mode": {
    "name": "ipython",
    "version": 3
   },
   "file_extension": ".py",
   "mimetype": "text/x-python",
   "name": "python",
   "nbconvert_exporter": "python",
   "pygments_lexer": "ipython3",
   "version": "3.10.7"
  }
 },
 "nbformat": 4,
 "nbformat_minor": 5
}
