{
 "cells": [
  {
   "cell_type": "markdown",
   "id": "2bf4f9d4",
   "metadata": {},
   "source": [
    "# Q,.1  input  a = [0,2,5,1,3,4]    output = [0, 5, 4, 2, 1, 3]\n",
    "# given list ko as iandex le  output output me indez ki value likhna h ?"
   ]
  },
  {
   "cell_type": "code",
   "execution_count": 2,
   "id": "7d9e329b",
   "metadata": {},
   "outputs": [
    {
     "name": "stdout",
     "output_type": "stream",
     "text": [
      "[0, 5, 4, 2, 1, 3]\n"
     ]
    }
   ],
   "source": [
    "a =  [0,2,5,1,3,4]\n",
    "c = []\n",
    "for i in a:\n",
    "    b = a[i]\n",
    "    c.append(b)\n",
    "print(c)    "
   ]
  },
  {
   "cell_type": "markdown",
   "id": "4ad98d80",
   "metadata": {},
   "source": [
    "# using function to buildArray:"
   ]
  },
  {
   "cell_type": "code",
   "execution_count": 5,
   "id": "c015a9a5",
   "metadata": {},
   "outputs": [
    {
     "name": "stdout",
     "output_type": "stream",
     "text": [
      "[0, 2, 4, 1, 5, 3]\n"
     ]
    }
   ],
   "source": [
    "def buildArray(a):\n",
    "    for i in a:\n",
    "        b = a[i]\n",
    "        c.append(b) \n",
    "x = [0,5,3,4,1,2]\n",
    "c = []\n",
    "buildArray(x)\n",
    "print(c)"
   ]
  },
  {
   "cell_type": "markdown",
   "id": "1ad820b9",
   "metadata": {},
   "source": [
    "# in leedcode answer:"
   ]
  },
  {
   "cell_type": "code",
   "execution_count": null,
   "id": "2b6a0c24",
   "metadata": {},
   "outputs": [],
   "source": [
    "class Solution(object):\n",
    "    def buildArray(self, nums):\n",
    "        A = []\n",
    "        for i in nums:\n",
    "            z= nums[i]\n",
    "            A.append(z)\n",
    "        return (A) \n",
    "print(A)"
   ]
  },
  {
   "cell_type": "markdown",
   "id": "c480a7c2",
   "metadata": {},
   "source": [
    "# count the list of list number [1,2,9] = 12 [1,2,3] = 6   and answer will be max number:"
   ]
  },
  {
   "cell_type": "code",
   "execution_count": 9,
   "id": "49a12725",
   "metadata": {},
   "outputs": [
    {
     "data": {
      "text/plain": [
       "12"
      ]
     },
     "execution_count": 9,
     "metadata": {},
     "output_type": "execute_result"
    }
   ],
   "source": [
    "a = [[1,2,9],[1,2,3]]\n",
    "def funct(a):\n",
    "    b = map(sum,a)\n",
    "    return max(b)\n",
    "funct(a)    "
   ]
  },
  {
   "cell_type": "code",
   "execution_count": 10,
   "id": "0740c2a5",
   "metadata": {},
   "outputs": [
    {
     "name": "stdout",
     "output_type": "stream",
     "text": [
      "6\n"
     ]
    }
   ],
   "source": [
    "a = [[1,2,3],[1,2,3]]\n",
    "b = []\n",
    "for i in a:\n",
    "    b.append(sum(i))\n",
    "print(max(b))"
   ]
  },
  {
   "cell_type": "markdown",
   "id": "2701ee1a",
   "metadata": {},
   "source": [
    "# suffel the array:"
   ]
  },
  {
   "cell_type": "code",
   "execution_count": 11,
   "id": "867f294e",
   "metadata": {},
   "outputs": [
    {
     "name": "stdout",
     "output_type": "stream",
     "text": [
      "[1, 2, 1, 2]\n"
     ]
    }
   ],
   "source": [
    "def func(a, i):\n",
    "    a[i-1],a[i-2] = a[i-2],a[i-1]\n",
    "    print(a)\n",
    "a = [1,1,2,2]\n",
    "func(a,3)"
   ]
  },
  {
   "cell_type": "markdown",
   "id": "59dee605",
   "metadata": {},
   "source": [
    "# Nested lopping:"
   ]
  },
  {
   "cell_type": "code",
   "execution_count": 13,
   "id": "d0e256ae",
   "metadata": {},
   "outputs": [
    {
     "name": "stdout",
     "output_type": "stream",
     "text": [
      "[2, 4, 6, 8, 10]\n",
      "2\n",
      "4\n",
      "6\n",
      "8\n",
      "10\n",
      "[1, 3, 5, 7, 9]\n",
      "1\n",
      "3\n",
      "5\n",
      "7\n",
      "9\n"
     ]
    }
   ],
   "source": [
    "# a = [[2,4,6,8,10],[1,3,5,7,9]]\n",
    "for i in a:\n",
    "    print(i)\n",
    "    for j in i:\n",
    "        print(j)"
   ]
  },
  {
   "cell_type": "markdown",
   "id": "c09ae20d",
   "metadata": {},
   "source": [
    "# Find only even number:"
   ]
  },
  {
   "cell_type": "code",
   "execution_count": 14,
   "id": "76ad0daf",
   "metadata": {},
   "outputs": [
    {
     "name": "stdout",
     "output_type": "stream",
     "text": [
      "[2, 4, 6]\n"
     ]
    }
   ],
   "source": [
    "a = [2,3,4,5,6]\n",
    "b = []\n",
    "for i in a:\n",
    "    if i%2==0:\n",
    "        b.append(i)\n",
    "print(b)        "
   ]
  },
  {
   "cell_type": "markdown",
   "id": "433d491b",
   "metadata": {},
   "source": [
    "# Find the only odd number:"
   ]
  },
  {
   "cell_type": "code",
   "execution_count": 15,
   "id": "f4486ae5",
   "metadata": {},
   "outputs": [
    {
     "name": "stdout",
     "output_type": "stream",
     "text": [
      "[3, 5, 7]\n"
     ]
    }
   ],
   "source": [
    "a = [2,3,4,5,6,7]\n",
    "b = []\n",
    "for i in a:\n",
    "    if i%2==1:\n",
    "        b.append(i)\n",
    "print(b)        "
   ]
  },
  {
   "cell_type": "markdown",
   "id": "c00ad223",
   "metadata": {},
   "source": [
    "# find odd and even number:"
   ]
  },
  {
   "cell_type": "code",
   "execution_count": 21,
   "id": "3b8b442f",
   "metadata": {},
   "outputs": [
    {
     "name": "stdout",
     "output_type": "stream",
     "text": [
      "['Even', 'odd', 'Even', 'odd', 'Even', 'odd']\n"
     ]
    }
   ],
   "source": [
    "a = [2,3,4,5,6,7]\n",
    "b = []\n",
    "for i in a:\n",
    "    if i%2==0:\n",
    "        b.append(\"Even\")\n",
    "    else:\n",
    "        b.append(\"odd\")        \n",
    "print(b)"
   ]
  },
  {
   "cell_type": "markdown",
   "id": "ae72ec62",
   "metadata": {},
   "source": [
    "# print odd even by using lambda (using annanoumyse function):"
   ]
  },
  {
   "cell_type": "code",
   "execution_count": 38,
   "id": "60a3cbeb",
   "metadata": {},
   "outputs": [
    {
     "name": "stdout",
     "output_type": "stream",
     "text": [
      "['Even', 'Odd', 'Even', 'Odd', 'Even', 'Odd']\n"
     ]
    }
   ],
   "source": [
    "a = [2,3,4,5,6,7]\n",
    "b = [(lambda x : \"Even\" if x%2==0 else \"Odd\") (x) for x in a]\n",
    "print(b)"
   ]
  },
  {
   "cell_type": "markdown",
   "id": "eab636f6",
   "metadata": {},
   "source": [
    "# map function:"
   ]
  },
  {
   "cell_type": "markdown",
   "id": "d04da945",
   "metadata": {},
   "source": [
    "# map used:"
   ]
  },
  {
   "cell_type": "code",
   "execution_count": null,
   "id": "3c512f11",
   "metadata": {},
   "outputs": [],
   "source": [
    "def  number(a):\n",
    "    if a%2 == 0:\n",
    "        return(\"Even\")\n",
    "    else:\n",
    "        return(\"odd\")\n",
    "a = [2,3,4,5,6]\n",
    "num = list(map(number, a))\n",
    "print(num)"
   ]
  },
  {
   "cell_type": "markdown",
   "id": "00eb3219",
   "metadata": {},
   "source": [
    "# without the function answer will be list:"
   ]
  },
  {
   "cell_type": "code",
   "execution_count": null,
   "id": "c51f710a",
   "metadata": {},
   "outputs": [],
   "source": [
    "a = [2,3,4,5,6]\n",
    "b = []\n",
    "for i in a:\n",
    "    if i%2 == 0:\n",
    "        b.append(\"Even\")\n",
    "    else:\n",
    "        b.append(\"odd\")\n",
    "print(b) "
   ]
  },
  {
   "cell_type": "markdown",
   "id": "11e1770a",
   "metadata": {},
   "source": [
    "# list comprehntion:"
   ]
  },
  {
   "cell_type": "code",
   "execution_count": 34,
   "id": "507fe405",
   "metadata": {},
   "outputs": [
    {
     "name": "stdout",
     "output_type": "stream",
     "text": [
      "[2, 4, 6]\n"
     ]
    }
   ],
   "source": [
    "a = [2,3,4,5,6,7]\n",
    "b = [i for i in a if i%2==0]\n",
    "print(b)"
   ]
  },
  {
   "cell_type": "markdown",
   "id": "9ca5025a",
   "metadata": {},
   "source": [
    "# by using lambda func print Odd Even:"
   ]
  },
  {
   "cell_type": "code",
   "execution_count": 40,
   "id": "55eb3bf6",
   "metadata": {},
   "outputs": [
    {
     "name": "stdout",
     "output_type": "stream",
     "text": [
      "['Even', 'odd', 'Even', 'odd', 'Even', 'odd']\n"
     ]
    }
   ],
   "source": [
    "a = [2,3,4,5,6,7]\n",
    "b = [(lambda x: \"Even\" if x%2==0 else \"odd\") (x) for x in a]\n",
    "print(b)"
   ]
  },
  {
   "cell_type": "markdown",
   "id": "5628f8d8",
   "metadata": {},
   "source": [
    "# using filter method:"
   ]
  },
  {
   "cell_type": "code",
   "execution_count": 42,
   "id": "90cfbd18",
   "metadata": {},
   "outputs": [
    {
     "name": "stdout",
     "output_type": "stream",
     "text": [
      "[2, 4, 6]\n"
     ]
    }
   ],
   "source": [
    " def  number(a):\n",
    "    if a%2 == 0:\n",
    "        return(\"True\")\n",
    "a = [2,3,4,5,6]\n",
    "num = list(filter(number, a))\n",
    "print(num)   \n",
    "        "
   ]
  },
  {
   "cell_type": "markdown",
   "id": "379f165d",
   "metadata": {},
   "source": [
    "# using map and lambda func to print Odd and Evenn:"
   ]
  },
  {
   "cell_type": "code",
   "execution_count": null,
   "id": "cec607cb",
   "metadata": {},
   "outputs": [],
   "source": [
    "a = [2,3,4,5,6]\n",
    "x = map(lambda i : \"Even\" if i%2==0 else \"Odd\", a)\n",
    "print(list(x))"
   ]
  },
  {
   "cell_type": "markdown",
   "id": "48afeb9b",
   "metadata": {},
   "source": [
    "# Normal code without the map:"
   ]
  },
  {
   "cell_type": "code",
   "execution_count": 43,
   "id": "2fc24359",
   "metadata": {},
   "outputs": [
    {
     "name": "stdout",
     "output_type": "stream",
     "text": [
      "Even\n",
      "Odd\n",
      "Even\n",
      "Odd\n",
      "Even\n"
     ]
    }
   ],
   "source": [
    "a = [2,3,4,5,6]\n",
    "for i in a:\n",
    "    if i%2==0:\n",
    "        print(\"Even\")\n",
    "    else:\n",
    "        print(\"Odd\")"
   ]
  },
  {
   "cell_type": "markdown",
   "id": "3f2e448e",
   "metadata": {},
   "source": [
    "# append in new list:"
   ]
  },
  {
   "cell_type": "code",
   "execution_count": 44,
   "id": "0fdedea7",
   "metadata": {},
   "outputs": [
    {
     "name": "stdout",
     "output_type": "stream",
     "text": [
      "['Even', 'Odd', 'Even', 'Odd', 'Even']\n"
     ]
    }
   ],
   "source": [
    "a = [2,3,4,5,6]\n",
    "b = []\n",
    "for i in a:\n",
    "    if i%2==0:\n",
    "        b.append(\"Even\")\n",
    "    else:\n",
    "        b.append(\"Odd\")\n",
    "print(b)        "
   ]
  },
  {
   "cell_type": "code",
   "execution_count": 47,
   "id": "1fbb59de",
   "metadata": {},
   "outputs": [
    {
     "name": "stdout",
     "output_type": "stream",
     "text": [
      "['odd', 'odd', 'Even', 'odd']\n"
     ]
    }
   ],
   "source": [
    "def number(a):\n",
    "    for i in a:\n",
    "        if i%2 == 0:\n",
    "            b.append(\"Even\")\n",
    "        else:\n",
    "            b.append(\"odd\") \n",
    "        \n",
    "lst = [9,9,6,7] \n",
    "b = []\n",
    "number(lst)\n",
    "print(b)"
   ]
  },
  {
   "cell_type": "markdown",
   "id": "4b62c8de",
   "metadata": {},
   "source": [
    "# with map function:"
   ]
  },
  {
   "cell_type": "code",
   "execution_count": 45,
   "id": "e83cb53a",
   "metadata": {},
   "outputs": [
    {
     "name": "stdout",
     "output_type": "stream",
     "text": [
      "['Even', 'odd', 'Even', 'odd', 'Even']\n"
     ]
    }
   ],
   "source": [
    " def  number(a):\n",
    "    if a%2 == 0:\n",
    "        return(\"Even\")\n",
    "    else:\n",
    "        return(\"odd\")\n",
    "a = [2,3,4,5,6]\n",
    "num = list(map(number, a))\n",
    "print(num)"
   ]
  },
  {
   "cell_type": "markdown",
   "id": "c621f79d",
   "metadata": {},
   "source": [
    "# filter the only odd number:"
   ]
  },
  {
   "cell_type": "code",
   "execution_count": 46,
   "id": "f1619f3b",
   "metadata": {},
   "outputs": [
    {
     "name": "stdout",
     "output_type": "stream",
     "text": [
      "[2, 4, 6, 80, 12]\n"
     ]
    }
   ],
   "source": [
    " def  number(a):\n",
    "    if a%2 == 0:\n",
    "        return(\"True\")\n",
    "a = [2,3,4,5,6,9,80,65,43,12,55]\n",
    "num = list(filter(number, a))\n",
    "print(num)"
   ]
  },
  {
   "cell_type": "markdown",
   "id": "968414ea",
   "metadata": {},
   "source": [
    "# function to find odd Even:"
   ]
  },
  {
   "cell_type": "code",
   "execution_count": null,
   "id": "802c1b05",
   "metadata": {},
   "outputs": [],
   "source": [
    "def number(lst):              # lis = variable\n",
    "    for i in lst:\n",
    "        if i%2==0:\n",
    "            print(\"Even\")\n",
    "        else:\n",
    "            print(\"Odd\")\n",
    "# lst = [9,9,6,7] \n",
    "# number(lst)\n",
    "a = [2,3,4]                   # a = value\n",
    "number(a)"
   ]
  },
  {
   "cell_type": "markdown",
   "id": "bf428713",
   "metadata": {},
   "source": [
    "# lambda ko range denge:"
   ]
  },
  {
   "cell_type": "code",
   "execution_count": null,
   "id": "01c1d4a1",
   "metadata": {},
   "outputs": [],
   "source": [
    "b = [(lambda x: \" Even\" if x%2==0 else \"odd\")(x) for x in range (1,11)]\n",
    "print(b)"
   ]
  },
  {
   "cell_type": "code",
   "execution_count": null,
   "id": "2c1302d5",
   "metadata": {},
   "outputs": [],
   "source": [
    "a = [(lambda x : x*x )(x) for x in range(10)]\n",
    "print(a)"
   ]
  },
  {
   "cell_type": "markdown",
   "id": "a475e637",
   "metadata": {},
   "source": [
    "# using function to sort the list:"
   ]
  },
  {
   "cell_type": "code",
   "execution_count": null,
   "id": "f679115b",
   "metadata": {},
   "outputs": [],
   "source": [
    "def func(a):\n",
    "    for i in range(1, len(a)):\n",
    "        while a[i-1] > a[i] and i>0:\n",
    "            a[i-1],a[i] = a[i],a[i-1]\n",
    "            i =  i - 1\n",
    "    return a\n",
    "x = [3,4,1,5]        \n",
    "func(x)\n",
    "c = [5,6,7,8,3,2,10] \n",
    "func(c)"
   ]
  }
 ],
 "metadata": {
  "kernelspec": {
   "display_name": "Python 3 (ipykernel)",
   "language": "python",
   "name": "python3"
  },
  "language_info": {
   "codemirror_mode": {
    "name": "ipython",
    "version": 3
   },
   "file_extension": ".py",
   "mimetype": "text/x-python",
   "name": "python",
   "nbconvert_exporter": "python",
   "pygments_lexer": "ipython3",
   "version": "3.10.7"
  }
 },
 "nbformat": 4,
 "nbformat_minor": 5
}
