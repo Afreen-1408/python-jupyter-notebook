{
 "cells": [
  {
   "cell_type": "markdown",
   "id": "ff7852ca",
   "metadata": {},
   "source": [
    "\n",
    "# 1 find the student marks who has heigest marks?"
   ]
  },
  {
   "cell_type": "code",
   "execution_count": 2,
   "id": "a4a0849c",
   "metadata": {},
   "outputs": [
    {
     "name": "stdout",
     "output_type": "stream",
     "text": [
      "{'Talha': 78}\n"
     ]
    }
   ],
   "source": [
    "student = {\"Umar\":{\"score\": 67}, \"Talha\":{\"score\": 78}, \"Shadab\":{\"score\": 17}}\n",
    "max=0\n",
    "stu=''\n",
    "for i in student:\n",
    "    score=student.get(i)['score']           # get() is use to get the value of specified key\n",
    "    if score>max:\n",
    "        max=score\n",
    "        stu=i\n",
    "print ({stu:max})"
   ]
  },
  {
   "cell_type": "markdown",
   "id": "58b3631e",
   "metadata": {},
   "source": [
    "# 3.  Swap adjacent elements in a list without using inbuilt functions?"
   ]
  },
  {
   "cell_type": "code",
   "execution_count": 5,
   "id": "2b89ab2f",
   "metadata": {},
   "outputs": [
    {
     "name": "stdout",
     "output_type": "stream",
     "text": [
      "[56, 43, 78, 21, 54]\n"
     ]
    }
   ],
   "source": [
    "lst = [54,56,43,78,21]\n",
    "for i in range(1,len(lst)):\n",
    "    lst[i],lst[i-1] = lst[i-1],lst[i]\n",
    "print(lst)"
   ]
  },
  {
   "cell_type": "markdown",
   "id": "a03611e5",
   "metadata": {},
   "source": [
    "# 4. Write a program to enter the number till the user wants\n",
    "# and at the end it should display the sum of all numbers entered.(using while loop)"
   ]
  },
  {
   "cell_type": "code",
   "execution_count": 4,
   "id": "37e178b8",
   "metadata": {},
   "outputs": [
    {
     "name": "stdout",
     "output_type": "stream",
     "text": [
      "How many number to sum: 4\n",
      "Enter Value: 5\n",
      "Enter Value: 10\n",
      "Enter Value: 30\n",
      "Enter Value: 5\n",
      "Sum is 50\n"
     ]
    }
   ],
   "source": [
    "number_of_inputs = int(input(\"How many number to sum: \"))\n",
    "\n",
    "sum = 0                                                                     # Initialize the sum variable\n",
    "for x in range(number_of_inputs):                                                   # Repeat the number of inputs times\n",
    "    sum = sum +  int(input(\"Enter Value: \"))                                       # Take a input and add it to the sum\n",
    "\n",
    "print(\"Sum is\", sum)                                                                      # print \n",
    "    "
   ]
  },
  {
   "cell_type": "markdown",
   "id": "97ca73c9",
   "metadata": {},
   "source": [
    "# 5. Find the unique number in a list using function?\n",
    " #   Sample Input : [2,1,4,3,1,4,2]\n",
    "   # Sample Output : 3"
   ]
  },
  {
   "cell_type": "code",
   "execution_count": 16,
   "id": "4b994322",
   "metadata": {},
   "outputs": [
    {
     "name": "stdout",
     "output_type": "stream",
     "text": [
      "3\n"
     ]
    }
   ],
   "source": [
    "a = [2,1,4,3,2,1,4]\n",
    "# a = [4,2,3,2,3,4,9]                                 #only one unique num ke liye ye aplicable hai\n",
    "r=0\n",
    "for i in a:\n",
    "    r^=i\n",
    "print(r)    "
   ]
  },
  {
   "cell_type": "code",
   "execution_count": 21,
   "id": "c58090a5",
   "metadata": {},
   "outputs": [
    {
     "name": "stdout",
     "output_type": "stream",
     "text": [
      "3\n"
     ]
    }
   ],
   "source": [
    "a = [2,1,4,3,2,1,4]\n",
    "for i in a:\n",
    "    if a.count(i)==1 :\n",
    "        print(i)"
   ]
  },
  {
   "cell_type": "code",
   "execution_count": 8,
   "id": "0849fa2a",
   "metadata": {},
   "outputs": [
    {
     "name": "stdout",
     "output_type": "stream",
     "text": [
      "[5, 6, 7]\n"
     ]
    }
   ],
   "source": [
    "a = [2,3,4,4,3,2,5,6,7]\n",
    "b = [i for i in a if a.count(i) < 2]\n",
    "print(b)"
   ]
  },
  {
   "cell_type": "markdown",
   "id": "aea7bd90",
   "metadata": {},
   "source": [
    "# 6. create a iterator to find all the power of 3?"
   ]
  },
  {
   "cell_type": "code",
   "execution_count": 18,
   "id": "b0573480",
   "metadata": {
    "scrolled": true
   },
   "outputs": [
    {
     "name": "stdout",
     "output_type": "stream",
     "text": [
      "1\n",
      "8\n",
      "27\n",
      "64\n",
      "125\n",
      "216\n",
      "343\n",
      "512\n",
      "729\n",
      "1000\n"
     ]
    }
   ],
   "source": [
    "for i in range(1,11):\n",
    "    b = i**3\n",
    "    print(b)    "
   ]
  },
  {
   "cell_type": "markdown",
   "id": "eefa6ce3",
   "metadata": {},
   "source": [
    "# 7. give the example of multilevel inheritance by usnig super method?"
   ]
  },
  {
   "cell_type": "code",
   "execution_count": 34,
   "id": "08d96577",
   "metadata": {},
   "outputs": [
    {
     "name": "stdout",
     "output_type": "stream",
     "text": [
      "my name is: Afreen\n",
      "my age is: 20\n",
      "my salary is: 90000\n"
     ]
    }
   ],
   "source": [
    "class parent:\n",
    "    def __init__(self,name):\n",
    "        self.name = name\n",
    "class child1(parent):\n",
    "    def __init__(self, name, age):\n",
    "        super().__init__(name)\n",
    "        self.age = age\n",
    "class child2(child1):\n",
    "    def __init__(self, name, age, salary):\n",
    "        super().__init__(name, age)\n",
    "        self.salary = salary\n",
    "    def show(self):\n",
    "        print(\"my name is:\", self.name)\n",
    "        print(\"my age is:\", self.age)\n",
    "        print(\"my salary is:\", self.salary)\n",
    "c1 = child2(\"Afreen\", 20, 90000)\n",
    "c1.show()\n",
    "    "
   ]
  },
  {
   "cell_type": "code",
   "execution_count": 36,
   "id": "8a03c66b",
   "metadata": {},
   "outputs": [
    {
     "name": "stdout",
     "output_type": "stream",
     "text": [
      "AFREEN 20 86000 2002\n"
     ]
    }
   ],
   "source": [
    "class parent:\n",
    "    def __init__(self,name):\n",
    "        self.name = name\n",
    "class child1(parent):\n",
    "    def __init__(self, name, age):\n",
    "        super().__init__(name)\n",
    "        self.age = age\n",
    "class chilld2(child1):\n",
    "    def __init__(self, name, age, salary):\n",
    "        super().__init__(name, age, salary)\n",
    "        self.salary = salary\n",
    "class child3(child2):\n",
    "    def __init__(self, name, age, salary, DOB):\n",
    "        super().__init__(name,age, salary)\n",
    "        self.DOB = DOB\n",
    "    def show(self):\n",
    "        print(self.name, self.age, self.salary, self.DOB)\n",
    "obj = child3(\"AFREEN\", 20, 86000, 2002)\n",
    "obj.show()\n",
    "    "
   ]
  },
  {
   "cell_type": "code",
   "execution_count": 23,
   "id": "4a9fb04e",
   "metadata": {},
   "outputs": [
    {
     "name": "stdout",
     "output_type": "stream",
     "text": [
      "afreen is employee of: google\n",
      "afreen salary is: 85000\n"
     ]
    }
   ],
   "source": [
    "class company:\n",
    "    def company_name(self):\n",
    "        return \"google\"\n",
    "    \n",
    "class emp_salry:\n",
    "    def employee_salary(self):\n",
    "        return 85000\n",
    "class employee(company, emp_salry):\n",
    "    def  info(self):\n",
    "        c_name =  super().company_name()\n",
    "        emp_salry = super().employee_salary()\n",
    "        print(\"afreen is employee of:\", c_name)\n",
    "        print(\"afreen salary is:\", emp_salry)       \n",
    "e1 = employee()\n",
    "e1.info()\n",
    "        "
   ]
  },
  {
   "cell_type": "markdown",
   "id": "94663390",
   "metadata": {},
   "source": [
    "# 8. Convert a local variable into global variable and give the methods to access the same "
   ]
  },
  {
   "cell_type": "code",
   "execution_count": 2,
   "id": "c49e9447",
   "metadata": {},
   "outputs": [
    {
     "name": "stdout",
     "output_type": "stream",
     "text": [
      "my name is Afreen\n"
     ]
    }
   ],
   "source": [
    "def myfunc():\n",
    "    global x\n",
    "    x = \"Afreen\"\n",
    "myfunc()    \n",
    "print(\"my name is \" + x)          "
   ]
  },
  {
   "cell_type": "code",
   "execution_count": 1,
   "id": "f38d707d",
   "metadata": {},
   "outputs": [
    {
     "name": "stdout",
     "output_type": "stream",
     "text": [
      "my name is Afreen\n"
     ]
    }
   ],
   "source": [
    "x = \"Nazreen\"\n",
    "def myfunc():\n",
    "    global x\n",
    "    x = \"Afreen\"\n",
    "myfunc()\n",
    "print(\"my name is \" + x)"
   ]
  },
  {
   "cell_type": "markdown",
   "id": "f68a1dba",
   "metadata": {},
   "source": [
    "# 9. Make a class and implement getter setter methods \n"
   ]
  },
  {
   "cell_type": "code",
   "execution_count": 53,
   "id": "64d7c4bb",
   "metadata": {},
   "outputs": [
    {
     "name": "stdout",
     "output_type": "stream",
     "text": [
      "Name: Afreen Age: 20\n",
      "Name: Afreen Age: 21\n"
     ]
    }
   ],
   "source": [
    "class person:\n",
    "    def __init__(self,name, age):\n",
    "        self.name = name\n",
    "        self.__age = age\n",
    "                \n",
    "# get means value ko pehle nikalo        \n",
    "    def get_age(self):\n",
    "        return self.__age\n",
    "        \n",
    "# set the value nikale huye \n",
    "    def set_age(self, age):\n",
    "        self.__age = age \n",
    "               \n",
    "p1 = person(\"Afreen\", 20)\n",
    "print(\"Name:\", p1.name, \"Age:\", p1.get_age())\n",
    "\n",
    "p1.set_age(21)\n",
    "print(\"Name:\", p1.name, \"Age:\", p1.get_age())\n"
   ]
  },
  {
   "cell_type": "markdown",
   "id": "9971bdfd",
   "metadata": {},
   "source": [
    "# 10 find the even odd from the given list using ananynomus function?"
   ]
  },
  {
   "cell_type": "code",
   "execution_count": 13,
   "id": "8f58ad15",
   "metadata": {},
   "outputs": [
    {
     "name": "stdout",
     "output_type": "stream",
     "text": [
      "['Odd', 'Even', 'Even', 'Odd', 'Odd', 'Even', 'Odd', 'Odd']\n"
     ]
    }
   ],
   "source": [
    "a = [1,2,4,3,5,6,7,9]\n",
    "b = [(lambda x : \"Even\" if x%2==0 else \"Odd\") (x) for x in a]\n",
    "print(b)"
   ]
  },
  {
   "cell_type": "markdown",
   "id": "7e964586",
   "metadata": {},
   "source": [
    "# 11. Write syntax for Dictionary comprehension and give benefits of it\n"
   ]
  },
  {
   "cell_type": "code",
   "execution_count": null,
   "id": "1eade3c4",
   "metadata": {},
   "outputs": [],
   "source": []
  },
  {
   "cell_type": "markdown",
   "id": "379ca54c",
   "metadata": {},
   "source": [
    "# 12. How to change the behaviour of a function without modifying it ?\n"
   ]
  },
  {
   "cell_type": "markdown",
   "id": "4036162a",
   "metadata": {},
   "source": [
    "# *without the parameter:"
   ]
  },
  {
   "cell_type": "code",
   "execution_count": 52,
   "id": "d400d7ed",
   "metadata": {},
   "outputs": [
    {
     "name": "stdout",
     "output_type": "stream",
     "text": [
      "my name is afreen\n",
      "i am employee of google\n"
     ]
    }
   ],
   "source": [
    "def sample(mark):\n",
    "    def addition():\n",
    "        print(\"my name is afreen\")\n",
    "        mark()\n",
    "    return addition\n",
    "@sample\n",
    "def myactulfunc():\n",
    "    print(\"i am employee of google\")\n",
    "myactulfunc()   "
   ]
  },
  {
   "cell_type": "markdown",
   "id": "c1e36927",
   "metadata": {},
   "source": [
    "# *with parameter:"
   ]
  },
  {
   "cell_type": "code",
   "execution_count": 54,
   "id": "d4b21898",
   "metadata": {},
   "outputs": [
    {
     "name": "stdout",
     "output_type": "stream",
     "text": [
      "my name is: AFREEN\n",
      "i am a employee of: GOOGLE\n",
      "i am a student of: MCC\n"
     ]
    }
   ],
   "source": [
    "def function1(mark):\n",
    "    def addition(a,b,c):\n",
    "        print(\"my name is:\", a)\n",
    "        mark(b,c)\n",
    "    return addition\n",
    "@function1\n",
    "def function2(b,c):\n",
    "    print(\"i am a employee of:\", b)\n",
    "    print(\"i am a student of:\", c)\n",
    "function2(\"AFREEN\", \"GOOGLE\", \"MCC\")    "
   ]
  },
  {
   "cell_type": "markdown",
   "id": "be036693",
   "metadata": {},
   "source": [
    "# 13. What will be the Output ? \n",
    "       "
   ]
  },
  {
   "cell_type": "code",
   "execution_count": 59,
   "id": "b0114fe4",
   "metadata": {},
   "outputs": [
    {
     "name": "stdout",
     "output_type": "stream",
     "text": [
      "True\n"
     ]
    }
   ],
   "source": [
    "a=\"python\"\n",
    "b=\"pythoN\"\n",
    "print(a>b)\n",
    "\n",
    "# True\n",
    "# False\n",
    "# Error\n",
    "# None of these"
   ]
  },
  {
   "cell_type": "markdown",
   "id": "51babde1",
   "metadata": {},
   "source": [
    "# Q1.find the largest number by usnig class and object:"
   ]
  },
  {
   "cell_type": "code",
   "execution_count": null,
   "id": "bdc59803",
   "metadata": {},
   "outputs": [],
   "source": [
    "class maximum:\n",
    "     def __init__(self, a):\n",
    "            self.a = a \n",
    "    \n",
    "     def show(self):\n",
    "            lst = [23,54,76,187,986,0.44]\n",
    "            max_ = lst[0]\n",
    "            for i in lst:\n",
    "                if i > max_:\n",
    "                    max_ = i\n",
    "            return max_            \n",
    "obj = maximum(a)\n",
    "obj.show()\n"
   ]
  },
  {
   "cell_type": "markdown",
   "id": "f614646d",
   "metadata": {},
   "source": [
    "# TO  FIND THE HEIGEST NUMBER IN LIST:"
   ]
  },
  {
   "cell_type": "code",
   "execution_count": null,
   "id": "b386ef63",
   "metadata": {},
   "outputs": [],
   "source": [
    "lst = [23,54,76,187,986,0.44]\n",
    "max_ = lst[0]\n",
    "for i in lst:\n",
    "    if i > max_:\n",
    "        max_ = i\n",
    "print(max_)        "
   ]
  },
  {
   "cell_type": "markdown",
   "id": "ae817581",
   "metadata": {},
   "source": [
    "# TO FIND THE LOWEST NUMBER IN LIST:"
   ]
  },
  {
   "cell_type": "code",
   "execution_count": null,
   "id": "b9d89b8f",
   "metadata": {},
   "outputs": [],
   "source": [
    "lst = [23,54,76,187,986,0.44]\n",
    "min_ = lst[0]\n",
    "for i in lst:\n",
    "    if i < min_:\n",
    "        min_ = i\n",
    "print(min_) "
   ]
  },
  {
   "cell_type": "markdown",
   "id": "936a9eaa",
   "metadata": {},
   "source": [
    "# FIND THE SECOND HEIGEST NUMBER IN LIST:"
   ]
  },
  {
   "cell_type": "code",
   "execution_count": null,
   "id": "582ce3ec",
   "metadata": {},
   "outputs": [],
   "source": [
    "a = [21,34,54,67,9987,298,76]\n",
    "\n",
    "maxval = max(a)\n",
    "print(\"first maximum number in lst:\", maxval)\n",
    "a.remove((maxval))\n",
    "scondmax = max(a)\n",
    "print(\"first maximum number in lst:\", scondmax)"
   ]
  },
  {
   "cell_type": "markdown",
   "id": "e7c2885b",
   "metadata": {},
   "source": [
    "# CREATE A SQUARE OF 1 TO 10 NUMBER BY USING GENERATOR:"
   ]
  },
  {
   "cell_type": "code",
   "execution_count": 64,
   "id": "d353e27c",
   "metadata": {},
   "outputs": [
    {
     "name": "stdout",
     "output_type": "stream",
     "text": [
      "1\n",
      "4\n",
      "9\n",
      "16\n",
      "25\n",
      "36\n",
      "49\n",
      "64\n",
      "81\n",
      "100\n"
     ]
    }
   ],
   "source": [
    "def square():\n",
    "    i = 1\n",
    "    while True:\n",
    "        yield i*i\n",
    "        i = i + 1\n",
    "for num in square():\n",
    "    if num > 100:\n",
    "        break\n",
    "    print(num)    "
   ]
  },
  {
   "cell_type": "markdown",
   "id": "182d7c8a",
   "metadata": {},
   "source": [
    "# Q.2 swap the adjcent element of iterable using function take indexing as argument?"
   ]
  },
  {
   "cell_type": "markdown",
   "id": "b4683f0c",
   "metadata": {},
   "source": [
    "only swap 1st and 2nd element ig given lst:"
   ]
  },
  {
   "cell_type": "code",
   "execution_count": 7,
   "id": "22bbca51",
   "metadata": {},
   "outputs": [
    {
     "name": "stdout",
     "output_type": "stream",
     "text": [
      "[22, 21, 23, 24, 25]\n"
     ]
    }
   ],
   "source": [
    "def func(l,i):\n",
    "    l[i],l[i+1] = l[i+1],l[i]\n",
    "    print(l)\n",
    "l = [21,22,23,24,25]\n",
    "func(l,0)"
   ]
  },
  {
   "cell_type": "code",
   "execution_count": null,
   "id": "2adfe4ca",
   "metadata": {},
   "outputs": [],
   "source": [
    "only swap last and 2nd last element of lst:"
   ]
  },
  {
   "cell_type": "code",
   "execution_count": 78,
   "id": "d88f5016",
   "metadata": {},
   "outputs": [
    {
     "name": "stdout",
     "output_type": "stream",
     "text": [
      "[21, 22, 23, 25, 24]\n"
     ]
    }
   ],
   "source": [
    "def func(l,i):\n",
    "    l[i-1],l[i-2] = l[i-2],l[i-1]\n",
    "    print(l)\n",
    "l = [21,22,23,24,25]\n",
    "func(l,5)"
   ]
  },
  {
   "cell_type": "code",
   "execution_count": null,
   "id": "95eb4854",
   "metadata": {},
   "outputs": [],
   "source": [
    "only swap the center element:"
   ]
  },
  {
   "cell_type": "code",
   "execution_count": 4,
   "id": "c4351cb6",
   "metadata": {},
   "outputs": [
    {
     "name": "stdout",
     "output_type": "stream",
     "text": [
      "[22, 24, 23, 25]\n"
     ]
    }
   ],
   "source": [
    "def func(l,i):\n",
    "    l[i-1],l[i-2] = l[i-2],l[i-1]\n",
    "    print(l)\n",
    "l = [22,23,24,25]\n",
    "func(l,3)"
   ]
  },
  {
   "cell_type": "code",
   "execution_count": null,
   "id": "26b902fb",
   "metadata": {},
   "outputs": [],
   "source": []
  }
 ],
 "metadata": {
  "kernelspec": {
   "display_name": "Python 3 (ipykernel)",
   "language": "python",
   "name": "python3"
  },
  "language_info": {
   "codemirror_mode": {
    "name": "ipython",
    "version": 3
   },
   "file_extension": ".py",
   "mimetype": "text/x-python",
   "name": "python",
   "nbconvert_exporter": "python",
   "pygments_lexer": "ipython3",
   "version": "3.10.7"
  }
 },
 "nbformat": 4,
 "nbformat_minor": 5
}
