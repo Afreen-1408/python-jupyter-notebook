{
 "cells": [
  {
   "cell_type": "markdown",
   "id": "4745dc8f",
   "metadata": {},
   "source": [
    "# Oops concepts"
   ]
  },
  {
   "cell_type": "markdown",
   "id": "57185fcb",
   "metadata": {},
   "source": [
    "# define a class:"
   ]
  },
  {
   "cell_type": "code",
   "execution_count": 8,
   "id": "a4873cfb",
   "metadata": {},
   "outputs": [],
   "source": [
    "class Phone:\n",
    "    def make_call(self):          #---------->self (current objects)\n",
    "        print(\"making call\")\n",
    "    def ply_game(self):\n",
    "        print(\"playing gaame\")"
   ]
  },
  {
   "cell_type": "markdown",
   "id": "5f5279f5",
   "metadata": {},
   "source": [
    "object instanciated: (intance of a class) is class ka ek object hamne instanciated kiya.............ham is object ke sath ham call karsakte h game khel sakte h q ke ye obj class(blue\\print) ke ander define hai "
   ]
  },
  {
   "cell_type": "code",
   "execution_count": 9,
   "id": "a6629d39",
   "metadata": {},
   "outputs": [],
   "source": [
    "p1 = Phone()"
   ]
  },
  {
   "cell_type": "code",
   "execution_count": 10,
   "id": "71220ef5",
   "metadata": {},
   "outputs": [
    {
     "name": "stdout",
     "output_type": "stream",
     "text": [
      "making call\n"
     ]
    }
   ],
   "source": [
    "p1.make_call()"
   ]
  },
  {
   "cell_type": "code",
   "execution_count": 11,
   "id": "9ca322f5",
   "metadata": {
    "scrolled": true
   },
   "outputs": [
    {
     "name": "stdout",
     "output_type": "stream",
     "text": [
      "playing gaame\n"
     ]
    }
   ],
   "source": [
    "p1.ply_game()"
   ]
  },
  {
   "cell_type": "markdown",
   "id": "4c149071",
   "metadata": {},
   "source": [
    "# define a class with more Attributes"
   ]
  },
  {
   "cell_type": "code",
   "execution_count": 1,
   "id": "a7507e7c",
   "metadata": {},
   "outputs": [],
   "source": [
    "class Phone():\n",
    "    def set_color(self,color):   \n",
    "        self.color=color       # color ko assing karna h assing this attritbute  in to the color value of what ever  obj i creat, \n",
    "    def set_cost(self,cost):\n",
    "        self.cost=cost\n",
    "    def show_color(self):\n",
    "        return self.color\n",
    "    def show_cost(self):\n",
    "        return self.cost\n",
    "    def make_call(self):\n",
    "        print(\"making call\")\n",
    "    def ply_game(self):\n",
    "        print(\"playing gaame\")       "
   ]
  },
  {
   "cell_type": "code",
   "execution_count": 4,
   "id": "e977d076",
   "metadata": {},
   "outputs": [],
   "source": [
    "p2 = Phone()  "
   ]
  },
  {
   "cell_type": "code",
   "execution_count": 5,
   "id": "401ffaca",
   "metadata": {
    "scrolled": true
   },
   "outputs": [],
   "source": [
    "p2.set_color(\"blue\")"
   ]
  },
  {
   "cell_type": "code",
   "execution_count": 6,
   "id": "9b5dc2e0",
   "metadata": {},
   "outputs": [],
   "source": [
    "p2.set_cost(5000)"
   ]
  },
  {
   "cell_type": "code",
   "execution_count": 7,
   "id": "57c7b8e2",
   "metadata": {},
   "outputs": [
    {
     "data": {
      "text/plain": [
       "'blue'"
      ]
     },
     "execution_count": 7,
     "metadata": {},
     "output_type": "execute_result"
    }
   ],
   "source": [
    "p2.show_color()"
   ]
  },
  {
   "cell_type": "code",
   "execution_count": 8,
   "id": "18b01971",
   "metadata": {
    "scrolled": true
   },
   "outputs": [
    {
     "data": {
      "text/plain": [
       "5000"
      ]
     },
     "execution_count": 8,
     "metadata": {},
     "output_type": "execute_result"
    }
   ],
   "source": [
    "p2.show_cost()"
   ]
  },
  {
   "cell_type": "code",
   "execution_count": 10,
   "id": "6bf8c7ff",
   "metadata": {},
   "outputs": [
    {
     "name": "stdout",
     "output_type": "stream",
     "text": [
      "making call\n"
     ]
    }
   ],
   "source": [
    "p2.make_call()"
   ]
  },
  {
   "cell_type": "code",
   "execution_count": 12,
   "id": "534e0477",
   "metadata": {},
   "outputs": [
    {
     "name": "stdout",
     "output_type": "stream",
     "text": [
      "playing gaame\n"
     ]
    }
   ],
   "source": [
    "p2.ply_game()"
   ]
  },
  {
   "cell_type": "markdown",
   "id": "99b24ec8",
   "metadata": {},
   "source": [
    "# creating a class by using constructor and instantiated the obj and invoking"
   ]
  },
  {
   "cell_type": "code",
   "execution_count": 37,
   "id": "a7ddf84e",
   "metadata": {},
   "outputs": [],
   "source": [
    "class Employee():\n",
    "    def __init__(self,name,age,salary,gender):\n",
    "        self.name = name\n",
    "        self.age = age\n",
    "        self.salary = salary\n",
    "        self.gender = gender\n",
    "        \n",
    "        \n",
    "    def show_employee_details(self):\n",
    "            print(\"Nmae of employee is\",self.name)\n",
    "            print(\"Age of employee is\",self.age)\n",
    "            print(\"Salary of employee is\",self.salary)\n",
    "            print(\"Gender of employee is\",self.gender)\n",
    "            "
   ]
  },
  {
   "cell_type": "code",
   "execution_count": 38,
   "id": "60f9bc38",
   "metadata": {},
   "outputs": [],
   "source": [
    "e1 = Employee('Ram',32,85000,'Male')\n",
    "e2 = Employee('harry',24,2300013,'Male')"
   ]
  },
  {
   "cell_type": "code",
   "execution_count": 39,
   "id": "e091b5d6",
   "metadata": {},
   "outputs": [
    {
     "name": "stdout",
     "output_type": "stream",
     "text": [
      "Nmae of employee is Ram\n",
      "Age of employee is 32\n",
      "Salary of employee is 85000\n",
      "Gender of employee is Male\n",
      "Nmae of employee is harry\n",
      "Age of employee is 24\n",
      "Salary of employee is 2300013\n",
      "Gender of employee is Male\n"
     ]
    }
   ],
   "source": [
    "e1.show_employee_details()\n",
    "e2.show_employee_details()"
   ]
  },
  {
   "cell_type": "markdown",
   "id": "ab8bccc7",
   "metadata": {},
   "source": [
    "# inheritance of class perent and child class invoking the method "
   ]
  },
  {
   "cell_type": "markdown",
   "id": "e344de08",
   "metadata": {},
   "source": [
    "# creat a class by ushing constructor"
   ]
  },
  {
   "cell_type": "code",
   "execution_count": 40,
   "id": "3e4d4446",
   "metadata": {},
   "outputs": [],
   "source": [
    "class vehicle:\n",
    "    def __init__(self,milage,cost):\n",
    "        self.milage=milage\n",
    "        self.cost=cost\n",
    "        \n",
    "    def show_vehicle_details(self):\n",
    "        print(\"milage of vehicla is\",self.milage)\n",
    "        print(\"cost of the car\",self.cost)\n",
    "        print(\"i am a vehicle\")\n",
    "        "
   ]
  },
  {
   "cell_type": "markdown",
   "id": "60aed27d",
   "metadata": {},
   "source": [
    "# intenciated the object   /base class or super class:"
   ]
  },
  {
   "cell_type": "code",
   "execution_count": 41,
   "id": "b2c0ae61",
   "metadata": {},
   "outputs": [],
   "source": [
    "v1 = vehicle(2000,12000)"
   ]
  },
  {
   "cell_type": "code",
   "execution_count": 42,
   "id": "b3891731",
   "metadata": {},
   "outputs": [
    {
     "name": "stdout",
     "output_type": "stream",
     "text": [
      "milage of vehicla is 2000\n",
      "cost of the car 12000\n",
      "i am a vehicle\n"
     ]
    }
   ],
   "source": [
    "v1.show_vehicle_details()"
   ]
  },
  {
   "cell_type": "markdown",
   "id": "ae785762",
   "metadata": {},
   "source": [
    "# we creat a child class jo super class ki property ko inherit kareta h "
   ]
  },
  {
   "cell_type": "code",
   "execution_count": 43,
   "id": "61e43e54",
   "metadata": {},
   "outputs": [],
   "source": [
    "class Car(vehicle):\n",
    "    def show_car_details(self):\n",
    "        print(\"i am a car\")"
   ]
  },
  {
   "cell_type": "code",
   "execution_count": 44,
   "id": "a6b994c2",
   "metadata": {},
   "outputs": [],
   "source": [
    "c1 = Car(250,1200)"
   ]
  },
  {
   "cell_type": "code",
   "execution_count": 45,
   "id": "f1bbb18b",
   "metadata": {},
   "outputs": [
    {
     "name": "stdout",
     "output_type": "stream",
     "text": [
      "milage of vehicla is 250\n",
      "cost of the car 1200\n",
      "i am a vehicle\n"
     ]
    }
   ],
   "source": [
    "c1.show_vehicle_details()"
   ]
  },
  {
   "cell_type": "code",
   "execution_count": 46,
   "id": "0bc06b19",
   "metadata": {},
   "outputs": [
    {
     "name": "stdout",
     "output_type": "stream",
     "text": [
      "i am a car\n"
     ]
    }
   ],
   "source": [
    "c1.show_car_details()"
   ]
  },
  {
   "cell_type": "markdown",
   "id": "b5248f33",
   "metadata": {},
   "source": [
    "# class by ushing consttrctor make object:"
   ]
  },
  {
   "cell_type": "code",
   "execution_count": 47,
   "id": "df4f4219",
   "metadata": {},
   "outputs": [],
   "source": [
    "class Employee():\n",
    "    def __init__(self,fname,lname,salary):\n",
    "        self.fname=fname\n",
    "        self.lname=lname\n",
    "        self.salary=salary\n",
    "        "
   ]
  },
  {
   "cell_type": "code",
   "execution_count": 48,
   "id": "2c993288",
   "metadata": {},
   "outputs": [],
   "source": [
    "e1 = Employee(\"Harry\",\"Jecson\",44000)\n",
    "e2 = Employee(\"Rohan\",\"Das\",44000)"
   ]
  },
  {
   "cell_type": "code",
   "execution_count": 49,
   "id": "f769c900",
   "metadata": {},
   "outputs": [
    {
     "name": "stdout",
     "output_type": "stream",
     "text": [
      "Harry Jecson 44000\n",
      "Rohan Das 44000\n"
     ]
    }
   ],
   "source": [
    "print(e1.fname, e1.lname, e1.salary)\n",
    "print(e2.fname, e2.lname, e2.salary)"
   ]
  },
  {
   "cell_type": "code",
   "execution_count": 50,
   "id": "42774aa2",
   "metadata": {},
   "outputs": [
    {
     "name": "stdout",
     "output_type": "stream",
     "text": [
      "0\n",
      "1\n",
      "2\n",
      "{'fname': 'Harry', 'lname': 'Jecson', 'salary': 44000, 'increment': 9}\n",
      "{'fname': 'Rohan', 'lname': 'Das', 'salary': 74000, 'increment': 1.4}\n",
      "{'__module__': '__main__', 'increment': 1.5, 'no_of_employee': 2, '__init__': <function Employee.__init__ at 0x000001CF2B2883A0>, 'increase': <function Employee.increase at 0x000001CF2B2885E0>, '__dict__': <attribute '__dict__' of 'Employee' objects>, '__weakref__': <attribute '__weakref__' of 'Employee' objects>, '__doc__': None}\n",
      "44000\n",
      "66000\n",
      "74000\n",
      "111000\n"
     ]
    }
   ],
   "source": [
    " class Employee():\n",
    "    \n",
    "    increment = 1.5\n",
    "    no_of_employee = 0\n",
    "    def __init__(self, fname, lname, salary):\n",
    "        self.fname = fname                                   #self==current objects\n",
    "        self.lname = lname                              #instance ko object bolte hi instance==object\n",
    "        self.salary = salary\n",
    "        self.increment = 1.4\n",
    "        Employee.no_of_employee +=1\n",
    "        \n",
    "    def increase(self):\n",
    "        self.salary = int(self.salary * Employee.increment)\n",
    "        \n",
    "        \n",
    "        \n",
    "        \n",
    "print(Employee.no_of_employee)        \n",
    "e1 = Employee(\"Harry\",\"Jecson\",44000)\n",
    "print(Employee.no_of_employee)\n",
    "e2 = Employee(\"Rohan\",\"Das\",74000) \n",
    "print(Employee.no_of_employee)\n",
    "\n",
    "\n",
    "\n",
    "e1.increment = 9\n",
    "print(e1.__dict__)\n",
    "print(e2.__dict__)\n",
    "\n",
    "print(Employee.__dict__)\n",
    "\n",
    "print(e1.salary)\n",
    "e1.increase()\n",
    "print(e1.salary)\n",
    "  \n",
    "    \n",
    "print(e2.salary)\n",
    "e2.increase()\n",
    "print(e2.salary)    "
   ]
  },
  {
   "cell_type": "markdown",
   "id": "0eb68957",
   "metadata": {},
   "source": [
    "# agar main intance ke ander ek veriable bana du self.increment=1.4 ye salary 44000 se 66000 hi jaye q ki maine Employee.increment used kiya h lekin bu any chance mai n yaha pe self.increment likh du to wo 44000 se 666123 hojaye ga.....\n",
    "    \n",
    "    \n",
    "    \n",
    "print(harry-e1__dict__ )-----> find the intance veriable\n",
    "print(Employee__dict__)------> find the class veriable\n",
    "\n",
    "  \n"
   ]
  },
  {
   "cell_type": "markdown",
   "id": "c6a1c690",
   "metadata": {},
   "source": [
    "# class method "
   ]
  },
  {
   "cell_type": "code",
   "execution_count": 51,
   "id": "340b28f0",
   "metadata": {},
   "outputs": [
    {
     "name": "stdout",
     "output_type": "stream",
     "text": [
      "44000\n",
      "176000\n"
     ]
    }
   ],
   "source": [
    "class Employee():\n",
    "    increment = 1.5\n",
    "    def __init__(self,fname,lname,salary):\n",
    "        self.fname = fname\n",
    "        self.lname = lname\n",
    "        self.salary = salary\n",
    "    def increase(self):\n",
    "        self.salary = int(self.salary * Employee.increment) \n",
    "        \n",
    "        \n",
    "        \n",
    "    @classmethod\n",
    "    def change_increment(cls, amount):\n",
    "        cls.increment = amount\n",
    "        \n",
    "        \n",
    "        \n",
    "harry = Employee('Harry', 'jackson', 44000) \n",
    "\n",
    "\n",
    "rohan = Employee('Rohan', 'das', 44000)\n",
    "\n",
    "\n",
    "print(harry.salary)\n",
    "Employee.change_increment(4)\n",
    "harry.increase()\n",
    "print(harry.salary)\n",
    "    \n",
    "            "
   ]
  },
  {
   "cell_type": "markdown",
   "id": "cadcebf1",
   "metadata": {},
   "source": [
    "# class method As Alternative constructor:"
   ]
  },
  {
   "cell_type": "code",
   "execution_count": 52,
   "id": "1ff0f12e",
   "metadata": {},
   "outputs": [
    {
     "name": "stdout",
     "output_type": "stream",
     "text": [
      "lovish\n",
      "jackson\n",
      "76000\n"
     ]
    }
   ],
   "source": [
    "class Employee():\n",
    "    \n",
    "    def __init__(self,fname,lname,salary):\n",
    "        self.fname = fname\n",
    "        self.lname = lname\n",
    "        self.salary = salary\n",
    "      \n",
    "        \n",
    "        \n",
    "        \n",
    "    @classmethod\n",
    "    def from_str(cls, emp_string):\n",
    "        fname, lname, salary = emp_string.split(\"-\")\n",
    "        return cls(fname, lname, salary)\n",
    "    \n",
    "    \n",
    "lovish = Employee.from_str(\"lovish-jackson-76000\")   #object\n",
    "\n",
    "print(lovish.fname)\n",
    "print(lovish.lname)\n",
    "print(lovish.salary)\n",
    "\n",
    "        "
   ]
  },
  {
   "cell_type": "code",
   "execution_count": 53,
   "id": "8bc5ba46",
   "metadata": {},
   "outputs": [
    {
     "name": "stdout",
     "output_type": "stream",
     "text": [
      "jessa\n",
      "jeckson\n",
      "Male\n",
      "88000\n"
     ]
    }
   ],
   "source": [
    "class Person():     #class\n",
    "             \n",
    "    increment = 1.5      #class veriable\n",
    "    def __init__(self, fname, lname, sex, salary):                            #constractor\n",
    "        self.fname = fname                              #instance veriable\n",
    "        self.lname = lname\n",
    "        self.sex = sex\n",
    "        self.salary = salary\n",
    "        \n",
    "        \n",
    "    @classmethod\n",
    "    def from_str(cls, emp_string):\n",
    "        fname, lname, sex, salary = emp_string.split(\"-\")     #class method\n",
    "        return cls(fname, lname, sex, salary)\n",
    "    \n",
    "    \n",
    "    \n",
    "jessa = Person.from_str(\"jessa-jeckson-Male-88000\")  #object\n",
    "\n",
    "print(jessa.fname)\n",
    "print(jessa.lname)\n",
    "print(jessa.sex)\n",
    "print(jessa.salary)"
   ]
  },
  {
   "cell_type": "markdown",
   "id": "fd8a220b",
   "metadata": {},
   "source": [
    "# static method :"
   ]
  },
  {
   "cell_type": "code",
   "execution_count": 54,
   "id": "3ad44b03",
   "metadata": {},
   "outputs": [
    {
     "name": "stdout",
     "output_type": "stream",
     "text": [
      "False\n"
     ]
    }
   ],
   "source": [
    "\n",
    "   class Employee():\n",
    "    \n",
    "    def __init__(self,fname,lname,salary):\n",
    "        self.fname = fname\n",
    "        self.lname = lname\n",
    "        self.salary = salary\n",
    "      \n",
    "    @staticmethod\n",
    "    def isopen(day):\n",
    "        if day == \"sunday\":\n",
    "            return False\n",
    "        else:\n",
    "            return True\n",
    "        \n",
    "print(Employee.isopen(\"sunday\"))        \n",
    "             \n",
    "\n",
    "\n"
   ]
  },
  {
   "cell_type": "markdown",
   "id": "d2bb39f6",
   "metadata": {},
   "source": [
    "# non-parametrise:"
   ]
  },
  {
   "cell_type": "code",
   "execution_count": 55,
   "id": "7bb46844",
   "metadata": {},
   "outputs": [
    {
     "name": "stdout",
     "output_type": "stream",
     "text": [
      "my name is: afreen\n",
      "my age is: 21\n"
     ]
    }
   ],
   "source": [
    "class non_parameterise():\n",
    "    def __init__(self):\n",
    "        self.name = \"afreen\"\n",
    "        self.age = 21\n",
    "    def show(self):\n",
    "        print(\"my name is:\", self.name)\n",
    "        print(\"my age is:\", self.age)\n",
    "        \n",
    "        \n",
    "p1 = non_parameterise()\n",
    "p1.show()        \n",
    "        "
   ]
  },
  {
   "cell_type": "markdown",
   "id": "a60c390c",
   "metadata": {},
   "source": [
    "# default parameter:"
   ]
  },
  {
   "cell_type": "code",
   "execution_count": 32,
   "id": "94a5be7d",
   "metadata": {},
   "outputs": [],
   "source": [
    "class default_parameter():                                             # default parameter   \n",
    "    def make_call(self):                                               #---------->self (current objects)\n",
    "        print(\"making call\")                                           # without usingg constructor:\n",
    "    def ply_game(self):\n",
    "        print(\"playing gaame\")\n",
    "    \n",
    "        "
   ]
  },
  {
   "cell_type": "code",
   "execution_count": 33,
   "id": "31b75d2d",
   "metadata": {},
   "outputs": [],
   "source": [
    "p1 = default_parameter()"
   ]
  },
  {
   "cell_type": "code",
   "execution_count": 34,
   "id": "3a562e9c",
   "metadata": {},
   "outputs": [
    {
     "name": "stdout",
     "output_type": "stream",
     "text": [
      "making call\n"
     ]
    }
   ],
   "source": [
    "p1.make_call()"
   ]
  },
  {
   "cell_type": "code",
   "execution_count": 36,
   "id": "7d0f317c",
   "metadata": {},
   "outputs": [],
   "source": [
    "p2 = default_parameter()"
   ]
  },
  {
   "cell_type": "code",
   "execution_count": 37,
   "id": "17cbbf96",
   "metadata": {},
   "outputs": [
    {
     "name": "stdout",
     "output_type": "stream",
     "text": [
      "playing gaame\n"
     ]
    }
   ],
   "source": [
    "p2.ply_game()"
   ]
  },
  {
   "cell_type": "markdown",
   "id": "4d24da31",
   "metadata": {},
   "source": [
    "# paramertarise:"
   ]
  },
  {
   "cell_type": "code",
   "execution_count": 4,
   "id": "813b80c2",
   "metadata": {},
   "outputs": [
    {
     "name": "stdout",
     "output_type": "stream",
     "text": [
      "my fname is: afreen\n",
      "my lname is: manihar\n",
      "my age is: 21\n",
      "my salary is: 80000\n",
      "my fname is: zikra\n",
      "my lname is: khan\n",
      "my age is: 21\n",
      "my salary is: 80000\n",
      "my fname is: misba\n",
      "my lname is: khan\n",
      "my age is: 21\n",
      "my salary is: 80000\n"
     ]
    }
   ],
   "source": [
    "class Person():\n",
    "    def __init__(self, fname, lname, age, salary):\n",
    "        self.fname=fname\n",
    "        self.lname=lname\n",
    "        self.age=age\n",
    "        self.salary=salary\n",
    "        \n",
    "        \n",
    "    def show_person_details(self):\n",
    "        print(\"my fname is:\", self.fname)\n",
    "        print(\"my lname is:\", self.lname)\n",
    "        print(\"my age is:\", self.age)\n",
    "        print(\"my salary is:\", self.salary)\n",
    "        \n",
    "p1 = Person(\"afreen\", \"manihar\", 21, 80000)\n",
    "p2 = Person(\"zikra\", \"khan\", 21, 80000)\n",
    "p3 = Person(\"misba\", \"khan\", 21, 80000)\n",
    "\n",
    "\n",
    "p1.show_person_details()\n",
    "\n",
    "p2.show_person_details()\n",
    "\n",
    "p3.show_person_details()\n"
   ]
  },
  {
   "cell_type": "markdown",
   "id": "d3e01f14",
   "metadata": {},
   "source": [
    "# Calling instance methods:"
   ]
  },
  {
   "cell_type": "code",
   "execution_count": 1,
   "id": "17f9599a",
   "metadata": {},
   "outputs": [
    {
     "name": "stdout",
     "output_type": "stream",
     "text": [
      "Name: misba Age: 24\n"
     ]
    }
   ],
   "source": [
    "class Student:\n",
    "    # constructor\n",
    "    def __init__(self, name, age):\n",
    "        # Instance variable\n",
    "        self.name = name\n",
    "        self.age = age\n",
    "\n",
    "    # instance method to access instance variable\n",
    "    def show(self):\n",
    "        print('Name:', self.name, 'Age:', self.age)\n",
    "s1 = Student('misba', 24)\n",
    "s1.show()"
   ]
  },
  {
   "cell_type": "markdown",
   "id": "ff036b2b",
   "metadata": {},
   "source": [
    "# Modify Instance Variables inside Instance Method"
   ]
  },
  {
   "cell_type": "code",
   "execution_count": 21,
   "id": "3d378666",
   "metadata": {},
   "outputs": [
    {
     "name": "stdout",
     "output_type": "stream",
     "text": [
      "class VIII\n",
      "Name: Zikra Age: 14 Roll Number: 1\n",
      "class IX\n",
      "Name: misba Age: 13 Roll Number: 2\n",
      "class IIX\n",
      "Name: afreen Age: 12 Roll Number: 3\n"
     ]
    }
   ],
   "source": [
    "class Student:\n",
    "    def __init__(self, name, age, roll_number):\n",
    "        # Instance variable\n",
    "        self.name = name\n",
    "        self.age = age\n",
    "        self.roll_number = roll_number\n",
    "      \n",
    "\n",
    "    # instance method access instance variable\n",
    "    def show(self):\n",
    "        print('Name:', self.name, 'Age:', self.age, 'Roll Number:', self.roll_number)\n",
    "\n",
    "    # instance method to modify instance variable\n",
    "    def update(self, name, age, roll_number):\n",
    "        self.name = name\n",
    "        self.age = age\n",
    "        self.roll_number = roll_number\n",
    "        \n",
    "\n",
    "# create object\n",
    "print('class VIII')\n",
    "stud = Student(\"Zikra\",14,1)\n",
    "# call instance method\n",
    "stud.show()\n",
    "\n",
    "# Modify instance variables\n",
    "print('class IX')\n",
    "stud.update(\"misba\",13,2)\n",
    "stud.show()\n",
    "\n",
    "print('class IIX')\n",
    "stud.update(\"afreen\", 12, 3)\n",
    "stud.show()\n"
   ]
  },
  {
   "cell_type": "markdown",
   "id": "5b8d1683",
   "metadata": {},
   "source": [
    "# Create Instance Variables in Instance Method:"
   ]
  },
  {
   "cell_type": "code",
   "execution_count": 22,
   "id": "86f00bf7",
   "metadata": {},
   "outputs": [
    {
     "name": "stdout",
     "output_type": "stream",
     "text": [
      "Roll Number: 20 Name: Emma Age: 14 Marks: 75\n"
     ]
    }
   ],
   "source": [
    "class Student:\n",
    "    def __init__(self, roll_no, name, age):\n",
    "        # Instance variable\n",
    "        self.roll_no = roll_no\n",
    "        self.name = name\n",
    "        self.age = age\n",
    "\n",
    "    # instance method to add instance variable\n",
    "    def add_marks(self, marks):\n",
    "        # add new attribute to current object\n",
    "        self.marks = marks\n",
    "\n",
    "# create object\n",
    "stud = Student(20, \"Emma\", 14)\n",
    "# call instance method\n",
    "stud.add_marks(75)\n",
    "\n",
    "# display object\n",
    "print('Roll Number:', stud.roll_no, 'Name:', stud.name, 'Age:', stud.age, 'Marks:', stud.marks)"
   ]
  },
  {
   "cell_type": "markdown",
   "id": "b9cdde56",
   "metadata": {},
   "source": [
    "# Dynamically Add Instance Method to a Object"
   ]
  },
  {
   "cell_type": "code",
   "execution_count": null,
   "id": "e2e12b9b",
   "metadata": {},
   "outputs": [],
   "source": [
    "import types\n",
    "\n",
    "class Student:\n",
    "    # constructor\n",
    "    def __init__(self, name, age):\n",
    "        self.name = name\n",
    "        self.age = age\n",
    "\n",
    "    # instance method\n",
    "    def show(self):\n",
    "        print('Name:', self.name, 'Age:', self.age)\n",
    "\n",
    "# create new method\n",
    "def welcome(self):\n",
    "    print(\"Hello\", self.name, \"Welcome to Class IX\")\n",
    "\n",
    "\n",
    "# create object\n",
    "s1 = Student(\"Jessa\", 15)\n",
    "\n",
    "# Add instance method to object\n",
    "s1.welcome = types.MethodType(welcome, s1)\n",
    "s1.show()\n",
    "\n",
    "# call newly added method\n",
    "s1.welcome()"
   ]
  },
  {
   "cell_type": "markdown",
   "id": "6007074b",
   "metadata": {},
   "source": [
    "# Dynamically Delete Instance Methods:\n",
    "# By using del operator __del__:\n",
    "\n",
    "# By using delattr() method"
   ]
  },
  {
   "cell_type": "code",
   "execution_count": null,
   "id": "1f9f3a4d",
   "metadata": {},
   "outputs": [],
   "source": [
    "emma = Student('Emma', 14)\n",
    "emma.show()\n",
    "emma.percentage(67, 62)\n",
    "\n",
    "# delete instance method percentage() using delattr()\n",
    "delattr(emma, 'percentage')\n",
    "emma.show()\n",
    "\n",
    "# Again calling percentage() method\n",
    "# It will raise error\n",
    "emma.percentage(67, 62)"
   ]
  },
  {
   "cell_type": "code",
   "execution_count": 16,
   "id": "4fd6764f",
   "metadata": {},
   "outputs": [
    {
     "name": "stdout",
     "output_type": "stream",
     "text": [
      " In class D\n",
      "[<class '__main__.C'>, <class '__main__.B'>, <class '__main__.A'>, <class 'object'>]\n"
     ]
    }
   ],
   "source": [
    "class A:\n",
    "    def process(self):\n",
    "        print(\" In class A\")\n",
    "\n",
    "\n",
    "class B:\n",
    "    def prcess(self):\n",
    "        print(\" In class B\")\n",
    "\n",
    "class C(B, A):\n",
    "    def press(self):\n",
    "        print(\" In class C\")\n",
    "        \n",
    "        \n",
    "class D(C, B, A):\n",
    "    def procss(self):\n",
    "        print(\" In class D\")\n",
    "\n",
    "\n",
    "# Creating object of C class\n",
    "C1 = D()\n",
    "C1.procss()\n",
    "print(C.mro())\n"
   ]
  },
  {
   "cell_type": "code",
   "execution_count": 32,
   "id": "26bc948e",
   "metadata": {
    "scrolled": true
   },
   "outputs": [
    {
     "name": "stdout",
     "output_type": "stream",
     "text": [
      "['__class__', '__class_getitem__', '__contains__', '__delattr__', '__delitem__', '__dir__', '__doc__', '__eq__', '__format__', '__ge__', '__getattribute__', '__getitem__', '__gt__', '__hash__', '__init__', '__init_subclass__', '__ior__', '__iter__', '__le__', '__len__', '__lt__', '__ne__', '__new__', '__or__', '__reduce__', '__reduce_ex__', '__repr__', '__reversed__', '__ror__', '__setattr__', '__setitem__', '__sizeof__', '__str__', '__subclasshook__', 'clear', 'copy', 'fromkeys', 'get', 'items', 'keys', 'pop', 'popitem', 'setdefault', 'update', 'values']\n"
     ]
    }
   ],
   "source": [
    "dct=dict\n",
    "print(dir(dct))"
   ]
  },
  {
   "cell_type": "markdown",
   "id": "94510d84",
   "metadata": {},
   "source": [
    "# ITERATOR:"
   ]
  },
  {
   "cell_type": "code",
   "execution_count": 31,
   "id": "b70969e2",
   "metadata": {},
   "outputs": [
    {
     "name": "stdout",
     "output_type": "stream",
     "text": [
      "a\n",
      "f\n",
      "r\n",
      "e\n",
      "e\n",
      "n\n"
     ]
    }
   ],
   "source": [
    "a=iter(\"afreen\")\n",
    "print(next(a))\n",
    "print(next(a))\n",
    "print(next(a))\n",
    "print(next(a))\n",
    "print(next(a))\n",
    "print(next(a))"
   ]
  },
  {
   "cell_type": "markdown",
   "id": "15fbbee4",
   "metadata": {},
   "source": [
    "# generator:"
   ]
  },
  {
   "cell_type": "code",
   "execution_count": 20,
   "id": "e3d2abfb",
   "metadata": {},
   "outputs": [
    {
     "name": "stdout",
     "output_type": "stream",
     "text": [
      "1\n",
      "4\n",
      "9\n",
      "16\n",
      "25\n",
      "36\n",
      "49\n",
      "64\n",
      "81\n",
      "100\n"
     ]
    }
   ],
   "source": [
    "def square():\n",
    "    i = 1\n",
    "    while True:\n",
    "        yield i * i\n",
    "        i = i + 1\n",
    "for num in square():\n",
    "    if num > 100:\n",
    "        break\n",
    "    print(num)    "
   ]
  },
  {
   "cell_type": "code",
   "execution_count": null,
   "id": "8620fe22",
   "metadata": {},
   "outputs": [],
   "source": [
    "def multi():\n",
    "    i = 1\n",
    "    while True:\n",
    "        yield i + i\n",
    "        i = i + 1\n",
    "for num in multi():\n",
    "    if num > 50:\n",
    "        break\n",
    "    print(num)   "
   ]
  },
  {
   "cell_type": "markdown",
   "id": "2bdde898",
   "metadata": {},
   "source": [
    "# Reduce function:"
   ]
  },
  {
   "cell_type": "code",
   "execution_count": null,
   "id": "8c798713",
   "metadata": {},
   "outputs": [],
   "source": [
    "from  functools import reduce \n",
    "    \n",
    "def sum_num(a, b):\n",
    "    return a*b\n",
    "lit = reduce(sum_num, [1,2,3,4])\n",
    "print(lit)"
   ]
  },
  {
   "cell_type": "markdown",
   "id": "59fbe982",
   "metadata": {},
   "source": [
    "# Filter function:"
   ]
  },
  {
   "cell_type": "code",
   "execution_count": 65,
   "id": "a7bcbfb2",
   "metadata": {},
   "outputs": [
    {
     "name": "stdout",
     "output_type": "stream",
     "text": [
      "[3, 44, 5, 6]\n"
     ]
    }
   ],
   "source": [
    "def greater_than_2(n):\n",
    "    if n>2:\n",
    "        return True\n",
    "    else:\n",
    "        return False\n",
    "h1 = [1,2,3,44,5,6,-4,-5,-6]\n",
    "greater_th_2 = list(filter(greater_than_2, h1))\n",
    "print(greater_th_2)"
   ]
  },
  {
   "cell_type": "markdown",
   "id": "5d15b070",
   "metadata": {},
   "source": [
    "# without map function:"
   ]
  },
  {
   "cell_type": "code",
   "execution_count": 67,
   "id": "22831a89",
   "metadata": {},
   "outputs": [
    {
     "name": "stdout",
     "output_type": "stream",
     "text": [
      "[1, 4, 16, 25, 49]\n"
     ]
    }
   ],
   "source": [
    "h1 = [1,2,4,5,7]\n",
    "sq = []\n",
    "for item in h1:\n",
    "    sq.append(item**2)\n",
    "print((sq))\n"
   ]
  },
  {
   "cell_type": "code",
   "execution_count": 14,
   "id": "b8fc169d",
   "metadata": {},
   "outputs": [
    {
     "name": "stdout",
     "output_type": "stream",
     "text": [
      "[3, 4, 6, 7, 9]\n"
     ]
    }
   ],
   "source": [
    "h1 = [1,2,4,5,7]\n",
    "sq = []\n",
    "for item in h1:\n",
    "    sq.append(item+2)\n",
    "print((sq))\n"
   ]
  },
  {
   "cell_type": "markdown",
   "id": "54d40bd4",
   "metadata": {},
   "source": [
    "# with map function:"
   ]
  },
  {
   "cell_type": "code",
   "execution_count": 68,
   "id": "69abf2a6",
   "metadata": {},
   "outputs": [
    {
     "name": "stdout",
     "output_type": "stream",
     "text": [
      "[1, 4, 16, 25, 49]\n"
     ]
    }
   ],
   "source": [
    "def square(n):\n",
    "    return n**2\n",
    "h1 = [1,2,4,5,7]\n",
    "sq = list(map(square, h1))\n",
    "print(sq)"
   ]
  },
  {
   "cell_type": "markdown",
   "id": "0d278f48",
   "metadata": {},
   "source": [
    "# Enumerate:"
   ]
  },
  {
   "cell_type": "code",
   "execution_count": 73,
   "id": "fc561650",
   "metadata": {},
   "outputs": [
    {
     "name": "stdout",
     "output_type": "stream",
     "text": [
      "CodeItUp\n"
     ]
    }
   ],
   "source": [
    "a = [\"CodeWithAfreen\", \"CodeWithHarry\", \"CodeItUp\", \"T Series\", \"Zee Tv\"]\n",
    "   \n",
    "for i, item in enumerate(a):\n",
    "    if (i+1) %3==0:\n",
    "        print(item)\n"
   ]
  },
  {
   "cell_type": "code",
   "execution_count": 8,
   "id": "f7c628a5",
   "metadata": {},
   "outputs": [
    {
     "name": "stdout",
     "output_type": "stream",
     "text": [
      "[(0, 'Python'), (1, 'Javascript'), (2, 'Html'), (3, 'Css')]\n"
     ]
    }
   ],
   "source": [
    "language = [\"Python\", \"Javascript\", \"Html\", \"Css\"]\n",
    "a = enumerate(language)\n",
    "print(list(a))"
   ]
  },
  {
   "cell_type": "markdown",
   "id": "21412ce0",
   "metadata": {},
   "source": [
    "# join function:"
   ]
  },
  {
   "cell_type": "code",
   "execution_count": 74,
   "id": "885b0fbc",
   "metadata": {},
   "outputs": [
    {
     "name": "stdout",
     "output_type": "stream",
     "text": [
      "CodeWithAfreen and CodeWithHarry and CodeItUp and T Series and Zee Tv\n"
     ]
    }
   ],
   "source": [
    "a = [\"CodeWithAfreen\", \"CodeWithHarry\", \"CodeItUp\", \"T Series\", \"Zee Tv\"]\n",
    "\n",
    "print(\" and \".join(a))\n",
    "\n"
   ]
  },
  {
   "cell_type": "code",
   "execution_count": 12,
   "id": "a8d1bda4",
   "metadata": {},
   "outputs": [
    {
     "name": "stdout",
     "output_type": "stream",
     "text": [
      "['CodeWithAfreen', 'CodeWithHarry', 'CodeItUp', 'T Series', 'Zee Tv', 'CodeWithAfreen', 'CodeWithHarry', 'CodeItUp', 'T Series', 'Zee Tv']\n"
     ]
    }
   ],
   "source": [
    "a = [\"CodeWithAfreen\", \"CodeWithHarry\", \"CodeItUp\", \"T Series\", \"Zee Tv\"]\n",
    "b = [\"CodeWithAfreen\", \"CodeWithHarry\", \"CodeItUp\", \"T Series\", \"Zee Tv\"]\n",
    "\n",
    "print(  b)"
   ]
  },
  {
   "cell_type": "markdown",
   "id": "9337986c",
   "metadata": {},
   "source": [
    "# Lamda function:"
   ]
  },
  {
   "cell_type": "code",
   "execution_count": 79,
   "id": "4d836d4c",
   "metadata": {},
   "outputs": [
    {
     "name": "stdout",
     "output_type": "stream",
     "text": [
      "14\n"
     ]
    }
   ],
   "source": [
    "# syntex:\n",
    "#     lambda argument : manipulate(argument)\n",
    "    \n",
    "    \n",
    "def add(a,b):\n",
    "    s = a+b\n",
    "    return s\n",
    "print(add(12,2))"
   ]
  },
  {
   "cell_type": "markdown",
   "id": "92362662",
   "metadata": {},
   "source": [
    "# by using lambda:"
   ]
  },
  {
   "cell_type": "code",
   "execution_count": 80,
   "id": "af49486f",
   "metadata": {},
   "outputs": [
    {
     "name": "stdout",
     "output_type": "stream",
     "text": [
      "24\n"
     ]
    }
   ],
   "source": [
    "add = lambda x,y:x+y\n",
    "print(add(12,12))"
   ]
  },
  {
   "cell_type": "markdown",
   "id": "1780b4bf",
   "metadata": {},
   "source": [
    "how to used lamda function in list of tuple sorting"
   ]
  },
  {
   "cell_type": "code",
   "execution_count": 9,
   "id": "c8f796ee",
   "metadata": {},
   "outputs": [
    {
     "name": "stdout",
     "output_type": "stream",
     "text": [
      "[(1, 2), (3, 4), (87, 76)]\n"
     ]
    }
   ],
   "source": [
    "a = [(1,2), (3,4),(87,76)]\n",
    "a.sort(key=lambda x:x[1])\n",
    "print(a)"
   ]
  },
  {
   "cell_type": "markdown",
   "id": "bfae1165",
   "metadata": {},
   "source": [
    "# Bisect module;"
   ]
  },
  {
   "cell_type": "code",
   "execution_count": 88,
   "id": "b684fca9",
   "metadata": {},
   "outputs": [
    {
     "name": "stdout",
     "output_type": "stream",
     "text": [
      "4\n",
      "[1, 2, 3, 4, 5, 6, 7, 88, 9]\n"
     ]
    }
   ],
   "source": [
    "import bisect\n",
    "\n",
    "number = 5\n",
    "a = [1,2,3,4,6,7,88,9]             #Bisect index batata hai\n",
    "print(bisect.bisect(a, number))  # insort actually number ko dd karta hai \n",
    "bisect.insort(a, number)\n",
    "print(a)"
   ]
  },
  {
   "cell_type": "code",
   "execution_count": 3,
   "id": "1c3fad43",
   "metadata": {
    "scrolled": true
   },
   "outputs": [
    {
     "name": "stdout",
     "output_type": "stream",
     "text": [
      "1\n",
      "[21, 23, 34, 54, 67, 43]\n"
     ]
    }
   ],
   "source": [
    "import bisect \n",
    "\n",
    "num = 23\n",
    "a = [21, 34,54, 67,43]\n",
    "print(bisect.bisect(a, num))  # insort actually number ko dd karta hai \n",
    "bisect.insort(a, num)\n",
    "print(a)\n"
   ]
  },
  {
   "cell_type": "code",
   "execution_count": null,
   "id": "c346efba",
   "metadata": {},
   "outputs": [],
   "source": []
  },
  {
   "cell_type": "markdown",
   "id": "d570e20c",
   "metadata": {},
   "source": [
    "# zip fuction:"
   ]
  },
  {
   "cell_type": "code",
   "execution_count": 1,
   "id": "3977bd27",
   "metadata": {},
   "outputs": [
    {
     "name": "stdout",
     "output_type": "stream",
     "text": [
      "{'Afreen': 'user1', 'Zikra': 'user2', 'Misbah': 'user3'}\n"
     ]
    }
   ],
   "source": [
    "name = [\"Afreen\", \"Zikra\", \"Misbah\"]\n",
    "password = [\"user1\", \"user2\", \"user3\"]\n",
    "\n",
    "print(dict(zip(name,password)))"
   ]
  },
  {
   "cell_type": "code",
   "execution_count": 97,
   "id": "2cab69e3",
   "metadata": {},
   "outputs": [
    {
     "name": "stdout",
     "output_type": "stream",
     "text": [
      "[('Afreen', 'user1', 'manihar'), ('Zikra', 'user2', 'khan')]\n"
     ]
    }
   ],
   "source": [
    "name = [\"Afreen\", \"Zikra\", \"Misbah\"]\n",
    "surname = [\"manihar\", \"khan\", \"khan\"]\n",
    "password = [\"user1\", \"user2\"]\n",
    "\n",
    "print(list(zip(name,password,surname)))"
   ]
  },
  {
   "cell_type": "markdown",
   "id": "8e932d8c",
   "metadata": {},
   "source": [
    "list of tuple covert in dict:"
   ]
  },
  {
   "cell_type": "code",
   "execution_count": 94,
   "id": "c787c831",
   "metadata": {},
   "outputs": [
    {
     "name": "stdout",
     "output_type": "stream",
     "text": [
      "{'a': 1, 'b': 2}\n"
     ]
    }
   ],
   "source": [
    "example = [(\"a\", 1), (\"b\", 2)]\n",
    "print(dict(example))"
   ]
  }
 ],
 "metadata": {
  "kernelspec": {
   "display_name": "Python 3 (ipykernel)",
   "language": "python",
   "name": "python3"
  },
  "language_info": {
   "codemirror_mode": {
    "name": "ipython",
    "version": 3
   },
   "file_extension": ".py",
   "mimetype": "text/x-python",
   "name": "python",
   "nbconvert_exporter": "python",
   "pygments_lexer": "ipython3",
   "version": "3.10.7"
  }
 },
 "nbformat": 4,
 "nbformat_minor": 5
}
