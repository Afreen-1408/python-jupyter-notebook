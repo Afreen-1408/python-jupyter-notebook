{
 "cells": [
  {
   "cell_type": "markdown",
   "id": "e7452cd7",
   "metadata": {},
   "source": [
    "# strings questions"
   ]
  },
  {
   "cell_type": "markdown",
   "id": "c69d357d",
   "metadata": {},
   "source": [
    "1.To check whether a given string is a palindrome."
   ]
  },
  {
   "cell_type": "code",
   "execution_count": 3,
   "id": "f8cf1f72",
   "metadata": {},
   "outputs": [
    {
     "name": "stdout",
     "output_type": "stream",
     "text": [
      "enter the value : 121\n",
      "yes it is palindrome\n"
     ]
    }
   ],
   "source": [
    "s = input(\"enter the value : \")\n",
    "reverse = s[::-1]\n",
    "if(s == reverse ):\n",
    "     print(\"yes it is palindrome\")\n",
    "else:\n",
    "    print(\"no it is not palindrome\")"
   ]
  },
  {
   "cell_type": "markdown",
   "id": "80176877",
   "metadata": {},
   "source": [
    "2.To capitalize the first character in a given sentence.\n"
   ]
  },
  {
   "cell_type": "code",
   "execution_count": 4,
   "id": "5bee22f3",
   "metadata": {},
   "outputs": [
    {
     "name": "stdout",
     "output_type": "stream",
     "text": [
      "Hello World\n"
     ]
    }
   ],
   "source": [
    "a=\"hello world\"\n",
    "x=a.title()\n",
    "print(x)"
   ]
  },
  {
   "cell_type": "markdown",
   "id": "dfb4f193",
   "metadata": {},
   "source": [
    "3.Program to convert String to a List.\n"
   ]
  },
  {
   "cell_type": "code",
   "execution_count": 5,
   "id": "e229186c",
   "metadata": {},
   "outputs": [
    {
     "name": "stdout",
     "output_type": "stream",
     "text": [
      "enter the valuehello my youtube family\n",
      "['hello', 'my', 'youtube', 'family']\n"
     ]
    }
   ],
   "source": [
    "n= input(\"enter the value\")\n",
    "l= n.split();\n",
    "print(l)"
   ]
  },
  {
   "cell_type": "markdown",
   "id": "755a6a11",
   "metadata": {},
   "source": [
    "4.To sort alphabetically the words in a given sentence.\n"
   ]
  },
  {
   "cell_type": "code",
   "execution_count": 1,
   "id": "3d0f0965",
   "metadata": {},
   "outputs": [
    {
     "name": "stdout",
     "output_type": "stream",
     "text": [
      "enter a string:pineapple mango banana cherry blueberry cranberry apple star\n",
      "my word:\n",
      "apple\n",
      "banana\n",
      "blueberry\n",
      "cherry\n",
      "cranberry\n",
      "mango\n",
      "pineapple\n",
      "star\n"
     ]
    }
   ],
   "source": [
    "str= input(\"enter a string:\")\n",
    "word = [word.lower() for word in str.split()]\n",
    "word.sort()\n",
    "print(\"my word:\")\n",
    "for words in word:\n",
    "    print(words)"
   ]
  },
  {
   "cell_type": "markdown",
   "id": "bd703af8",
   "metadata": {},
   "source": [
    "5. To demonstrate any 10 function(method) of string class."
   ]
  },
  {
   "cell_type": "code",
   "execution_count": 6,
   "id": "94bb6093",
   "metadata": {
    "scrolled": true
   },
   "outputs": [
    {
     "name": "stdout",
     "output_type": "stream",
     "text": [
      "HELLO WORLD MY NAME IS HARRY\n",
      "hello world my name is harry\n",
      "hello world my name is afreen\n",
      "Hello world my name is harry\n",
      "Hello World My Name Is Harry\n",
      "hello world my name is harry\n",
      "['1,2,3,4,5,6,7,8']\n",
      "28\n",
      "3\n",
      "8\n",
      "9\n",
      "True\n",
      "6\n"
     ]
    }
   ],
   "source": [
    "a=\"hello world my name is harry\"\n",
    "print(a.upper())\n",
    "print(a.lower())\n",
    "print(a.replace(\"harry\",\"afreen\"))\n",
    "print(a.capitalize())\n",
    "print(a.title())\n",
    "print(a.strip())\n",
    "num=\"1,2,3,4,5,6,7,8\"\n",
    "print(num.split())\n",
    "print(len(a))\n",
    "print(a.count(\"l\"))\n",
    "print(a.find(\"r\"))\n",
    "print(a.rfind(\"l\"))\n",
    "x = \"harry is a good boy\"\n",
    "print(x.endswith(\"boy\"))\n",
    "print(x.find(\"is\"))\n",
    "   "
   ]
  },
  {
   "cell_type": "markdown",
   "id": "4ac8d6b2",
   "metadata": {},
   "source": [
    "6. To demonstrate string slice\n"
   ]
  },
  {
   "cell_type": "code",
   "execution_count": 12,
   "id": "1db41047",
   "metadata": {},
   "outputs": [
    {
     "name": "stdout",
     "output_type": "stream",
     "text": [
      "llo \n",
      "Hello\n",
      "lo World\n",
      " Wor\n"
     ]
    }
   ],
   "source": [
    "a= \"Hello World\"\n",
    "print(a[2:6])\n",
    "print(a[:5])\n",
    "print(a[3:])\n",
    "print(a[-6:-2])    "
   ]
  },
  {
   "cell_type": "markdown",
   "id": "b14cdece",
   "metadata": {},
   "source": [
    "7. To check substring is Present in a Given String\n"
   ]
  },
  {
   "cell_type": "code",
   "execution_count": 16,
   "id": "185fd984",
   "metadata": {},
   "outputs": [
    {
     "name": "stdout",
     "output_type": "stream",
     "text": [
      "substring found at index :  11\n"
     ]
    }
   ],
   "source": [
    "string = \"my name is zikra\"\n",
    "substring = \"zikra\"\n",
    "\n",
    "def SearchString(substring):\n",
    "    result = string.find(substring)\n",
    "    if(result == -1):\n",
    "        print(\"Given substring not found.\")\n",
    "    else:\n",
    "        print(\"substring found at index : \", result)\n",
    "\n",
    "SearchString(substring)"
   ]
  },
  {
   "cell_type": "markdown",
   "id": "7517232c",
   "metadata": {},
   "source": [
    "# PYnative Question:"
   ]
  },
  {
   "cell_type": "markdown",
   "id": "6110423d",
   "metadata": {},
   "source": [
    " 8.minhaj Question"
   ]
  },
  {
   "cell_type": "code",
   "execution_count": 15,
   "id": "4c3e8b2b",
   "metadata": {},
   "outputs": [
    {
     "name": "stdout",
     "output_type": "stream",
     "text": [
      "mtwtfss\n"
     ]
    }
   ],
   "source": [
    "days = \"mon, tue, wed, thu, fri, sat, sun\"\n",
    "print(days[::5])\n",
    "\n",
    "\n",
    "#(A)mon tue wed thu fri sat sun\n",
    "#(B)fri\n",
    "#(C)T\n",
    "#(D)mtwtfss"
   ]
  },
  {
   "cell_type": "code",
   "execution_count": 2,
   "id": "913d62ec",
   "metadata": {},
   "outputs": [
    {
     "name": "stdout",
     "output_type": "stream",
     "text": [
      "enter the number22\n",
      "enter the number22\n",
      "44\n"
     ]
    }
   ],
   "source": [
    "a = int(input(\"enter the number\"))\n",
    "b = int(input(\"enter the number\"))\n",
    "c = a + b\n",
    "print(c)"
   ]
  },
  {
   "cell_type": "markdown",
   "id": "3c9523de",
   "metadata": {},
   "source": [
    "100.function def using "
   ]
  },
  {
   "cell_type": "code",
   "execution_count": 12,
   "id": "c5d67cb9",
   "metadata": {},
   "outputs": [
    {
     "name": "stdout",
     "output_type": "stream",
     "text": [
      "9\n",
      "10\n",
      "-1\n",
      "3\n"
     ]
    }
   ],
   "source": [
    "def add(a,b):\n",
    "    c=a+b\n",
    "    print(c)\n",
    "add(4,5)\n",
    "add(3,7) \n",
    "\n",
    "def sub(a,b):\n",
    "    c=a-b\n",
    "    print(c)\n",
    "sub(3,4) \n",
    "sub(5,2)\n",
    "    "
   ]
  },
  {
   "cell_type": "markdown",
   "id": "e619f125",
   "metadata": {},
   "source": [
    "user input function operator"
   ]
  },
  {
   "cell_type": "code",
   "execution_count": 29,
   "id": "f824bc8b",
   "metadata": {},
   "outputs": [
    {
     "name": "stdout",
     "output_type": "stream",
     "text": [
      "enter the number:4\n",
      "4 * 1 = 4\n",
      "4 * 2 = 8\n",
      "4 * 3 = 12\n",
      "4 * 4 = 16\n",
      "4 * 5 = 20\n",
      "4 * 6 = 24\n",
      "4 * 7 = 28\n",
      "4 * 8 = 32\n",
      "4 * 9 = 36\n",
      "4 * 10 = 40\n"
     ]
    }
   ],
   "source": [
    "def multi():\n",
    "    a=int(input(\"enter the number:\"))\n",
    "    for i in range(1,11):\n",
    "        b=a*i\n",
    "        print(a,\"*\",i,\"=\",b) \n",
    "        \n",
    "multi() \n"
   ]
  },
  {
   "cell_type": "markdown",
   "id": "d3a26e49",
   "metadata": {},
   "source": [
    "loop division "
   ]
  },
  {
   "cell_type": "code",
   "execution_count": 30,
   "id": "1f7250a2",
   "metadata": {},
   "outputs": [
    {
     "name": "stdout",
     "output_type": "stream",
     "text": [
      "2 * 1 = 2\n",
      "2 * 2 = 4\n",
      "2 * 3 = 6\n",
      "2 * 4 = 8\n",
      "2 * 5 = 10\n",
      "2 * 6 = 12\n",
      "2 * 7 = 14\n",
      "2 * 8 = 16\n",
      "2 * 9 = 18\n",
      "2 * 10 = 20\n"
     ]
    }
   ],
   "source": [
    "for i in range(1,11):\n",
    "    b=2*i\n",
    "    print(\"2\",\"*\",i,\"=\",b)\n",
    "    "
   ]
  },
  {
   "cell_type": "code",
   "execution_count": 36,
   "id": "8d8458b3",
   "metadata": {},
   "outputs": [
    {
     "name": "stdout",
     "output_type": "stream",
     "text": [
      "6\n",
      "12\n",
      "18\n",
      "24\n",
      "30\n",
      "36\n",
      "42\n",
      "48\n",
      "54\n",
      "60\n"
     ]
    }
   ],
   "source": [
    "def multi(a):\n",
    "    for i in range(1,11):\n",
    "        b=a*i\n",
    "        print(b)\n",
    "multi(6)        "
   ]
  },
  {
   "cell_type": "markdown",
   "id": "71822564",
   "metadata": {},
   "source": [
    "floor division by using function"
   ]
  },
  {
   "cell_type": "code",
   "execution_count": 50,
   "id": "098e8a1d",
   "metadata": {},
   "outputs": [
    {
     "name": "stdout",
     "output_type": "stream",
     "text": [
      "4 / 1 = 4\n",
      "4 / 2 = 2\n",
      "4 / 3 = 1\n",
      "4 / 4 = 1\n",
      "4 / 5 = 0\n",
      "4 / 6 = 0\n",
      "4 / 7 = 0\n",
      "4 / 8 = 0\n",
      "4 / 9 = 0\n",
      "4 / 10 = 0\n"
     ]
    }
   ],
   "source": [
    "def divi(a):\n",
    "    for i  in range(1,11):\n",
    "        b=a//i\n",
    "        print(a,'/',i,'=',b)\n",
    "divi(4)        "
   ]
  },
  {
   "cell_type": "markdown",
   "id": "c4ca5741",
   "metadata": {},
   "source": [
    "factorial by using function"
   ]
  },
  {
   "cell_type": "code",
   "execution_count": 62,
   "id": "877a07c0",
   "metadata": {},
   "outputs": [
    {
     "name": "stdout",
     "output_type": "stream",
     "text": [
      "5\n",
      "20\n",
      "60\n",
      "120\n",
      "120\n"
     ]
    }
   ],
   "source": [
    "def factorial(i):\n",
    "    fac=1\n",
    "    while(i>0):\n",
    "        fac=fac*i\n",
    "        i=i-1\n",
    "        print(fac)\n",
    "\n",
    "factorial(5)\n",
    "    \n",
    "    \n",
    "    "
   ]
  },
  {
   "cell_type": "markdown",
   "id": "fce768f7",
   "metadata": {},
   "source": [
    "user input factiroial function"
   ]
  },
  {
   "cell_type": "code",
   "execution_count": 65,
   "id": "fa18a812",
   "metadata": {},
   "outputs": [
    {
     "name": "stdout",
     "output_type": "stream",
     "text": [
      "enter the number:8\n",
      "8\n",
      "56\n",
      "336\n",
      "1680\n",
      "6720\n",
      "20160\n",
      "40320\n",
      "40320\n"
     ]
    }
   ],
   "source": [
    "def factorial():\n",
    "    i=int(input(\"enter the number:\"))\n",
    "    fac=1\n",
    "    while(i>0):\n",
    "        fac=fac*i\n",
    "        i=i-1\n",
    "        print(fac)\n",
    "\n",
    "factorial()\n",
    "    "
   ]
  },
  {
   "cell_type": "code",
   "execution_count": 6,
   "id": "463383b6",
   "metadata": {},
   "outputs": [
    {
     "name": "stdout",
     "output_type": "stream",
     "text": [
      "enter no3\n",
      "0\n",
      "1\n",
      "4\n"
     ]
    }
   ],
   "source": [
    " n = int(input(\"enter no\"))\n",
    "for i in range(n):\n",
    "    c = i*i\n",
    "    print(c)\n",
    "\n",
    "    "
   ]
  },
  {
   "cell_type": "code",
   "execution_count": 5,
   "id": "62589e74",
   "metadata": {},
   "outputs": [
    {
     "name": "stdout",
     "output_type": "stream",
     "text": [
      "enter the year:2014\n",
      "false\n"
     ]
    }
   ],
   "source": [
    "a = int(input(\"enter the year:\"))\n",
    "if a % 4 == 0:\n",
    "    print(\"true\")\n",
    "else:\n",
    "    print(\"false\")\n",
    "    "
   ]
  },
  {
   "cell_type": "code",
   "execution_count": null,
   "id": "446dc6d3",
   "metadata": {},
   "outputs": [],
   "source": [
    "a = \"chris alan\"\n",
    "print(a.title())"
   ]
  },
  {
   "cell_type": "code",
   "execution_count": null,
   "id": "442f670a",
   "metadata": {},
   "outputs": [],
   "source": []
  },
  {
   "cell_type": "code",
   "execution_count": null,
   "id": "73273d30",
   "metadata": {},
   "outputs": [],
   "source": []
  },
  {
   "cell_type": "code",
   "execution_count": null,
   "id": "ddcc49b4",
   "metadata": {},
   "outputs": [],
   "source": []
  },
  {
   "cell_type": "code",
   "execution_count": null,
   "id": "396e9274",
   "metadata": {},
   "outputs": [],
   "source": []
  },
  {
   "cell_type": "code",
   "execution_count": null,
   "id": "471f422b",
   "metadata": {},
   "outputs": [],
   "source": []
  },
  {
   "cell_type": "code",
   "execution_count": null,
   "id": "d3620724",
   "metadata": {},
   "outputs": [],
   "source": []
  }
 ],
 "metadata": {
  "kernelspec": {
   "display_name": "Python 3 (ipykernel)",
   "language": "python",
   "name": "python3"
  },
  "language_info": {
   "codemirror_mode": {
    "name": "ipython",
    "version": 3
   },
   "file_extension": ".py",
   "mimetype": "text/x-python",
   "name": "python",
   "nbconvert_exporter": "python",
   "pygments_lexer": "ipython3",
   "version": "3.10.6"
  }
 },
 "nbformat": 4,
 "nbformat_minor": 5
}
