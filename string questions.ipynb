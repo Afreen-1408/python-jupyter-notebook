{
 "cells": [
  {
   "cell_type": "markdown",
   "id": "e7452cd7",
   "metadata": {},
   "source": [
    "# strings questions"
   ]
  },
  {
   "cell_type": "markdown",
   "id": "c69d357d",
   "metadata": {},
   "source": [
    "# 1.To check whether a given string is a palindrome."
   ]
  },
  {
   "cell_type": "code",
   "execution_count": 89,
   "id": "f8cf1f72",
   "metadata": {},
   "outputs": [
    {
     "name": "stdout",
     "output_type": "stream",
     "text": [
      "enter the value : madam\n",
      "madam\n",
      "yes it is palindrome\n"
     ]
    }
   ],
   "source": [
    "s = input(\"enter the value : \")\n",
    "b = reverse = s[::-1]\n",
    "print(b)\n",
    "if(s == reverse ):\n",
    "     print(\"yes it is palindrome\")\n",
    "else:\n",
    "    print(\"no it is not palindrome\")"
   ]
  },
  {
   "cell_type": "markdown",
   "id": "80176877",
   "metadata": {},
   "source": [
    "# 2.To capitalize the first character in a given sentence.\n"
   ]
  },
  {
   "cell_type": "code",
   "execution_count": 4,
   "id": "5bee22f3",
   "metadata": {},
   "outputs": [
    {
     "name": "stdout",
     "output_type": "stream",
     "text": [
      "Hello World\n"
     ]
    }
   ],
   "source": [
    "a=\"hello world\"\n",
    "x=a.title()\n",
    "print(x)"
   ]
  },
  {
   "cell_type": "markdown",
   "id": "dfb4f193",
   "metadata": {},
   "source": [
    "# 3.Program to convert String to a List.\n"
   ]
  },
  {
   "cell_type": "code",
   "execution_count": 36,
   "id": "e229186c",
   "metadata": {},
   "outputs": [
    {
     "name": "stdout",
     "output_type": "stream",
     "text": [
      "enter the valueafreen\n",
      "['afreen']\n"
     ]
    }
   ],
   "source": [
    "n= input(\"enter the value\")\n",
    "l= n.split();\n",
    "print(l)"
   ]
  },
  {
   "cell_type": "markdown",
   "id": "755a6a11",
   "metadata": {},
   "source": [
    "# 4.To sort alphabetically the words in a given sentence.\n"
   ]
  },
  {
   "cell_type": "code",
   "execution_count": 2,
   "id": "3d0f0965",
   "metadata": {},
   "outputs": [
    {
     "name": "stdout",
     "output_type": "stream",
     "text": [
      "enter a string :  misbah afrenn zikra\n",
      "my word:\n",
      "afrenn\n",
      "misbah\n",
      "zikra\n"
     ]
    }
   ],
   "source": [
    "str= input(\"enter a string :  \")\n",
    "word = [word.lower() for word in str.split()]\n",
    "word.sort()\n",
    "print(\"my word:\")\n",
    "for words in word:\n",
    "    print(words)"
   ]
  },
  {
   "cell_type": "markdown",
   "id": "bd703af8",
   "metadata": {},
   "source": [
    "# 5. To demonstrate any 10 function(method) of string class."
   ]
  },
  {
   "cell_type": "code",
   "execution_count": 5,
   "id": "94bb6093",
   "metadata": {
    "scrolled": true
   },
   "outputs": [
    {
     "name": "stdout",
     "output_type": "stream",
     "text": [
      "HELLO WORLD MY NAME IS HARRY\n",
      "hello world my name is harry\n",
      "hello world my name is afreen\n",
      "Hello world my name is harry\n",
      "Hello World My Name Is Harry\n",
      "hello world my name is harry\n",
      "['1,2,3,4,5,6,7,8']\n",
      "28\n",
      "3\n",
      "8\n",
      "9\n",
      "True\n",
      "6\n"
     ]
    }
   ],
   "source": [
    "a=\"hello world my name is harry\"\n",
    "print(a.upper())\n",
    "print(a.lower())\n",
    "print(a.replace(\"harry\",\"afreen\"))\n",
    "print(a.capitalize())\n",
    "print(a.title())\n",
    "print(a.strip())\n",
    "num=\"1,2,3,4,5,6,7,8\"\n",
    "print(num.split())\n",
    "print(len(a))\n",
    "print(a.count(\"l\"))\n",
    "print(a.find(\"r\"))\n",
    "print(a.rfind(\"l\"))\n",
    "x = \"harry is a good boy\"\n",
    "print(x.endswith(\"boy\"))\n",
    "print(x.find(\"is\"))\n",
    "   "
   ]
  },
  {
   "cell_type": "markdown",
   "id": "4ac8d6b2",
   "metadata": {},
   "source": [
    "# 6. To demonstrate string slice\n"
   ]
  },
  {
   "cell_type": "code",
   "execution_count": 12,
   "id": "1db41047",
   "metadata": {},
   "outputs": [
    {
     "name": "stdout",
     "output_type": "stream",
     "text": [
      "llo \n",
      "Hello\n",
      "lo World\n",
      " Wor\n"
     ]
    }
   ],
   "source": [
    "a= \"Hello World\"\n",
    "print(a[2:6])\n",
    "print(a[:5])\n",
    "print(a[3:])\n",
    "print(a[-6:-2])    "
   ]
  },
  {
   "cell_type": "markdown",
   "id": "b14cdece",
   "metadata": {},
   "source": [
    "# 7. To check substring is Present in a Given String\n"
   ]
  },
  {
   "cell_type": "code",
   "execution_count": 12,
   "id": "185fd984",
   "metadata": {},
   "outputs": [
    {
     "name": "stdout",
     "output_type": "stream",
     "text": [
      "substring found at index :  8\n"
     ]
    }
   ],
   "source": [
    "string = \"my name is zikra\"\n",
    "substring = \"is\"\n",
    "def SearchString(substring):\n",
    "    result = string.find(substring)\n",
    "    if(result == -1):\n",
    "        print(\"Given substring not found.\")\n",
    "    else:\n",
    "        print(\"substring found at index : \", result)\n",
    "\n",
    "SearchString(substring)"
   ]
  },
  {
   "cell_type": "markdown",
   "id": "ad4dcfb1",
   "metadata": {},
   "source": [
    "# 1. Select the correct output of the following String operations?"
   ]
  },
  {
   "cell_type": "code",
   "execution_count": 48,
   "id": "d8719de1",
   "metadata": {},
   "outputs": [],
   "source": [
    "strOne = str(\"pynative\")\n",
    "strTwo = \"pynative\"\n",
    "print(strOne == strTwo)\n",
    "print(strOne is strTwo)\n",
    "\n",
    "#  False False\n",
    "#  True True                               Answer  #2 \n",
    "#  True False\n",
    "#  False True"
   ]
  },
  {
   "cell_type": "markdown",
   "id": "21a145e7",
   "metadata": {},
   "source": [
    "# 2. Which method should I use to convert String \n",
    "# \"welcome to the beautiful world of python\" to \"Welcome To The Beautiful World Of Python\"\n"
   ]
  },
  {
   "cell_type": "code",
   "execution_count": null,
   "id": "36fb0c69",
   "metadata": {},
   "outputs": [],
   "source": [
    "capitalize() \n",
    "title()                    #Answer is title()"
   ]
  },
  {
   "cell_type": "code",
   "execution_count": 10,
   "id": "3e7deeff",
   "metadata": {},
   "outputs": [
    {
     "name": "stdout",
     "output_type": "stream",
     "text": [
      "Welcome To The Beautiful World Of Python\n"
     ]
    }
   ],
   "source": [
    "strg = \"welcome to the beautiful world of python\" \n",
    "# output  \"Welcome To The Beautiful World Of Python\"\n",
    "\n",
    "print(strg.title())"
   ]
  },
  {
   "cell_type": "markdown",
   "id": "94fc047a",
   "metadata": {},
   "source": [
    "# 3. Guess the correct output of the following String operations?"
   ]
  },
  {
   "cell_type": "code",
   "execution_count": 11,
   "id": "fe62e546",
   "metadata": {},
   "outputs": [
    {
     "name": "stdout",
     "output_type": "stream",
     "text": [
      "WelcomeWelcome\n"
     ]
    }
   ],
   "source": [
    "str1 = 'Welcome'\n",
    "print(str1*2)"
   ]
  },
  {
   "cell_type": "markdown",
   "id": "37a899ff",
   "metadata": {},
   "source": [
    "# 4. Select the correct output of the following String operations"
   ]
  },
  {
   "cell_type": "code",
   "execution_count": 31,
   "id": "eb31549d",
   "metadata": {},
   "outputs": [
    {
     "name": "stdout",
     "output_type": "stream",
     "text": [
      "6\n"
     ]
    }
   ],
   "source": [
    "str1 = \"my isname isisis jameis isis bond\";\n",
    "sub = \"is\";\n",
    "print(str1.count(sub, 4))      #(str, startwith, endwith) matlb ye str1 me 4 char ke bad se shuru bus or \"is\"\n",
    "                                # is kitne bar bacha ya hai usko count kiye.is liye amswer 6 aya agr ham 4 ki jagah \n",
    "                               # 11 likhe ge toh wo 5 dega ..\n",
    "\n",
    "#  5\n",
    "#  6\n",
    "#  7"
   ]
  },
  {
   "cell_type": "markdown",
   "id": "8a356f03",
   "metadata": {},
   "source": [
    "# 5. Select the correct output of the following string operations"
   ]
  },
  {
   "cell_type": "code",
   "execution_count": 23,
   "id": "80e81321",
   "metadata": {},
   "outputs": [
    {
     "name": "stdout",
     "output_type": "stream",
     "text": [
      "True\n",
      "True\n"
     ]
    }
   ],
   "source": [
    "myString = \"pynative\"\n",
    "stringList = [\"abc\", \"pynative\", \"xyz\"]\n",
    "\n",
    "print(stringList[1] == myString)\n",
    "print(stringList[1] is myString)\n",
    "\n",
    "\n",
    "\n",
    "\n",
    "#  True\n",
    "# False\n",
    "\n",
    "#  True\n",
    "# True\n"
   ]
  },
  {
   "cell_type": "markdown",
   "id": "fb599ccc",
   "metadata": {},
   "source": [
    "# 6. Choose the correct function to get the ASCII code of a character\n"
   ]
  },
  {
   "cell_type": "markdown",
   "id": "68ea8e10",
   "metadata": {},
   "source": [
    "char('char')\n",
    "ord('char')                   #answer\n",
    "ascii('char')"
   ]
  },
  {
   "cell_type": "markdown",
   "id": "2b9efcc4",
   "metadata": {},
   "source": [
    "# 7. Python does not support a character type; \n",
    "#  a single character is treated as strings of length one."
   ]
  },
  {
   "cell_type": "markdown",
   "id": "a0051cbf",
   "metadata": {},
   "source": [
    " False\n",
    "True                   #true"
   ]
  },
  {
   "cell_type": "code",
   "execution_count": 37,
   "id": "672e0b0a",
   "metadata": {},
   "outputs": [
    {
     "name": "stdout",
     "output_type": "stream",
     "text": [
      "1\n"
     ]
    }
   ],
   "source": [
    "x = 'K'\n",
    "print(len(x))"
   ]
  },
  {
   "cell_type": "markdown",
   "id": "fbff11fc",
   "metadata": {},
   "source": [
    "# 8. Strings are immutable in Python, which means a string cannot be modified."
   ]
  },
  {
   "cell_type": "code",
   "execution_count": null,
   "id": "c7744105",
   "metadata": {},
   "outputs": [],
   "source": [
    "#  True              Ans: true\n",
    "#  False"
   ]
  },
  {
   "cell_type": "markdown",
   "id": "e5408e21",
   "metadata": {},
   "source": [
    "# 9. Choose the correct function to get the character from ASCII number"
   ]
  },
  {
   "cell_type": "markdown",
   "id": "63c07a59",
   "metadata": {},
   "source": [
    " ascii(number)\n",
    " char(number)\n",
    " chr(number)     \n",
    " \n",
    "THIS THE ANSWER BECAUSE OF:\n",
    "\n",
    "The chr() function is used to get the character from the ASCII number. Example: print(chr(112)) will print p\n",
    "\n"
   ]
  },
  {
   "cell_type": "code",
   "execution_count": 54,
   "id": "005cae2d",
   "metadata": {},
   "outputs": [
    {
     "name": "stdout",
     "output_type": "stream",
     "text": [
      "p\n"
     ]
    }
   ],
   "source": [
    "print(chr(112))"
   ]
  },
  {
   "cell_type": "markdown",
   "id": "58db247f",
   "metadata": {},
   "source": [
    "# 10. What is the output of the following code?"
   ]
  },
  {
   "cell_type": "code",
   "execution_count": 38,
   "id": "12217ef0",
   "metadata": {},
   "outputs": [
    {
     "name": "stdout",
     "output_type": "stream",
     "text": [
      "False\n",
      "True\n"
     ]
    }
   ],
   "source": [
    "str1 = \"My salary is 7000\";\n",
    "str2 = \"7000\"\n",
    "\n",
    "print(str1.isdigit())\n",
    "print(str2.isdigit())"
   ]
  },
  {
   "cell_type": "markdown",
   "id": "e988becd",
   "metadata": {},
   "source": [
    "# 11. What is the output of the following string comparison?"
   ]
  },
  {
   "cell_type": "code",
   "execution_count": 39,
   "id": "00a4e035",
   "metadata": {},
   "outputs": [
    {
     "name": "stdout",
     "output_type": "stream",
     "text": [
      "True\n",
      "False\n"
     ]
    }
   ],
   "source": [
    "print(\"John\" > \"Jhon\")\n",
    "print(\"Emma\" < \"Emm\")"
   ]
  },
  {
   "cell_type": "markdown",
   "id": "8a63f6ee",
   "metadata": {},
   "source": [
    "# 12. Select the correct output of the following String operations"
   ]
  },
  {
   "cell_type": "code",
   "execution_count": 40,
   "id": "5c1a210a",
   "metadata": {},
   "outputs": [
    {
     "name": "stdout",
     "output_type": "stream",
     "text": [
      "Welcom PYnative\n"
     ]
    }
   ],
   "source": [
    "str1 = 'Welcome'\n",
    "print (str1[:6] + ' PYnative')"
   ]
  },
  {
   "cell_type": "markdown",
   "id": "4121482e",
   "metadata": {},
   "source": [
    "# 13. Guess the correct output of the following code?"
   ]
  },
  {
   "cell_type": "code",
   "execution_count": 41,
   "id": "97378f17",
   "metadata": {},
   "outputs": [
    {
     "name": "stdout",
     "output_type": "stream",
     "text": [
      "Yna PYnat tive PYnativ PYnativ\n"
     ]
    }
   ],
   "source": [
    "str1 = \"PYnative\"\n",
    "print(str1[1:4], str1[:5], str1[4:], str1[0:-1], str1[:-1])"
   ]
  },
  {
   "cell_type": "markdown",
   "id": "b45f293d",
   "metadata": {},
   "source": [
    "# 14. Select the correct output of the following String operations"
   ]
  },
  {
   "cell_type": "code",
   "execution_count": 42,
   "id": "88cb9cf4",
   "metadata": {},
   "outputs": [
    {
     "name": "stdout",
     "output_type": "stream",
     "text": [
      "My name is james bond\n"
     ]
    }
   ],
   "source": [
    "str = \"my name is James bond\";\n",
    "print (str.capitalize())"
   ]
  },
  {
   "cell_type": "markdown",
   "id": "32f478c0",
   "metadata": {},
   "source": [
    "# 15. What is the output of the following string operations"
   ]
  },
  {
   "cell_type": "code",
   "execution_count": 47,
   "id": "e177f0e9",
   "metadata": {},
   "outputs": [
    {
     "name": "stdout",
     "output_type": "stream",
     "text": [
      "False\n",
      "True\n"
     ]
    }
   ],
   "source": [
    "str = \" my salary is 7000\";\n",
    "str1 = \"7000\";\n",
    "print(str.isalnum())                                    # ye dekhe ga ke apka pura string number hai \n",
    "print(str1.isalnum())                                   # uske hisab se true or false lega"
   ]
  },
  {
   "cell_type": "code",
   "execution_count": 15,
   "id": "878e82e4",
   "metadata": {},
   "outputs": [
    {
     "name": "stdout",
     "output_type": "stream",
     "text": [
      "<class 'tuple'>\n"
     ]
    }
   ],
   "source": [
    "x = \"hello\",\n",
    "print(type(x))"
   ]
  },
  {
   "cell_type": "markdown",
   "id": "6110423d",
   "metadata": {},
   "source": [
    "# 8.minhaj Question"
   ]
  },
  {
   "cell_type": "code",
   "execution_count": 15,
   "id": "4c3e8b2b",
   "metadata": {},
   "outputs": [
    {
     "name": "stdout",
     "output_type": "stream",
     "text": [
      "mtwtfss\n"
     ]
    }
   ],
   "source": [
    "days = \"mon, tue, wed, thu, fri, sat, sun\"\n",
    "print(days[::5])\n",
    "\n",
    "\n",
    "#(A)mon tue wed thu fri sat sun\n",
    "#(B)fri\n",
    "#(C)T\n",
    "#(D)mtwtfss"
   ]
  },
  {
   "cell_type": "code",
   "execution_count": 25,
   "id": "041402e5",
   "metadata": {},
   "outputs": [
    {
     "name": "stdout",
     "output_type": "stream",
     "text": [
      "e is afre\n"
     ]
    }
   ],
   "source": [
    "s = \"my name is afreen\"\n",
    "print(s[6:15])"
   ]
  },
  {
   "cell_type": "code",
   "execution_count": 8,
   "id": "4344f316",
   "metadata": {},
   "outputs": [
    {
     "name": "stdout",
     "output_type": "stream",
     "text": [
      "eiay\n"
     ]
    }
   ],
   "source": [
    "s = \"pynative\"\n",
    "print(s[::-2])"
   ]
  },
  {
   "cell_type": "markdown",
   "id": "9662dbf9",
   "metadata": {},
   "source": [
    "# pynative question:"
   ]
  },
  {
   "cell_type": "code",
   "execution_count": null,
   "id": "180e34dc",
   "metadata": {},
   "outputs": [],
   "source": [
    "a = \"Afreen manihar\"\n",
    "b = a.split()\n",
    "print(b)"
   ]
  },
  {
   "cell_type": "code",
   "execution_count": null,
   "id": "b2fcb18f",
   "metadata": {},
   "outputs": [],
   "source": [
    "age = 21\n",
    "txt = \"my name is afreen and  i am  yeaars old {}.\"\n",
    "print(txt.format(age))"
   ]
  }
 ],
 "metadata": {
  "kernelspec": {
   "display_name": "Python 3 (ipykernel)",
   "language": "python",
   "name": "python3"
  },
  "language_info": {
   "codemirror_mode": {
    "name": "ipython",
    "version": 3
   },
   "file_extension": ".py",
   "mimetype": "text/x-python",
   "name": "python",
   "nbconvert_exporter": "python",
   "pygments_lexer": "ipython3",
   "version": "3.10.7"
  }
 },
 "nbformat": 4,
 "nbformat_minor": 5
}
